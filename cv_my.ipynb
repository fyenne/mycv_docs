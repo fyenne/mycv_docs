{
 "cells": [
  {
   "cell_type": "markdown",
   "source": [
    "# some sort of cv"
   ],
   "metadata": {}
  },
  {
   "cell_type": "code",
   "execution_count": 6,
   "source": [
    "import pandas as pd\n",
    "import numpy as np\n",
    "import sys\n",
    "import os\n",
    "import random\n",
    "from pathlib import Path\n",
    "import imageio\n",
    "# import skimage\n",
    "# import skimage.io\n",
    "# import skimage.transform\n",
    "import matplotlib.pyplot as plt\n",
    "import seaborn as sns\n",
    "# import plotly.graph_objs as go\n",
    "# import plotly.figure_factory as ff\n",
    "# from plotly import tools\n",
    "# from plotly.offline import download_plotlyjs, init_notebook_mode, plot, iplot\n",
    "# init_notebook_mode(connected=True)\n",
    "from scipy.io import loadmat\n",
    "from tensorflow.keras.utils import to_categorical\n",
    "\n",
    "from sklearn.model_selection import train_test_split\n",
    "from sklearn.metrics import confusion_matrix, accuracy_score\n",
    "\n",
    "import cv2\n",
    "import tensorflow as tf\n",
    "from tensorflow.keras import layers, models\n",
    "from scipy.io import loadmat\n",
    "# from keras.utils import to_categorical\n",
    "import itertools\n",
    "\n",
    "# from keras.utils import to_categorical\n",
    "# import tensorflow_addons as tfa\n",
    "import warnings\n",
    "warnings.filterwarnings(\"ignore\", category=DeprecationWarning)\n",
    "\n",
    "import PIL\n",
    "import PIL.Image\n",
    "import tensorflow as tf\n",
    "import pathlib"
   ],
   "outputs": [
    {
     "output_type": "error",
     "ename": "ImportError",
     "evalue": "dlopen(/Users/fyenne/miniforge3/envs/siming/lib/python3.8/site-packages/cv2/cv2.cpython-38-darwin.so, 2): Library not loaded: /opt/homebrew/opt/ffmpeg/lib/libavcodec.58.dylib\n  Referenced from: /Users/fyenne/miniforge3/envs/siming/lib/python3.8/site-packages/cv2/cv2.cpython-38-darwin.so\n  Reason: image not found",
     "traceback": [
      "\u001b[0;31m---------------------------------------------------------------------------\u001b[0m",
      "\u001b[0;31mImportError\u001b[0m                               Traceback (most recent call last)",
      "\u001b[0;32m<ipython-input-6-d15986e2da56>\u001b[0m in \u001b[0;36m<module>\u001b[0;34m\u001b[0m\n\u001b[1;32m     22\u001b[0m \u001b[0;32mfrom\u001b[0m \u001b[0msklearn\u001b[0m\u001b[0;34m.\u001b[0m\u001b[0mmetrics\u001b[0m \u001b[0;32mimport\u001b[0m \u001b[0mconfusion_matrix\u001b[0m\u001b[0;34m,\u001b[0m \u001b[0maccuracy_score\u001b[0m\u001b[0;34m\u001b[0m\u001b[0;34m\u001b[0m\u001b[0m\n\u001b[1;32m     23\u001b[0m \u001b[0;34m\u001b[0m\u001b[0m\n\u001b[0;32m---> 24\u001b[0;31m \u001b[0;32mimport\u001b[0m \u001b[0mcv2\u001b[0m\u001b[0;34m\u001b[0m\u001b[0;34m\u001b[0m\u001b[0m\n\u001b[0m\u001b[1;32m     25\u001b[0m \u001b[0;32mimport\u001b[0m \u001b[0mtensorflow\u001b[0m \u001b[0;32mas\u001b[0m \u001b[0mtf\u001b[0m\u001b[0;34m\u001b[0m\u001b[0;34m\u001b[0m\u001b[0m\n\u001b[1;32m     26\u001b[0m \u001b[0;32mfrom\u001b[0m \u001b[0mtensorflow\u001b[0m\u001b[0;34m.\u001b[0m\u001b[0mkeras\u001b[0m \u001b[0;32mimport\u001b[0m \u001b[0mlayers\u001b[0m\u001b[0;34m,\u001b[0m \u001b[0mmodels\u001b[0m\u001b[0;34m\u001b[0m\u001b[0;34m\u001b[0m\u001b[0m\n",
      "\u001b[0;32m~/miniforge3/envs/siming/lib/python3.8/site-packages/cv2/__init__.py\u001b[0m in \u001b[0;36m<module>\u001b[0;34m\u001b[0m\n\u001b[1;32m      3\u001b[0m \u001b[0;32mimport\u001b[0m \u001b[0msys\u001b[0m\u001b[0;34m\u001b[0m\u001b[0;34m\u001b[0m\u001b[0m\n\u001b[1;32m      4\u001b[0m \u001b[0;34m\u001b[0m\u001b[0m\n\u001b[0;32m----> 5\u001b[0;31m \u001b[0;32mfrom\u001b[0m \u001b[0;34m.\u001b[0m\u001b[0mcv2\u001b[0m \u001b[0;32mimport\u001b[0m \u001b[0;34m*\u001b[0m\u001b[0;34m\u001b[0m\u001b[0;34m\u001b[0m\u001b[0m\n\u001b[0m\u001b[1;32m      6\u001b[0m \u001b[0;32mfrom\u001b[0m \u001b[0;34m.\u001b[0m\u001b[0mdata\u001b[0m \u001b[0;32mimport\u001b[0m \u001b[0;34m*\u001b[0m\u001b[0;34m\u001b[0m\u001b[0;34m\u001b[0m\u001b[0m\n\u001b[1;32m      7\u001b[0m \u001b[0;34m\u001b[0m\u001b[0m\n",
      "\u001b[0;31mImportError\u001b[0m: dlopen(/Users/fyenne/miniforge3/envs/siming/lib/python3.8/site-packages/cv2/cv2.cpython-38-darwin.so, 2): Library not loaded: /opt/homebrew/opt/ffmpeg/lib/libavcodec.58.dylib\n  Referenced from: /Users/fyenne/miniforge3/envs/siming/lib/python3.8/site-packages/cv2/cv2.cpython-38-darwin.so\n  Reason: image not found"
     ]
    }
   ],
   "metadata": {}
  },
  {
   "cell_type": "code",
   "execution_count": 14,
   "source": [
    "# Thanks to https://www.kaggle.com/mosius/cnn-over-mnist\n",
    "def load_mnist_dataset():\n",
    "    \"\"\"\n",
    "    Load MNIST-original dataset\n",
    "\n",
    "    Returns:\n",
    "    - mnist_data -- an array of arrays in the shape of (784,)\n",
    "- mnist_label -- an array of labels\n",
    "    - classes -- array of labels classes(a set of labels)\n",
    "    - shape -- shape of data item\n",
    "    - channels_count -- channel count of data images\n",
    "    \"\"\"\n",
    "\n",
    "    mnist = loadmat(\"./mnist-original.mat/mnist-original.mat\")\n",
    "    mnist_data = mnist[\"data\"].T\n",
    "    mnist_data = mnist_data.reshape(len(mnist_data), 28, 28, 1)\n",
    "    mnist_label = mnist[\"label\"][0]\n",
    "    count = len(set(mnist_label))\n",
    "    return mnist_data, mnist_label, count, (28, 28, 1)\n"
   ],
   "outputs": [],
   "metadata": {}
  },
  {
   "cell_type": "code",
   "execution_count": 15,
   "source": [
    "# Download data from MNIST-original dataset\n",
    "data, labels, classes_count, data_shape = load_mnist_dataset()\n",
    "print(\"data shape: \" + str(data.shape))\n",
    "print(\"labels shape: \" + str(labels.shape))\n",
    "print(\"classes count: \" + str(classes_count))"
   ],
   "outputs": [
    {
     "output_type": "stream",
     "name": "stdout",
     "text": [
      "data shape: (70000, 28, 28, 1)\n",
      "labels shape: (70000,)\n",
      "classes count: 10\n"
     ]
    }
   ],
   "metadata": {}
  },
  {
   "cell_type": "code",
   "execution_count": 21,
   "source": [
    "def plot_images_sample(X, Y):\n",
    "    # Draw plot for images sample\n",
    "    \n",
    "    plt.figure(figsize=(10,10))\n",
    "    rand_indicies = np.random.randint(len(X), size=25)\n",
    "    for i in range(25):\n",
    "        plt.subplot(5,5,i+1)\n",
    "        plt.xticks([])\n",
    "        plt.yticks([])\n",
    "        plt.grid(False)\n",
    "        index = rand_indicies[i]\n",
    "        plt.imshow(np.squeeze(X[index]), cmap=plt.cm.binary)\n",
    "        plt.xlabel(Y[index])\n",
    "    plt.show()\n",
    "\n",
    "# Draw plot for images sample\n",
    "# plot_images_sample(data, labels)"
   ],
   "outputs": [],
   "metadata": {}
  },
  {
   "cell_type": "code",
   "execution_count": 25,
   "source": [
    "def fe_data(df, target):\n",
    "    # FE: scaling data and transform target to categorical\n",
    "    df = df / 255.\n",
    "    target = to_categorical(target)\n",
    "    return df, target"
   ],
   "outputs": [],
   "metadata": {}
  },
  {
   "cell_type": "code",
   "execution_count": 26,
   "source": [
    "# FE and data splitting\n",
    "test_size_part = 0.1\n",
    "x_train_orig, x_test_orig, y_train_orig, y_test_orig = train_test_split(data, labels, test_size=test_size_part, shuffle=True)\n",
    "X_train, Y_train = fe_data(x_train_orig, y_train_orig)\n",
    "X_test, Y_test = fe_data(x_test_orig, y_test_orig)"
   ],
   "outputs": [],
   "metadata": {}
  },
  {
   "cell_type": "code",
   "execution_count": 31,
   "source": [
    "data_shape"
   ],
   "outputs": [
    {
     "output_type": "execute_result",
     "data": {
      "text/plain": [
       "(28, 28, 1)"
      ]
     },
     "metadata": {},
     "execution_count": 31
    }
   ],
   "metadata": {}
  },
  {
   "cell_type": "code",
   "execution_count": 30,
   "source": [
    "# Thanks to https://www.kaggle.com/mosius/cnn-over-mnist\n",
    "# Model building\n",
    "model = models.Sequential([\n",
    "        layers.Conv2D(8, kernel_size=(4, 4), \\\n",
    "            strides=(1, 1), padding='same', \n",
    "            activation='relu', input_shape=data_shape),\n",
    "        layers.MaxPooling2D((8, 8), padding='same'),\n",
    "        layers.Conv2D(16, kernel_size=(2, 2), strides=(1, 1), padding='same', activation='relu'),\n",
    "        layers.MaxPooling2D((4, 4), padding='same'),\n",
    "        layers.Flatten(),\n",
    "        layers.Dense(classes_count)\n",
    "    ])\n",
    "\n",
    "model.summary()"
   ],
   "outputs": [
    {
     "output_type": "stream",
     "name": "stdout",
     "text": [
      "Model: \"sequential\"\n",
      "_________________________________________________________________\n",
      "Layer (type)                 Output Shape              Param #   \n",
      "=================================================================\n",
      "conv2d (Conv2D)              (None, 28, 28, 8)         136       \n",
      "_________________________________________________________________\n",
      "max_pooling2d (MaxPooling2D) (None, 4, 4, 8)           0         \n",
      "_________________________________________________________________\n",
      "conv2d_1 (Conv2D)            (None, 4, 4, 16)          528       \n",
      "_________________________________________________________________\n",
      "max_pooling2d_1 (MaxPooling2 (None, 1, 1, 16)          0         \n",
      "_________________________________________________________________\n",
      "flatten (Flatten)            (None, 16)                0         \n",
      "_________________________________________________________________\n",
      "dense (Dense)                (None, 10)                170       \n",
      "=================================================================\n",
      "Total params: 834\n",
      "Trainable params: 834\n",
      "Non-trainable params: 0\n",
      "_________________________________________________________________\n"
     ]
    }
   ],
   "metadata": {}
  },
  {
   "cell_type": "code",
   "execution_count": 32,
   "source": [
    "# Model training\n",
    "epochs_num = 10\n",
    "validation_split_part = 0.2\n",
    "model.compile(optimizer='adam',\n",
    "              loss=tf.keras.losses.CategoricalCrossentropy(\n",
    "                  from_logits=True),\n",
    "              metrics=['accuracy'])\n",
    "\n",
    "history = model.fit(X_train, Y_train, \\\n",
    "    epochs=epochs_num, \n",
    "    validation_split=validation_split_part)"
   ],
   "outputs": [
    {
     "output_type": "stream",
     "name": "stdout",
     "text": [
      "Epoch 1/10\n",
      "1575/1575 [==============================] - 26s 15ms/step - loss: 1.0148 - accuracy: 0.6971 - val_loss: 0.4538 - val_accuracy: 0.8651\n",
      "Epoch 2/10\n",
      "1575/1575 [==============================] - 22s 14ms/step - loss: 0.3824 - accuracy: 0.8845 - val_loss: 0.3271 - val_accuracy: 0.9017\n",
      "Epoch 3/10\n",
      "1575/1575 [==============================] - 23s 15ms/step - loss: 0.2979 - accuracy: 0.9098 - val_loss: 0.2763 - val_accuracy: 0.9167\n",
      "Epoch 4/10\n",
      "1575/1575 [==============================] - 21s 13ms/step - loss: 0.2569 - accuracy: 0.9207 - val_loss: 0.2471 - val_accuracy: 0.9243\n",
      "Epoch 5/10\n",
      "1575/1575 [==============================] - 21s 14ms/step - loss: 0.2302 - accuracy: 0.9291 - val_loss: 0.2247 - val_accuracy: 0.9320\n",
      "Epoch 6/10\n",
      "1575/1575 [==============================] - 23s 15ms/step - loss: 0.2116 - accuracy: 0.9346 - val_loss: 0.2167 - val_accuracy: 0.9353\n",
      "Epoch 7/10\n",
      "1575/1575 [==============================] - 22s 14ms/step - loss: 0.1963 - accuracy: 0.9379 - val_loss: 0.2061 - val_accuracy: 0.9354\n",
      "Epoch 8/10\n",
      "1575/1575 [==============================] - 22s 14ms/step - loss: 0.1855 - accuracy: 0.9425 - val_loss: 0.2080 - val_accuracy: 0.9367\n",
      "Epoch 9/10\n",
      "1575/1575 [==============================] - 25s 16ms/step - loss: 0.1784 - accuracy: 0.9436 - val_loss: 0.1883 - val_accuracy: 0.9416\n",
      "Epoch 10/10\n",
      "1575/1575 [==============================] - 24s 15ms/step - loss: 0.1712 - accuracy: 0.9460 - val_loss: 0.1809 - val_accuracy: 0.9436\n"
     ]
    }
   ],
   "metadata": {}
  },
  {
   "cell_type": "code",
   "execution_count": 33,
   "source": [
    "# Draw plot for CNN training\n",
    "plt.plot(history.history['accuracy'], label='accuracy')\n",
    "plt.plot(history.history['val_accuracy'], label='val_accuracy')\n",
    "plt.xlabel('Epoch')\n",
    "plt.ylabel('Accuracy')\n",
    "plt.ylim([0.5, 1])\n",
    "plt.legend(loc='lower right')\n",
    "plt.show()"
   ],
   "outputs": [
    {
     "output_type": "display_data",
     "data": {
      "image/png": "[encoded data removed]",
      "text/plain": [
       "<Figure size 432x288 with 1 Axes>"
      ]
     },
     "metadata": {
      "needs_background": "light"
     }
    }
   ],
   "metadata": {}
  },
  {
   "cell_type": "code",
   "execution_count": 34,
   "source": [
    "# Print test prediction accuracy\r\n",
    "test_loss, test_acc = model.evaluate(X_test, Y_test, verbose=2)\r\n",
    "print(\"test accuracy: \" + str(test_acc))"
   ],
   "outputs": [
    {
     "output_type": "stream",
     "name": "stdout",
     "text": [
      "219/219 - 1s - loss: 0.1750 - accuracy: 0.9444\n",
      "test accuracy: 0.944428563117981\n"
     ]
    }
   ],
   "metadata": {}
  },
  {
   "cell_type": "code",
   "execution_count": null,
   "source": [],
   "outputs": [],
   "metadata": {}
  }
 ],
 "metadata": {
  "orig_nbformat": 4,
  "language_info": {
   "name": "python3",
   "version": "3.8.6",
   "mimetype": "text/x-python",
   "codemirror_mode": {
    "name": "ipython",
    "version": 3
   },
   "pygments_lexer": "ipython3",
   "nbconvert_exporter": "python",
   "file_extension": ".py"
  },
  "kernelspec": {
   "name": "python386jvsc74a57bd0ce909994499a62a89f8945d91d57c51a920a5cb8f3e61b9dc99d2a0ea5862498",
   "display_name": "Python 3",
   "language": "python3"
  },
  "interpreter": {
   "hash": "47b50d2908d96196e4220cfb4e81faa93803065ea975497e7026f672c1f58470"
  }
 },
 "nbformat": 4,
 "nbformat_minor": 2
}