{
 "cells": [
  {
   "cell_type": "markdown",
   "source": [
    "<h1><center><font size=\"6\">Tensorflow/Keras/GPU for Chinese MNIST Prediction</font></center></h1>\r\n",
    "\r\n",
    "\r\n",
    "# <a id='0'>Content</a>\r\n",
    "\r\n",
    "- <a href='#1'>Introduction</a>  \r\n",
    "- <a href='#2'>Prepare the data analysis</a>   \r\n",
    "- <a href='#3'>Data exploration</a>   \r\n",
    "- <a href='#4'>Characters classification</a>       \r\n",
    "- <a href='#5'>Conclusions</a>       \r\n"
   ],
   "metadata": {
    "_cell_guid": "b1076dfc-b9ad-4769-8c92-a6c4dae69d19",
    "_uuid": "8f2839f25d086af736a60e9eeb907d3b93b6e0e5",
    "papermill": {
     "duration": 0.034653,
     "end_time": "2021-03-20T10:04:18.474476",
     "exception": false,
     "start_time": "2021-03-20T10:04:18.439823",
     "status": "completed"
    },
    "tags": []
   }
  },
  {
   "cell_type": "markdown",
   "source": [
    "# <a id='1'>Introduction</a>  \r\n",
    "\r\n",
    "\r\n",
    "The objective of the Kernel is to take us through the steps of a machine learning analysis.   \r\n",
    "\r\n",
    "\r\n",
    "We will use a dataset with adnotated images of Chinese numbers, handwritten by a number of 100 volunteers, each providing a number of 10 samples, each sample with a complete set of 15 Chinese characters for numbers.\r\n",
    "\r\n",
    "The Chinese characters are the following:\r\n",
    "* 零 - for 0  \r\n",
    "* 一 - for 1\r\n",
    "* 二 - for 2  \r\n",
    "* 三 - for 3  \r\n",
    "* 四 - for 4  \r\n",
    "* 五 - for 5  \r\n",
    "* 六 - for 6  \r\n",
    "* 七 - for 7  \r\n",
    "* 八 - for 8  \r\n",
    "* 九 - for 9  \r\n",
    "* 十 - for 10\r\n",
    "* 百 - for 100\r\n",
    "* 千 - for 1000\r\n",
    "* 万 - for 10 thousands\r\n",
    "* 亿 - for 100 millions\r\n",
    "\r\n",
    "\r\n",
    "\r\n",
    "We start by preparing the analysis (load the libraries and the data), continue with an Exploratory Data Analysis (EDA).\r\n",
    "\r\n",
    "We follow then with features engineering and preparation for creation of a model. The dataset is split in training, validation and test set. \r\n",
    "\r\n",
    "We run a model using Tensorflow through Keras interface, with GPU acceleration, using as well Dropouts, variable learning speed and early stoping based on variation of validation error accuracy.\r\n",
    "\r\n",
    "At the end, we use the best model to predict for the test set.\r\n",
    "\r\n",
    "<a href=\"#0\"><font size=\"1\">Go to top</font></a>  "
   ],
   "metadata": {
    "_uuid": "a8e77ace65f04c89a878bf18249e4d8e23fec996",
    "papermill": {
     "duration": 0.031959,
     "end_time": "2021-03-20T10:04:18.538933",
     "exception": false,
     "start_time": "2021-03-20T10:04:18.506974",
     "status": "completed"
    },
    "tags": []
   }
  },
  {
   "cell_type": "markdown",
   "source": [
    "# <a id='2'>Prepare the data analysis</a>   \n",
    "\n",
    "\n",
    "Before starting the analysis, we need to make few preparation: load the packages, load and inspect the data.\n",
    "\n"
   ],
   "metadata": {
    "_uuid": "4e97555eb77978a29a51c41f39cec67136b18157",
    "papermill": {
     "duration": 0.031926,
     "end_time": "2021-03-20T10:04:18.602569",
     "exception": false,
     "start_time": "2021-03-20T10:04:18.570643",
     "status": "completed"
    },
    "tags": []
   }
  },
  {
   "cell_type": "markdown",
   "source": [
    "# <a id='21'>Load packages</a>\n",
    "\n",
    "We load the packages used for the analysis.\n"
   ],
   "metadata": {
    "_uuid": "cb2e73fe056a3dda7eb48eeac2facf0c441816d1",
    "papermill": {
     "duration": 0.031743,
     "end_time": "2021-03-20T10:04:18.666646",
     "exception": false,
     "start_time": "2021-03-20T10:04:18.634903",
     "status": "completed"
    },
    "tags": []
   }
  },
  {
   "cell_type": "code",
   "execution_count": 32,
   "source": [
    "import pandas as pd\r\n",
    "import numpy as np\r\n",
    "import sys\r\n",
    "import os\r\n",
    "import random\r\n",
    "from pathlib import Path\r\n",
    "import imageio\r\n",
    "import skimage\r\n",
    "import skimage.io\r\n",
    "import skimage.transform\r\n",
    "import matplotlib.pyplot as plt\r\n",
    "import seaborn as sns\r\n",
    "import plotly.graph_objs as go\r\n",
    "import plotly.figure_factory as ff\r\n",
    "from plotly import tools\r\n",
    "from plotly.offline import download_plotlyjs, init_notebook_mode, plot, iplot\r\n",
    "init_notebook_mode(connected=True)\r\n",
    "import scipy\r\n",
    "from sklearn.model_selection import train_test_split\r\n",
    "from sklearn import metrics\r\n",
    "from keras import optimizers\r\n",
    "from keras.models import Sequential\r\n",
    "from keras.layers import Dense, Conv2D, Flatten, MaxPool2D, Dropout, BatchNormalization,LeakyReLU\r\n",
    "from keras.preprocessing.image import ImageDataGenerator\r\n",
    "from keras.callbacks import ModelCheckpoint, Callback, EarlyStopping, ReduceLROnPlateau, LearningRateScheduler\r\n",
    "# from keras.utils import to_categorical\r\n",
    "# import tensorflow_addons as tfa\r\n",
    "import warnings\r\n",
    "warnings.filterwarnings(\"ignore\", category=DeprecationWarning)\r\n",
    "\r\n",
    "import PIL\r\n",
    "import PIL.Image\r\n",
    "import tensorflow as tf\r\n",
    "import pathlib"
   ],
   "outputs": [
    {
     "output_type": "display_data",
     "data": {
      "text/html": [
       "        <script type=\"text/javascript\">\n",
       "        window.PlotlyConfig = {MathJaxConfig: 'local'};\n",
       "        if (window.MathJax) {MathJax.Hub.Config({SVG: {font: \"STIX-Web\"}});}\n",
       "        if (typeof require !== 'undefined') {\n",
       "        require.undef(\"plotly\");\n",
       "        requirejs.config({\n",
       "            paths: {\n",
       "                'plotly': ['https://cdn.plot.ly/plotly-latest.min']\n",
       "            }\n",
       "        });\n",
       "        require(['plotly'], function(Plotly) {\n",
       "            window._Plotly = Plotly;\n",
       "        });\n",
       "        }\n",
       "        </script>\n",
       "        "
      ]
     },
     "metadata": {}
    }
   ],
   "metadata": {
    "_kg_hide-input": true,
    "_uuid": "af08260bfbe163f9132f39d09627899bbc4c1dae",
    "execution": {
     "iopub.execute_input": "2021-03-20T10:04:18.740511Z",
     "iopub.status.busy": "2021-03-20T10:04:18.739858Z",
     "iopub.status.idle": "2021-03-20T10:04:26.493523Z",
     "shell.execute_reply": "2021-03-20T10:04:26.492641Z"
    },
    "papermill": {
     "duration": 7.794968,
     "end_time": "2021-03-20T10:04:26.493634",
     "exception": false,
     "start_time": "2021-03-20T10:04:18.698666",
     "status": "completed"
    },
    "tags": []
   }
  },
  {
   "cell_type": "code",
   "execution_count": 40,
   "source": [
    "data_dir = 'C://Users//dscshap3808//Documents//my_scripts_new//my_docs//chines//data//data//'\r\n",
    "data_dir1 = pathlib.Path(data_dir)"
   ],
   "outputs": [],
   "metadata": {}
  },
  {
   "cell_type": "code",
   "execution_count": 43,
   "source": [
    "# pic = list(data_dir1.glob('*.jpg'));pic\r\n",
    "# PIL.Image.open(str(pic[0]))"
   ],
   "outputs": [],
   "metadata": {}
  },
  {
   "cell_type": "code",
   "execution_count": 44,
   "source": [
    "data_df = pd.read_csv('C://Users//dscshap3808//Documents//my_scripts_new//my_docs//chines//chinese_mnist.csv')"
   ],
   "outputs": [],
   "metadata": {}
  },
  {
   "cell_type": "markdown",
   "source": [
    "We also set a number of parameters for the data and model."
   ],
   "metadata": {
    "papermill": {
     "duration": 0.032186,
     "end_time": "2021-03-20T10:04:26.559101",
     "exception": false,
     "start_time": "2021-03-20T10:04:26.526915",
     "status": "completed"
    },
    "tags": []
   }
  },
  {
   "cell_type": "code",
   "execution_count": 45,
   "source": [
    "# IMAGE_PATH = '..//input//chinese-mnist//data//data//'\r\n",
    "IMAGE_WIDTH = 64\r\n",
    "IMAGE_HEIGHT = 64\r\n",
    "IMAGE_CHANNELS = 1\r\n",
    "RANDOM_STATE = 42\r\n",
    "TEST_SIZE = 0.2\r\n",
    "VAL_SIZE = 0.2\r\n",
    "CONV_2D_DIM_1 = 16\r\n",
    "CONV_2D_DIM_2 = 16\r\n",
    "CONV_2D_DIM_3 = 32\r\n",
    "CONV_2D_DIM_4 = 64\r\n",
    "MAX_POOL_DIM = 2\r\n",
    "KERNEL_SIZE = 3\r\n",
    "BATCH_SIZE = 32\r\n",
    "NO_EPOCHS = 50\r\n",
    "DROPOUT_RATIO = 0.5\r\n",
    "PATIENCE = 5\r\n",
    "VERBOSE = 1"
   ],
   "outputs": [],
   "metadata": {
    "_kg_hide-input": true,
    "_uuid": "a2082fb1e56fc6cfc91d40820b905267bc1ca468",
    "execution": {
     "iopub.execute_input": "2021-03-20T10:04:26.629862Z",
     "iopub.status.busy": "2021-03-20T10:04:26.629279Z",
     "iopub.status.idle": "2021-03-20T10:04:26.632619Z",
     "shell.execute_reply": "2021-03-20T10:04:26.633025Z"
    },
    "papermill": {
     "duration": 0.04189,
     "end_time": "2021-03-20T10:04:26.633131",
     "exception": false,
     "start_time": "2021-03-20T10:04:26.591241",
     "status": "completed"
    },
    "tags": []
   }
  },
  {
   "cell_type": "markdown",
   "source": [
    "<a href=\"#0\"><font size=\"1\">Go to top</font></a>  \n",
    "\n",
    "\n",
    "# <a id='22'>Load the data</a>  \n",
    "\n",
    "Let's see first what data files do we have in the root directory."
   ],
   "metadata": {
    "_uuid": "307f656565365ff05faf226e5a447875dd0dfead",
    "papermill": {
     "duration": 0.03186,
     "end_time": "2021-03-20T10:04:26.697158",
     "exception": false,
     "start_time": "2021-03-20T10:04:26.665298",
     "status": "completed"
    },
    "tags": []
   }
  },
  {
   "cell_type": "markdown",
   "source": [
    "There is a dataset file and a folder with images.  \n",
    "\n",
    "Let's load the dataset file first."
   ],
   "metadata": {
    "_uuid": "241b8735a85a25e16421fda8c35bc3d3c69e7ea8",
    "papermill": {
     "duration": 0.032335,
     "end_time": "2021-03-20T10:04:26.841513",
     "exception": false,
     "start_time": "2021-03-20T10:04:26.809178",
     "status": "completed"
    },
    "tags": []
   }
  },
  {
   "cell_type": "markdown",
   "source": [
    "Let's glimpse the data. First, let's check the number of columns and rows."
   ],
   "metadata": {
    "_uuid": "22b3984ccc3e29daaf77a796d9d7966cd798e1a8",
    "papermill": {
     "duration": 0.032358,
     "end_time": "2021-03-20T10:04:27.003911",
     "exception": false,
     "start_time": "2021-03-20T10:04:26.971553",
     "status": "completed"
    },
    "tags": []
   }
  },
  {
   "cell_type": "code",
   "execution_count": 46,
   "source": [
    "data_df.shape"
   ],
   "outputs": [
    {
     "output_type": "execute_result",
     "data": {
      "text/plain": [
       "(15000, 4)"
      ]
     },
     "metadata": {},
     "execution_count": 46
    }
   ],
   "metadata": {
    "_kg_hide-input": true,
    "_uuid": "535f3f9cea3b26428bec3ede4ed49009bdb91889",
    "execution": {
     "iopub.execute_input": "2021-03-20T10:04:27.073900Z",
     "iopub.status.busy": "2021-03-20T10:04:27.073051Z",
     "iopub.status.idle": "2021-03-20T10:04:27.077025Z",
     "shell.execute_reply": "2021-03-20T10:04:27.076588Z"
    },
    "papermill": {
     "duration": 0.040271,
     "end_time": "2021-03-20T10:04:27.077111",
     "exception": false,
     "start_time": "2021-03-20T10:04:27.036840",
     "status": "completed"
    },
    "tags": []
   }
  },
  {
   "cell_type": "markdown",
   "source": [
    "There are 15000 rows and 5 columns. Let's look to the data."
   ],
   "metadata": {
    "_uuid": "5b4405ddcce03ee722f05234d508188997817f8d",
    "papermill": {
     "duration": 0.032871,
     "end_time": "2021-03-20T10:04:27.142848",
     "exception": false,
     "start_time": "2021-03-20T10:04:27.109977",
     "status": "completed"
    },
    "tags": []
   }
  },
  {
   "cell_type": "code",
   "execution_count": 47,
   "source": [
    "data_df.sample(100).head()"
   ],
   "outputs": [
    {
     "output_type": "execute_result",
     "data": {
      "text/html": [
       "<div>\n",
       "<style scoped>\n",
       "    .dataframe tbody tr th:only-of-type {\n",
       "        vertical-align: middle;\n",
       "    }\n",
       "\n",
       "    .dataframe tbody tr th {\n",
       "        vertical-align: top;\n",
       "    }\n",
       "\n",
       "    .dataframe thead th {\n",
       "        text-align: right;\n",
       "    }\n",
       "</style>\n",
       "<table border=\"1\" class=\"dataframe\">\n",
       "  <thead>\n",
       "    <tr style=\"text-align: right;\">\n",
       "      <th></th>\n",
       "      <th>suite_id</th>\n",
       "      <th>sample_id</th>\n",
       "      <th>code</th>\n",
       "      <th>value</th>\n",
       "    </tr>\n",
       "  </thead>\n",
       "  <tbody>\n",
       "    <tr>\n",
       "      <th>6912</th>\n",
       "      <td>91</td>\n",
       "      <td>2</td>\n",
       "      <td>1</td>\n",
       "      <td>0</td>\n",
       "    </tr>\n",
       "    <tr>\n",
       "      <th>11038</th>\n",
       "      <td>11</td>\n",
       "      <td>8</td>\n",
       "      <td>6</td>\n",
       "      <td>5</td>\n",
       "    </tr>\n",
       "    <tr>\n",
       "      <th>11819</th>\n",
       "      <td>82</td>\n",
       "      <td>9</td>\n",
       "      <td>6</td>\n",
       "      <td>5</td>\n",
       "    </tr>\n",
       "    <tr>\n",
       "      <th>12554</th>\n",
       "      <td>59</td>\n",
       "      <td>4</td>\n",
       "      <td>7</td>\n",
       "      <td>6</td>\n",
       "    </tr>\n",
       "    <tr>\n",
       "      <th>9694</th>\n",
       "      <td>71</td>\n",
       "      <td>4</td>\n",
       "      <td>4</td>\n",
       "      <td>3</td>\n",
       "    </tr>\n",
       "  </tbody>\n",
       "</table>\n",
       "</div>"
      ],
      "text/plain": [
       "       suite_id  sample_id  code  value\n",
       "6912         91          2     1      0\n",
       "11038        11          8     6      5\n",
       "11819        82          9     6      5\n",
       "12554        59          4     7      6\n",
       "9694         71          4     4      3"
      ]
     },
     "metadata": {},
     "execution_count": 47
    }
   ],
   "metadata": {
    "_kg_hide-input": true,
    "_uuid": "4d326f747f0a14580b20c2e034e6c3368edcd18b",
    "execution": {
     "iopub.execute_input": "2021-03-20T10:04:27.220367Z",
     "iopub.status.busy": "2021-03-20T10:04:27.219673Z",
     "iopub.status.idle": "2021-03-20T10:04:27.227758Z",
     "shell.execute_reply": "2021-03-20T10:04:27.227336Z"
    },
    "papermill": {
     "duration": 0.052039,
     "end_time": "2021-03-20T10:04:27.227844",
     "exception": false,
     "start_time": "2021-03-20T10:04:27.175805",
     "status": "completed"
    },
    "tags": []
   }
  },
  {
   "cell_type": "markdown",
   "source": [
    "The data contains the following values:  \n",
    "\n",
    "* suite_id - each suite corresponds to a set of handwritten samples by one volunteer;  \n",
    "* sample_id - each sample wil contain a complete set of 15 characters for Chinese numbers;\n",
    "* code - for each Chinese character we are using a code, with values from 1 to 15;\n",
    "* value - this is the actual numerical value associated with the Chinese character for number;  \n",
    "* character - the Chinese character;  \n",
    "\n",
    "We index the files in the dataset by forming a file name from suite_id, sample_id and code. The pattern for a file is as following:\n",
    "\n",
    "> \"input_{suite_id}_{sample_id}_{code}.jpg\""
   ],
   "metadata": {
    "_uuid": "c97047b17cda76e346e444229485ac91ec966423",
    "papermill": {
     "duration": 0.033388,
     "end_time": "2021-03-20T10:04:27.294478",
     "exception": false,
     "start_time": "2021-03-20T10:04:27.261090",
     "status": "completed"
    },
    "tags": []
   }
  },
  {
   "cell_type": "markdown",
   "source": [
    "<a href=\"#0\"><font size=\"1\">Go to top</font></a>  \n",
    "\n",
    "# <a id='3'>Data exploration</a>  \n",
    "\n",
    "\n",
    "\n",
    "Let's start by checking if there are missing data, unlabeled data or data that is inconsistently labeled. \n"
   ],
   "metadata": {
    "_uuid": "55dd26f919decca9d67daec9895a5d9e11f1d28b",
    "papermill": {
     "duration": 0.033144,
     "end_time": "2021-03-20T10:04:27.361125",
     "exception": false,
     "start_time": "2021-03-20T10:04:27.327981",
     "status": "completed"
    },
    "tags": []
   }
  },
  {
   "cell_type": "markdown",
   "source": [
    "## <a id='31'>Check for missing data</a>  \n",
    "\n",
    "Let's create a function that check for missing data in the dataset."
   ],
   "metadata": {
    "_uuid": "14443450ba96e12ad8e18ce4dd1779f18d5f914b",
    "papermill": {
     "duration": 0.033254,
     "end_time": "2021-03-20T10:04:27.427639",
     "exception": false,
     "start_time": "2021-03-20T10:04:27.394385",
     "status": "completed"
    },
    "tags": []
   }
  },
  {
   "cell_type": "code",
   "execution_count": 48,
   "source": [
    "def missing_data(data):\r\n",
    "    total = data.isnull().sum().sort_values(ascending = False)\r\n",
    "    percent = (data.isnull().sum()/data.isnull().count()*100).sort_values(ascending = False)\r\n",
    "    return pd.concat([total, percent], axis=1, keys=['Total', 'Percent'])\r\n",
    "missing_data(data_df)"
   ],
   "outputs": [
    {
     "output_type": "execute_result",
     "data": {
      "text/html": [
       "<div>\n",
       "<style scoped>\n",
       "    .dataframe tbody tr th:only-of-type {\n",
       "        vertical-align: middle;\n",
       "    }\n",
       "\n",
       "    .dataframe tbody tr th {\n",
       "        vertical-align: top;\n",
       "    }\n",
       "\n",
       "    .dataframe thead th {\n",
       "        text-align: right;\n",
       "    }\n",
       "</style>\n",
       "<table border=\"1\" class=\"dataframe\">\n",
       "  <thead>\n",
       "    <tr style=\"text-align: right;\">\n",
       "      <th></th>\n",
       "      <th>Total</th>\n",
       "      <th>Percent</th>\n",
       "    </tr>\n",
       "  </thead>\n",
       "  <tbody>\n",
       "    <tr>\n",
       "      <th>suite_id</th>\n",
       "      <td>0</td>\n",
       "      <td>0.0</td>\n",
       "    </tr>\n",
       "    <tr>\n",
       "      <th>sample_id</th>\n",
       "      <td>0</td>\n",
       "      <td>0.0</td>\n",
       "    </tr>\n",
       "    <tr>\n",
       "      <th>code</th>\n",
       "      <td>0</td>\n",
       "      <td>0.0</td>\n",
       "    </tr>\n",
       "    <tr>\n",
       "      <th>value</th>\n",
       "      <td>0</td>\n",
       "      <td>0.0</td>\n",
       "    </tr>\n",
       "  </tbody>\n",
       "</table>\n",
       "</div>"
      ],
      "text/plain": [
       "           Total  Percent\n",
       "suite_id       0      0.0\n",
       "sample_id      0      0.0\n",
       "code           0      0.0\n",
       "value          0      0.0"
      ]
     },
     "metadata": {},
     "execution_count": 48
    }
   ],
   "metadata": {
    "_kg_hide-input": true,
    "_uuid": "4544dd470d743c54f815faaee863038ad5e8398f",
    "execution": {
     "iopub.execute_input": "2021-03-20T10:04:27.503325Z",
     "iopub.status.busy": "2021-03-20T10:04:27.501821Z",
     "iopub.status.idle": "2021-03-20T10:04:27.534012Z",
     "shell.execute_reply": "2021-03-20T10:04:27.533194Z"
    },
    "papermill": {
     "duration": 0.072777,
     "end_time": "2021-03-20T10:04:27.534099",
     "exception": false,
     "start_time": "2021-03-20T10:04:27.461322",
     "status": "completed"
    },
    "tags": []
   }
  },
  {
   "cell_type": "markdown",
   "source": [
    "There is no missing (null) data in the dataset. Still it might be that some of the data labels are misspelled; we will check this when we will analyze each data feature."
   ],
   "metadata": {
    "_uuid": "3cb0410e8b9afd75ac7b50d0489d90eda6e1b109",
    "papermill": {
     "duration": 0.034848,
     "end_time": "2021-03-20T10:04:27.604066",
     "exception": false,
     "start_time": "2021-03-20T10:04:27.569218",
     "status": "completed"
    },
    "tags": []
   }
  },
  {
   "cell_type": "markdown",
   "source": [
    "<a href=\"#0\"><font size=\"1\">Go to top</font></a>  \n",
    "\n",
    "## <a id='32'>Explore image data</a>  \n",
    "\n",
    "Let's also check the image data. First, we check how many images are stored in the image folder."
   ],
   "metadata": {
    "_uuid": "1fbab44688fb2ab073aac8f964e534f90ce1dfff",
    "papermill": {
     "duration": 0.034828,
     "end_time": "2021-03-20T10:04:27.673225",
     "exception": false,
     "start_time": "2021-03-20T10:04:27.638397",
     "status": "completed"
    },
    "tags": []
   }
  },
  {
   "cell_type": "code",
   "execution_count": 49,
   "source": [
    "image_files =  os.listdir(data_dir)\r\n",
    "print(\"Number of image files: {}\".format(len(image_files)))"
   ],
   "outputs": [
    {
     "output_type": "stream",
     "name": "stdout",
     "text": [
      "Number of image files: 15000\n"
     ]
    }
   ],
   "metadata": {
    "_kg_hide-input": true,
    "_uuid": "46f15681887fa82ab13224e52df69d91119fc9ad",
    "execution": {
     "iopub.execute_input": "2021-03-20T10:04:27.744590Z",
     "iopub.status.busy": "2021-03-20T10:04:27.744089Z",
     "iopub.status.idle": "2021-03-20T10:04:28.288341Z",
     "shell.execute_reply": "2021-03-20T10:04:28.287381Z"
    },
    "papermill": {
     "duration": 0.581286,
     "end_time": "2021-03-20T10:04:28.288454",
     "exception": false,
     "start_time": "2021-03-20T10:04:27.707168",
     "status": "completed"
    },
    "tags": []
   }
  },
  {
   "cell_type": "markdown",
   "source": [
    "Let's also check that each line in the dataset has a corresponding image in the image list.  \n",
    "First, we will have to compose the name of the file from the indexes."
   ],
   "metadata": {
    "_uuid": "68523860593e9a64059b51d40a316454e6937a68",
    "papermill": {
     "duration": 0.035721,
     "end_time": "2021-03-20T10:04:28.360974",
     "exception": false,
     "start_time": "2021-03-20T10:04:28.325253",
     "status": "completed"
    },
    "tags": []
   }
  },
  {
   "cell_type": "code",
   "execution_count": 50,
   "source": [
    "def create_file_name(x):\r\n",
    "    file_name = f\"input_{x[0]}_{x[1]}_{x[2]}.jpg\"\r\n",
    "    return file_name"
   ],
   "outputs": [],
   "metadata": {
    "execution": {
     "iopub.execute_input": "2021-03-20T10:04:28.434725Z",
     "iopub.status.busy": "2021-03-20T10:04:28.434020Z",
     "iopub.status.idle": "2021-03-20T10:04:28.436648Z",
     "shell.execute_reply": "2021-03-20T10:04:28.437085Z"
    },
    "papermill": {
     "duration": 0.041184,
     "end_time": "2021-03-20T10:04:28.437201",
     "exception": false,
     "start_time": "2021-03-20T10:04:28.396017",
     "status": "completed"
    },
    "tags": []
   }
  },
  {
   "cell_type": "code",
   "execution_count": 51,
   "source": [
    "data_df[\"file\"] = data_df.apply(create_file_name, axis=1)"
   ],
   "outputs": [],
   "metadata": {
    "_kg_hide-input": true,
    "execution": {
     "iopub.execute_input": "2021-03-20T10:04:28.509317Z",
     "iopub.status.busy": "2021-03-20T10:04:28.508610Z",
     "iopub.status.idle": "2021-03-20T10:04:29.299859Z",
     "shell.execute_reply": "2021-03-20T10:04:29.299358Z"
    },
    "papermill": {
     "duration": 0.828662,
     "end_time": "2021-03-20T10:04:29.299956",
     "exception": false,
     "start_time": "2021-03-20T10:04:28.471294",
     "status": "completed"
    },
    "tags": []
   }
  },
  {
   "cell_type": "code",
   "execution_count": 52,
   "source": [
    "file_names = data_df['file']\r\n",
    "print(\"Matching image names: {}\".format(len(set(file_names).intersection(image_files))))"
   ],
   "outputs": [
    {
     "output_type": "stream",
     "name": "stdout",
     "text": [
      "Matching image names: 15000\n"
     ]
    }
   ],
   "metadata": {
    "_kg_hide-input": true,
    "_uuid": "457cd17212904bb96f86ec1770cbdbefc5ffb395",
    "execution": {
     "iopub.execute_input": "2021-03-20T10:04:29.377922Z",
     "iopub.status.busy": "2021-03-20T10:04:29.377326Z",
     "iopub.status.idle": "2021-03-20T10:04:29.380138Z",
     "shell.execute_reply": "2021-03-20T10:04:29.380597Z"
    },
    "papermill": {
     "duration": 0.046488,
     "end_time": "2021-03-20T10:04:29.380713",
     "exception": false,
     "start_time": "2021-03-20T10:04:29.334225",
     "status": "completed"
    },
    "tags": []
   }
  },
  {
   "cell_type": "markdown",
   "source": [
    "Let's also check the image sizes."
   ],
   "metadata": {
    "_uuid": "4b20cd791ede3f23d0c9275aafc75827b9424df4",
    "papermill": {
     "duration": 0.03406,
     "end_time": "2021-03-20T10:04:29.448983",
     "exception": false,
     "start_time": "2021-03-20T10:04:29.414923",
     "status": "completed"
    },
    "tags": []
   }
  },
  {
   "cell_type": "code",
   "execution_count": 53,
   "source": [
    "IMAGE_PATH = data_dir\r\n",
    "def read_image_sizes(file_name):\r\n",
    "    image = skimage.io.imread(IMAGE_PATH + file_name)\r\n",
    "    return list(image.shape)"
   ],
   "outputs": [],
   "metadata": {
    "_kg_hide-input": true,
    "_uuid": "64f4416a8e20197d60f7dbc9dd41a5e73049bfd0",
    "execution": {
     "iopub.execute_input": "2021-03-20T10:04:29.521836Z",
     "iopub.status.busy": "2021-03-20T10:04:29.521195Z",
     "iopub.status.idle": "2021-03-20T10:04:29.524140Z",
     "shell.execute_reply": "2021-03-20T10:04:29.523676Z"
    },
    "papermill": {
     "duration": 0.040798,
     "end_time": "2021-03-20T10:04:29.524220",
     "exception": false,
     "start_time": "2021-03-20T10:04:29.483422",
     "status": "completed"
    },
    "tags": []
   }
  },
  {
   "cell_type": "code",
   "execution_count": 54,
   "source": [
    "m = np.stack(data_df['file'].apply(read_image_sizes))\r\n",
    "df = pd.DataFrame(m,columns=['w','h'])\r\n",
    "data_df = pd.concat([data_df,df],axis=1, sort=False)"
   ],
   "outputs": [],
   "metadata": {
    "_uuid": "2c72a7d125efb51e00a58554692dbd99adc74b55",
    "execution": {
     "iopub.execute_input": "2021-03-20T10:04:29.597457Z",
     "iopub.status.busy": "2021-03-20T10:04:29.596953Z",
     "iopub.status.idle": "2021-03-20T10:06:17.219041Z",
     "shell.execute_reply": "2021-03-20T10:06:17.218482Z"
    },
    "papermill": {
     "duration": 107.660946,
     "end_time": "2021-03-20T10:06:17.219157",
     "exception": false,
     "start_time": "2021-03-20T10:04:29.558211",
     "status": "completed"
    },
    "tags": []
   }
  },
  {
   "cell_type": "code",
   "execution_count": 56,
   "source": [
    "data_df.head()"
   ],
   "outputs": [
    {
     "output_type": "execute_result",
     "data": {
      "text/html": [
       "<div>\n",
       "<style scoped>\n",
       "    .dataframe tbody tr th:only-of-type {\n",
       "        vertical-align: middle;\n",
       "    }\n",
       "\n",
       "    .dataframe tbody tr th {\n",
       "        vertical-align: top;\n",
       "    }\n",
       "\n",
       "    .dataframe thead th {\n",
       "        text-align: right;\n",
       "    }\n",
       "</style>\n",
       "<table border=\"1\" class=\"dataframe\">\n",
       "  <thead>\n",
       "    <tr style=\"text-align: right;\">\n",
       "      <th></th>\n",
       "      <th>suite_id</th>\n",
       "      <th>sample_id</th>\n",
       "      <th>code</th>\n",
       "      <th>value</th>\n",
       "      <th>file</th>\n",
       "      <th>w</th>\n",
       "      <th>h</th>\n",
       "    </tr>\n",
       "  </thead>\n",
       "  <tbody>\n",
       "    <tr>\n",
       "      <th>0</th>\n",
       "      <td>1</td>\n",
       "      <td>1</td>\n",
       "      <td>10</td>\n",
       "      <td>9</td>\n",
       "      <td>input_1_1_10.jpg</td>\n",
       "      <td>64</td>\n",
       "      <td>64</td>\n",
       "    </tr>\n",
       "    <tr>\n",
       "      <th>1</th>\n",
       "      <td>1</td>\n",
       "      <td>10</td>\n",
       "      <td>10</td>\n",
       "      <td>9</td>\n",
       "      <td>input_1_10_10.jpg</td>\n",
       "      <td>64</td>\n",
       "      <td>64</td>\n",
       "    </tr>\n",
       "    <tr>\n",
       "      <th>2</th>\n",
       "      <td>1</td>\n",
       "      <td>2</td>\n",
       "      <td>10</td>\n",
       "      <td>9</td>\n",
       "      <td>input_1_2_10.jpg</td>\n",
       "      <td>64</td>\n",
       "      <td>64</td>\n",
       "    </tr>\n",
       "    <tr>\n",
       "      <th>3</th>\n",
       "      <td>1</td>\n",
       "      <td>3</td>\n",
       "      <td>10</td>\n",
       "      <td>9</td>\n",
       "      <td>input_1_3_10.jpg</td>\n",
       "      <td>64</td>\n",
       "      <td>64</td>\n",
       "    </tr>\n",
       "    <tr>\n",
       "      <th>4</th>\n",
       "      <td>1</td>\n",
       "      <td>4</td>\n",
       "      <td>10</td>\n",
       "      <td>9</td>\n",
       "      <td>input_1_4_10.jpg</td>\n",
       "      <td>64</td>\n",
       "      <td>64</td>\n",
       "    </tr>\n",
       "  </tbody>\n",
       "</table>\n",
       "</div>"
      ],
      "text/plain": [
       "   suite_id  sample_id  code  value               file   w   h\n",
       "0         1          1    10      9   input_1_1_10.jpg  64  64\n",
       "1         1         10    10      9  input_1_10_10.jpg  64  64\n",
       "2         1          2    10      9   input_1_2_10.jpg  64  64\n",
       "3         1          3    10      9   input_1_3_10.jpg  64  64\n",
       "4         1          4    10      9   input_1_4_10.jpg  64  64"
      ]
     },
     "metadata": {},
     "execution_count": 56
    }
   ],
   "metadata": {
    "execution": {
     "iopub.execute_input": "2021-03-20T10:06:17.302819Z",
     "iopub.status.busy": "2021-03-20T10:06:17.302165Z",
     "iopub.status.idle": "2021-03-20T10:06:17.305594Z",
     "shell.execute_reply": "2021-03-20T10:06:17.306015Z"
    },
    "papermill": {
     "duration": 0.050927,
     "end_time": "2021-03-20T10:06:17.306124",
     "exception": false,
     "start_time": "2021-03-20T10:06:17.255197",
     "status": "completed"
    },
    "tags": []
   }
  },
  {
   "cell_type": "markdown",
   "source": [
    "## <a id='33'>Suites</a>  \n",
    "\n",
    "Let's check the suites of the images. For this, we will group by `suite`."
   ],
   "metadata": {
    "_uuid": "a2b88af0c239ca3d9e37e159889836a4f38913c8",
    "papermill": {
     "duration": 0.034928,
     "end_time": "2021-03-20T10:06:17.376074",
     "exception": false,
     "start_time": "2021-03-20T10:06:17.341146",
     "status": "completed"
    },
    "tags": []
   }
  },
  {
   "cell_type": "code",
   "execution_count": 57,
   "source": [
    "print(f\"Number of suites: {data_df.suite_id.nunique()}\")\r\n",
    "print(f\"Samples: {data_df.sample_id.unique()}\")"
   ],
   "outputs": [
    {
     "output_type": "stream",
     "name": "stdout",
     "text": [
      "Number of suites: 100\n",
      "Samples: [ 1 10  2  3  4  5  6  7  8  9]\n"
     ]
    }
   ],
   "metadata": {
    "_kg_hide-input": true,
    "_uuid": "6f1c39d0398275215f92f61542544132a0d574a0",
    "execution": {
     "iopub.execute_input": "2021-03-20T10:06:17.451910Z",
     "iopub.status.busy": "2021-03-20T10:06:17.451275Z",
     "iopub.status.idle": "2021-03-20T10:06:17.456918Z",
     "shell.execute_reply": "2021-03-20T10:06:17.456463Z"
    },
    "papermill": {
     "duration": 0.046141,
     "end_time": "2021-03-20T10:06:17.457009",
     "exception": false,
     "start_time": "2021-03-20T10:06:17.410868",
     "status": "completed"
    },
    "tags": []
   }
  },
  {
   "cell_type": "markdown",
   "source": [
    "We have 100 suites, each with 10 samples. This means a total of 15K images with Chinese characters."
   ],
   "metadata": {
    "_uuid": "fd421a7d1872af204c26588d1a15eaddca08a396",
    "papermill": {
     "duration": 0.035089,
     "end_time": "2021-03-20T10:06:17.527213",
     "exception": false,
     "start_time": "2021-03-20T10:06:17.492124",
     "status": "completed"
    },
    "tags": []
   }
  },
  {
   "cell_type": "markdown",
   "source": [
    "# <a id='4'>Characters classification</a>\n",
    "\n",
    "Our objective is to use the images that we investigated until now to correctly identify the Chinese numbers (characters).   \n",
    "\n",
    "We have a unique dataset and we will have to split this dataset in **train** and **test**. The **train** set will be used for training a model and the test will be used for testing the model accuracy against new, fresh data, not used in training.\n",
    "\n"
   ],
   "metadata": {
    "_uuid": "c2a5e2401b418f1723c859ee9e0b4ad5071e4a82",
    "papermill": {
     "duration": 0.034936,
     "end_time": "2021-03-20T10:06:17.597529",
     "exception": false,
     "start_time": "2021-03-20T10:06:17.562593",
     "status": "completed"
    },
    "tags": []
   }
  },
  {
   "cell_type": "markdown",
   "source": [
    "## <a id='40'>Split the data</a>  \n",
    "\n",
    "First, we split the whole dataset in train and test. We will use **random_state** to ensure reproductibility of results. We also use **stratify** to ensure balanced train/validation/test sets with respect of the labels. \n",
    "\n",
    "The train-test split is **80%** for training set and **20%** for test set.\n"
   ],
   "metadata": {
    "_uuid": "e8c0a6df4bb85bcdf90f7c908decab07304d660f",
    "papermill": {
     "duration": 0.035176,
     "end_time": "2021-03-20T10:06:17.668045",
     "exception": false,
     "start_time": "2021-03-20T10:06:17.632869",
     "status": "completed"
    },
    "tags": []
   }
  },
  {
   "cell_type": "code",
   "execution_count": 58,
   "source": [
    "train_df, test_df = train_test_split(\r\n",
    "    data_df, test_size=TEST_SIZE, \r\n",
    "    random_state=RANDOM_STATE, \r\n",
    "    stratify=data_df[\"code\"].values)"
   ],
   "outputs": [],
   "metadata": {
    "_kg_hide-input": true,
    "_uuid": "352d452d5212d8c9eff074f11820b03a0d44387b",
    "execution": {
     "iopub.execute_input": "2021-03-20T10:06:17.743429Z",
     "iopub.status.busy": "2021-03-20T10:06:17.742893Z",
     "iopub.status.idle": "2021-03-20T10:06:17.760088Z",
     "shell.execute_reply": "2021-03-20T10:06:17.759594Z"
    },
    "papermill": {
     "duration": 0.057116,
     "end_time": "2021-03-20T10:06:17.760176",
     "exception": false,
     "start_time": "2021-03-20T10:06:17.703060",
     "status": "completed"
    },
    "tags": []
   }
  },
  {
   "cell_type": "markdown",
   "source": [
    "Next, we will split further the **train** set in **train** and **validation**. We want to use as well a validation set to be able to measure not only how well fits the model the train data during training (or how well `learns` the training data) but also how well the model is able to generalize so that we are able to understands not only the bias but also the variance of the model.  \n",
    "\n",
    "The train-validation split is **80%** for training set and **20%** for validation set."
   ],
   "metadata": {
    "_uuid": "856060cc500db00e472b7755c91aba20c953a5f6",
    "papermill": {
     "duration": 0.03492,
     "end_time": "2021-03-20T10:06:17.830330",
     "exception": false,
     "start_time": "2021-03-20T10:06:17.795410",
     "status": "completed"
    },
    "tags": []
   }
  },
  {
   "cell_type": "code",
   "execution_count": 59,
   "source": [
    "train_df, val_df = train_test_split(\r\n",
    "    train_df, test_size=VAL_SIZE, \r\n",
    "    random_state=RANDOM_STATE,\r\n",
    "     stratify=train_df[\"code\"].values)"
   ],
   "outputs": [],
   "metadata": {
    "_kg_hide-input": true,
    "_uuid": "83d0be04ae5a4ad5834631bf18e21917d6313bcd",
    "execution": {
     "iopub.execute_input": "2021-03-20T10:06:17.906868Z",
     "iopub.status.busy": "2021-03-20T10:06:17.906049Z",
     "iopub.status.idle": "2021-03-20T10:06:17.919058Z",
     "shell.execute_reply": "2021-03-20T10:06:17.918590Z"
    },
    "papermill": {
     "duration": 0.053404,
     "end_time": "2021-03-20T10:06:17.919148",
     "exception": false,
     "start_time": "2021-03-20T10:06:17.865744",
     "status": "completed"
    },
    "tags": []
   }
  },
  {
   "cell_type": "markdown",
   "source": [
    "Let's check the shape of the three datasets."
   ],
   "metadata": {
    "_kg_hide-input": true,
    "_uuid": "0dcaa8c2c5423ab8fc2898d4a4aa937801592c2c",
    "papermill": {
     "duration": 0.035058,
     "end_time": "2021-03-20T10:06:17.989682",
     "exception": false,
     "start_time": "2021-03-20T10:06:17.954624",
     "status": "completed"
    },
    "tags": []
   }
  },
  {
   "cell_type": "code",
   "execution_count": 60,
   "source": [
    "print(\"Train set rows: {}\".format(train_df.shape[0]))\r\n",
    "print(\"Test  set rows: {}\".format(test_df.shape[0]))\r\n",
    "print(\"Val   set rows: {}\".format(val_df.shape[0]))"
   ],
   "outputs": [
    {
     "output_type": "stream",
     "name": "stdout",
     "text": [
      "Train set rows: 9600\n",
      "Test  set rows: 3000\n",
      "Val   set rows: 2400\n"
     ]
    }
   ],
   "metadata": {
    "_kg_hide-input": true,
    "_uuid": "8247f70b4deb4600fe322f004733234ed37617f0",
    "execution": {
     "iopub.execute_input": "2021-03-20T10:06:18.066254Z",
     "iopub.status.busy": "2021-03-20T10:06:18.065501Z",
     "iopub.status.idle": "2021-03-20T10:06:18.068951Z",
     "shell.execute_reply": "2021-03-20T10:06:18.069329Z"
    },
    "papermill": {
     "duration": 0.044693,
     "end_time": "2021-03-20T10:06:18.069456",
     "exception": false,
     "start_time": "2021-03-20T10:06:18.024763",
     "status": "completed"
    },
    "tags": []
   }
  },
  {
   "cell_type": "markdown",
   "source": [
    "We are now ready to start building our first model."
   ],
   "metadata": {
    "_uuid": "ee768c083f40fcbd109425182bc55ce86173b69d",
    "papermill": {
     "duration": 0.035539,
     "end_time": "2021-03-20T10:06:18.140361",
     "exception": false,
     "start_time": "2021-03-20T10:06:18.104822",
     "status": "completed"
    },
    "tags": []
   }
  },
  {
   "cell_type": "markdown",
   "source": [
    "## <a id='41'>Build the model</a>    \n",
    "\n",
    "\n",
    "Next step in our creation of a predictive model.  \n",
    "\n",
    "Let's define few auxiliary functions that we will need for creation of our models.\n",
    "\n",
    "A function for reading images from the image files, scale all images to 100 x 100 x 3 (channels)."
   ],
   "metadata": {
    "_uuid": "d76e822dd76565d29fcfed323cb034939f307581",
    "papermill": {
     "duration": 0.0352,
     "end_time": "2021-03-20T10:06:18.211024",
     "exception": false,
     "start_time": "2021-03-20T10:06:18.175824",
     "status": "completed"
    },
    "tags": []
   }
  },
  {
   "cell_type": "code",
   "execution_count": 65,
   "source": [
    "IMAGE_PATH + train_df"
   ],
   "outputs": [
    {
     "output_type": "error",
     "ename": "NameError",
     "evalue": "name 'file_name' is not defined",
     "traceback": [
      "\u001b[1;31m---------------------------------------------------------------------------\u001b[0m",
      "\u001b[1;31mNameError\u001b[0m                                 Traceback (most recent call last)",
      "\u001b[1;32mC:\\Users\\DSCSHA~1\\AppData\\Local\\Temp/ipykernel_27028/2395461536.py\u001b[0m in \u001b[0;36m<module>\u001b[1;34m\u001b[0m\n\u001b[1;32m----> 1\u001b[1;33m \u001b[0mIMAGE_PATH\u001b[0m \u001b[1;33m+\u001b[0m \u001b[0mfile_name\u001b[0m\u001b[1;33m\u001b[0m\u001b[1;33m\u001b[0m\u001b[0m\n\u001b[0m",
      "\u001b[1;31mNameError\u001b[0m: name 'file_name' is not defined"
     ]
    }
   ],
   "metadata": {}
  },
  {
   "cell_type": "code",
   "execution_count": 61,
   "source": [
    "def read_image(file_name):\r\n",
    "    image = skimage.io.imread(IMAGE_PATH + file_name)\r\n",
    "    image = skimage.transform.resize(image, (IMAGE_WIDTH, IMAGE_HEIGHT, 1), mode='reflect')\r\n",
    "    return image[:,:,:]"
   ],
   "outputs": [],
   "metadata": {
    "_kg_hide-input": true,
    "_uuid": "f80b4e20e98ce5bf328fba3a22457c4a994de06b",
    "execution": {
     "iopub.execute_input": "2021-03-20T10:06:18.289445Z",
     "iopub.status.busy": "2021-03-20T10:06:18.288240Z",
     "iopub.status.idle": "2021-03-20T10:06:18.290680Z",
     "shell.execute_reply": "2021-03-20T10:06:18.291154Z"
    },
    "papermill": {
     "duration": 0.04416,
     "end_time": "2021-03-20T10:06:18.291262",
     "exception": false,
     "start_time": "2021-03-20T10:06:18.247102",
     "status": "completed"
    },
    "tags": []
   }
  },
  {
   "cell_type": "markdown",
   "source": [
    "A function to create the dummy variables corresponding to the categorical target variable."
   ],
   "metadata": {
    "_uuid": "e396e0cd23633af2169e4d50985f1987654205a9",
    "papermill": {
     "duration": 0.072232,
     "end_time": "2021-03-20T10:06:18.398895",
     "exception": false,
     "start_time": "2021-03-20T10:06:18.326663",
     "status": "completed"
    },
    "tags": []
   }
  },
  {
   "cell_type": "code",
   "execution_count": 62,
   "source": [
    "def categories_encoder(dataset, var='character'):\r\n",
    "    X = np.stack(dataset['file'].apply(read_image))\r\n",
    "    y = pd.get_dummies(dataset[var], drop_first=False)\r\n",
    "    return X, y"
   ],
   "outputs": [],
   "metadata": {
    "_kg_hide-input": true,
    "_uuid": "0f7a2146ca93aef9367ecd64300980005d89911b",
    "execution": {
     "iopub.execute_input": "2021-03-20T10:06:18.476343Z",
     "iopub.status.busy": "2021-03-20T10:06:18.475577Z",
     "iopub.status.idle": "2021-03-20T10:06:18.478408Z",
     "shell.execute_reply": "2021-03-20T10:06:18.477890Z"
    },
    "papermill": {
     "duration": 0.044005,
     "end_time": "2021-03-20T10:06:18.478508",
     "exception": false,
     "start_time": "2021-03-20T10:06:18.434503",
     "status": "completed"
    },
    "tags": []
   }
  },
  {
   "cell_type": "markdown",
   "source": [
    "Let's populate now the train, val and test sets with the image data and create the  dummy variables corresponding to the categorical target variable, in our case `subspecies`."
   ],
   "metadata": {
    "_kg_hide-input": true,
    "_uuid": "b40c205d5189b23cbbc4ef0cda8798721d504ff9",
    "papermill": {
     "duration": 0.03513,
     "end_time": "2021-03-20T10:06:18.549806",
     "exception": false,
     "start_time": "2021-03-20T10:06:18.514676",
     "status": "completed"
    },
    "tags": []
   }
  },
  {
   "cell_type": "code",
   "execution_count": 63,
   "source": [
    "X_train, y_train = categories_encoder(train_df)\r\n",
    "X_val, y_val = categories_encoder(val_df)\r\n",
    "X_test, y_test = categories_encoder(test_df)"
   ],
   "outputs": [
    {
     "output_type": "error",
     "ename": "KeyError",
     "evalue": "'character'",
     "traceback": [
      "\u001b[1;31m---------------------------------------------------------------------------\u001b[0m",
      "\u001b[1;31mKeyError\u001b[0m                                  Traceback (most recent call last)",
      "\u001b[1;32m~\\Miniconda3\\envs\\siming\\lib\\site-packages\\pandas\\core\\indexes\\base.py\u001b[0m in \u001b[0;36mget_loc\u001b[1;34m(self, key, method, tolerance)\u001b[0m\n\u001b[0;32m   3360\u001b[0m             \u001b[1;32mtry\u001b[0m\u001b[1;33m:\u001b[0m\u001b[1;33m\u001b[0m\u001b[1;33m\u001b[0m\u001b[0m\n\u001b[1;32m-> 3361\u001b[1;33m                 \u001b[1;32mreturn\u001b[0m \u001b[0mself\u001b[0m\u001b[1;33m.\u001b[0m\u001b[0m_engine\u001b[0m\u001b[1;33m.\u001b[0m\u001b[0mget_loc\u001b[0m\u001b[1;33m(\u001b[0m\u001b[0mcasted_key\u001b[0m\u001b[1;33m)\u001b[0m\u001b[1;33m\u001b[0m\u001b[1;33m\u001b[0m\u001b[0m\n\u001b[0m\u001b[0;32m   3362\u001b[0m             \u001b[1;32mexcept\u001b[0m \u001b[0mKeyError\u001b[0m \u001b[1;32mas\u001b[0m \u001b[0merr\u001b[0m\u001b[1;33m:\u001b[0m\u001b[1;33m\u001b[0m\u001b[1;33m\u001b[0m\u001b[0m\n",
      "\u001b[1;32m~\\Miniconda3\\envs\\siming\\lib\\site-packages\\pandas\\_libs\\index.pyx\u001b[0m in \u001b[0;36mpandas._libs.index.IndexEngine.get_loc\u001b[1;34m()\u001b[0m\n",
      "\u001b[1;32m~\\Miniconda3\\envs\\siming\\lib\\site-packages\\pandas\\_libs\\index.pyx\u001b[0m in \u001b[0;36mpandas._libs.index.IndexEngine.get_loc\u001b[1;34m()\u001b[0m\n",
      "\u001b[1;32mpandas\\_libs\\hashtable_class_helper.pxi\u001b[0m in \u001b[0;36mpandas._libs.hashtable.PyObjectHashTable.get_item\u001b[1;34m()\u001b[0m\n",
      "\u001b[1;32mpandas\\_libs\\hashtable_class_helper.pxi\u001b[0m in \u001b[0;36mpandas._libs.hashtable.PyObjectHashTable.get_item\u001b[1;34m()\u001b[0m\n",
      "\u001b[1;31mKeyError\u001b[0m: 'character'",
      "\nThe above exception was the direct cause of the following exception:\n",
      "\u001b[1;31mKeyError\u001b[0m                                  Traceback (most recent call last)",
      "\u001b[1;32mC:\\Users\\DSCSHA~1\\AppData\\Local\\Temp/ipykernel_27028/1992503790.py\u001b[0m in \u001b[0;36m<module>\u001b[1;34m\u001b[0m\n\u001b[1;32m----> 1\u001b[1;33m \u001b[0mX_train\u001b[0m\u001b[1;33m,\u001b[0m \u001b[0my_train\u001b[0m \u001b[1;33m=\u001b[0m \u001b[0mcategories_encoder\u001b[0m\u001b[1;33m(\u001b[0m\u001b[0mtrain_df\u001b[0m\u001b[1;33m)\u001b[0m\u001b[1;33m\u001b[0m\u001b[1;33m\u001b[0m\u001b[0m\n\u001b[0m\u001b[0;32m      2\u001b[0m \u001b[0mX_val\u001b[0m\u001b[1;33m,\u001b[0m \u001b[0my_val\u001b[0m \u001b[1;33m=\u001b[0m \u001b[0mcategories_encoder\u001b[0m\u001b[1;33m(\u001b[0m\u001b[0mval_df\u001b[0m\u001b[1;33m)\u001b[0m\u001b[1;33m\u001b[0m\u001b[1;33m\u001b[0m\u001b[0m\n\u001b[0;32m      3\u001b[0m \u001b[0mX_test\u001b[0m\u001b[1;33m,\u001b[0m \u001b[0my_test\u001b[0m \u001b[1;33m=\u001b[0m \u001b[0mcategories_encoder\u001b[0m\u001b[1;33m(\u001b[0m\u001b[0mtest_df\u001b[0m\u001b[1;33m)\u001b[0m\u001b[1;33m\u001b[0m\u001b[1;33m\u001b[0m\u001b[0m\n",
      "\u001b[1;32mC:\\Users\\DSCSHA~1\\AppData\\Local\\Temp/ipykernel_27028/363698838.py\u001b[0m in \u001b[0;36mcategories_encoder\u001b[1;34m(dataset, var)\u001b[0m\n\u001b[0;32m      1\u001b[0m \u001b[1;32mdef\u001b[0m \u001b[0mcategories_encoder\u001b[0m\u001b[1;33m(\u001b[0m\u001b[0mdataset\u001b[0m\u001b[1;33m,\u001b[0m \u001b[0mvar\u001b[0m\u001b[1;33m=\u001b[0m\u001b[1;34m'character'\u001b[0m\u001b[1;33m)\u001b[0m\u001b[1;33m:\u001b[0m\u001b[1;33m\u001b[0m\u001b[1;33m\u001b[0m\u001b[0m\n\u001b[0;32m      2\u001b[0m     \u001b[0mX\u001b[0m \u001b[1;33m=\u001b[0m \u001b[0mnp\u001b[0m\u001b[1;33m.\u001b[0m\u001b[0mstack\u001b[0m\u001b[1;33m(\u001b[0m\u001b[0mdataset\u001b[0m\u001b[1;33m[\u001b[0m\u001b[1;34m'file'\u001b[0m\u001b[1;33m]\u001b[0m\u001b[1;33m.\u001b[0m\u001b[0mapply\u001b[0m\u001b[1;33m(\u001b[0m\u001b[0mread_image\u001b[0m\u001b[1;33m)\u001b[0m\u001b[1;33m)\u001b[0m\u001b[1;33m\u001b[0m\u001b[1;33m\u001b[0m\u001b[0m\n\u001b[1;32m----> 3\u001b[1;33m     \u001b[0my\u001b[0m \u001b[1;33m=\u001b[0m \u001b[0mpd\u001b[0m\u001b[1;33m.\u001b[0m\u001b[0mget_dummies\u001b[0m\u001b[1;33m(\u001b[0m\u001b[0mdataset\u001b[0m\u001b[1;33m[\u001b[0m\u001b[0mvar\u001b[0m\u001b[1;33m]\u001b[0m\u001b[1;33m,\u001b[0m \u001b[0mdrop_first\u001b[0m\u001b[1;33m=\u001b[0m\u001b[1;32mFalse\u001b[0m\u001b[1;33m)\u001b[0m\u001b[1;33m\u001b[0m\u001b[1;33m\u001b[0m\u001b[0m\n\u001b[0m\u001b[0;32m      4\u001b[0m     \u001b[1;32mreturn\u001b[0m \u001b[0mX\u001b[0m\u001b[1;33m,\u001b[0m \u001b[0my\u001b[0m\u001b[1;33m\u001b[0m\u001b[1;33m\u001b[0m\u001b[0m\n",
      "\u001b[1;32m~\\Miniconda3\\envs\\siming\\lib\\site-packages\\pandas\\core\\frame.py\u001b[0m in \u001b[0;36m__getitem__\u001b[1;34m(self, key)\u001b[0m\n\u001b[0;32m   3453\u001b[0m             \u001b[1;32mif\u001b[0m \u001b[0mself\u001b[0m\u001b[1;33m.\u001b[0m\u001b[0mcolumns\u001b[0m\u001b[1;33m.\u001b[0m\u001b[0mnlevels\u001b[0m \u001b[1;33m>\u001b[0m \u001b[1;36m1\u001b[0m\u001b[1;33m:\u001b[0m\u001b[1;33m\u001b[0m\u001b[1;33m\u001b[0m\u001b[0m\n\u001b[0;32m   3454\u001b[0m                 \u001b[1;32mreturn\u001b[0m \u001b[0mself\u001b[0m\u001b[1;33m.\u001b[0m\u001b[0m_getitem_multilevel\u001b[0m\u001b[1;33m(\u001b[0m\u001b[0mkey\u001b[0m\u001b[1;33m)\u001b[0m\u001b[1;33m\u001b[0m\u001b[1;33m\u001b[0m\u001b[0m\n\u001b[1;32m-> 3455\u001b[1;33m             \u001b[0mindexer\u001b[0m \u001b[1;33m=\u001b[0m \u001b[0mself\u001b[0m\u001b[1;33m.\u001b[0m\u001b[0mcolumns\u001b[0m\u001b[1;33m.\u001b[0m\u001b[0mget_loc\u001b[0m\u001b[1;33m(\u001b[0m\u001b[0mkey\u001b[0m\u001b[1;33m)\u001b[0m\u001b[1;33m\u001b[0m\u001b[1;33m\u001b[0m\u001b[0m\n\u001b[0m\u001b[0;32m   3456\u001b[0m             \u001b[1;32mif\u001b[0m \u001b[0mis_integer\u001b[0m\u001b[1;33m(\u001b[0m\u001b[0mindexer\u001b[0m\u001b[1;33m)\u001b[0m\u001b[1;33m:\u001b[0m\u001b[1;33m\u001b[0m\u001b[1;33m\u001b[0m\u001b[0m\n\u001b[0;32m   3457\u001b[0m                 \u001b[0mindexer\u001b[0m \u001b[1;33m=\u001b[0m \u001b[1;33m[\u001b[0m\u001b[0mindexer\u001b[0m\u001b[1;33m]\u001b[0m\u001b[1;33m\u001b[0m\u001b[1;33m\u001b[0m\u001b[0m\n",
      "\u001b[1;32m~\\Miniconda3\\envs\\siming\\lib\\site-packages\\pandas\\core\\indexes\\base.py\u001b[0m in \u001b[0;36mget_loc\u001b[1;34m(self, key, method, tolerance)\u001b[0m\n\u001b[0;32m   3361\u001b[0m                 \u001b[1;32mreturn\u001b[0m \u001b[0mself\u001b[0m\u001b[1;33m.\u001b[0m\u001b[0m_engine\u001b[0m\u001b[1;33m.\u001b[0m\u001b[0mget_loc\u001b[0m\u001b[1;33m(\u001b[0m\u001b[0mcasted_key\u001b[0m\u001b[1;33m)\u001b[0m\u001b[1;33m\u001b[0m\u001b[1;33m\u001b[0m\u001b[0m\n\u001b[0;32m   3362\u001b[0m             \u001b[1;32mexcept\u001b[0m \u001b[0mKeyError\u001b[0m \u001b[1;32mas\u001b[0m \u001b[0merr\u001b[0m\u001b[1;33m:\u001b[0m\u001b[1;33m\u001b[0m\u001b[1;33m\u001b[0m\u001b[0m\n\u001b[1;32m-> 3363\u001b[1;33m                 \u001b[1;32mraise\u001b[0m \u001b[0mKeyError\u001b[0m\u001b[1;33m(\u001b[0m\u001b[0mkey\u001b[0m\u001b[1;33m)\u001b[0m \u001b[1;32mfrom\u001b[0m \u001b[0merr\u001b[0m\u001b[1;33m\u001b[0m\u001b[1;33m\u001b[0m\u001b[0m\n\u001b[0m\u001b[0;32m   3364\u001b[0m \u001b[1;33m\u001b[0m\u001b[0m\n\u001b[0;32m   3365\u001b[0m         \u001b[1;32mif\u001b[0m \u001b[0mis_scalar\u001b[0m\u001b[1;33m(\u001b[0m\u001b[0mkey\u001b[0m\u001b[1;33m)\u001b[0m \u001b[1;32mand\u001b[0m \u001b[0misna\u001b[0m\u001b[1;33m(\u001b[0m\u001b[0mkey\u001b[0m\u001b[1;33m)\u001b[0m \u001b[1;32mand\u001b[0m \u001b[1;32mnot\u001b[0m \u001b[0mself\u001b[0m\u001b[1;33m.\u001b[0m\u001b[0mhasnans\u001b[0m\u001b[1;33m:\u001b[0m\u001b[1;33m\u001b[0m\u001b[1;33m\u001b[0m\u001b[0m\n",
      "\u001b[1;31mKeyError\u001b[0m: 'character'"
     ]
    }
   ],
   "metadata": {
    "_kg_hide-input": true,
    "_uuid": "70acefcd6dc5d494b1c7db6dc90bae5f8c856d94",
    "execution": {
     "iopub.execute_input": "2021-03-20T10:06:18.626247Z",
     "iopub.status.busy": "2021-03-20T10:06:18.625387Z",
     "iopub.status.idle": "2021-03-20T10:06:52.837359Z",
     "shell.execute_reply": "2021-03-20T10:06:52.836657Z"
    },
    "papermill": {
     "duration": 34.252251,
     "end_time": "2021-03-20T10:06:52.837483",
     "exception": false,
     "start_time": "2021-03-20T10:06:18.585232",
     "status": "completed"
    },
    "tags": []
   }
  },
  {
   "cell_type": "markdown",
   "source": [
    "Now we are ready to start creating our model.  "
   ],
   "metadata": {
    "_uuid": "5093354dc9c7f0510ba54a254690db45e38d0bcc",
    "papermill": {
     "duration": 0.035353,
     "end_time": "2021-03-20T10:06:52.908716",
     "exception": false,
     "start_time": "2021-03-20T10:06:52.873363",
     "status": "completed"
    },
    "tags": []
   }
  },
  {
   "cell_type": "code",
   "execution_count": 22,
   "source": [
    "model=Sequential()\r\n",
    "model.add(Conv2D(CONV_2D_DIM_1, kernel_size=KERNEL_SIZE, input_shape=(IMAGE_WIDTH, IMAGE_HEIGHT,IMAGE_CHANNELS), activation='relu', padding='same'))\r\n",
    "model.add(Conv2D(CONV_2D_DIM_2, kernel_size=KERNEL_SIZE, activation='relu', padding='same'))\r\n",
    "model.add(MaxPool2D(MAX_POOL_DIM))\r\n",
    "model.add(Dropout(DROPOUT_RATIO))\r\n",
    "model.add(Conv2D(CONV_2D_DIM_2, kernel_size=KERNEL_SIZE, activation='relu', padding='same'))\r\n",
    "model.add(Conv2D(CONV_2D_DIM_2, kernel_size=KERNEL_SIZE, activation='relu', padding='same'))\r\n",
    "model.add(Dropout(DROPOUT_RATIO))\r\n",
    "model.add(Flatten())\r\n",
    "model.add(Dense(y_train.columns.size, activation='softmax'))\r\n",
    "model.compile(optimizer='adam', loss='categorical_crossentropy', metrics=['accuracy'])"
   ],
   "outputs": [],
   "metadata": {
    "execution": {
     "iopub.execute_input": "2021-03-20T10:06:52.988761Z",
     "iopub.status.busy": "2021-03-20T10:06:52.988234Z",
     "iopub.status.idle": "2021-03-20T10:06:55.831884Z",
     "shell.execute_reply": "2021-03-20T10:06:55.831075Z"
    },
    "papermill": {
     "duration": 2.887998,
     "end_time": "2021-03-20T10:06:55.831993",
     "exception": false,
     "start_time": "2021-03-20T10:06:52.943995",
     "status": "completed"
    },
    "tags": []
   }
  },
  {
   "cell_type": "code",
   "execution_count": 23,
   "source": [
    "model.summary()"
   ],
   "outputs": [
    {
     "output_type": "stream",
     "name": "stdout",
     "text": [
      "Model: \"sequential\"\n",
      "_________________________________________________________________\n",
      "Layer (type)                 Output Shape              Param #   \n",
      "=================================================================\n",
      "conv2d (Conv2D)              (None, 64, 64, 16)        160       \n",
      "_________________________________________________________________\n",
      "conv2d_1 (Conv2D)            (None, 64, 64, 16)        2320      \n",
      "_________________________________________________________________\n",
      "max_pooling2d (MaxPooling2D) (None, 32, 32, 16)        0         \n",
      "_________________________________________________________________\n",
      "dropout (Dropout)            (None, 32, 32, 16)        0         \n",
      "_________________________________________________________________\n",
      "conv2d_2 (Conv2D)            (None, 32, 32, 16)        2320      \n",
      "_________________________________________________________________\n",
      "conv2d_3 (Conv2D)            (None, 32, 32, 16)        2320      \n",
      "_________________________________________________________________\n",
      "dropout_1 (Dropout)          (None, 32, 32, 16)        0         \n",
      "_________________________________________________________________\n",
      "flatten (Flatten)            (None, 16384)             0         \n",
      "_________________________________________________________________\n",
      "dense (Dense)                (None, 15)                245775    \n",
      "=================================================================\n",
      "Total params: 252,895\n",
      "Trainable params: 252,895\n",
      "Non-trainable params: 0\n",
      "_________________________________________________________________\n"
     ]
    }
   ],
   "metadata": {
    "_kg_hide-input": true,
    "_uuid": "046612eda2408801ded03cc6a5e2357a99298969",
    "execution": {
     "iopub.execute_input": "2021-03-20T10:06:55.912119Z",
     "iopub.status.busy": "2021-03-20T10:06:55.907361Z",
     "iopub.status.idle": "2021-03-20T10:06:55.916981Z",
     "shell.execute_reply": "2021-03-20T10:06:55.916526Z"
    },
    "papermill": {
     "duration": 0.049021,
     "end_time": "2021-03-20T10:06:55.917065",
     "exception": false,
     "start_time": "2021-03-20T10:06:55.868044",
     "status": "completed"
    },
    "tags": []
   }
  },
  {
   "cell_type": "markdown",
   "source": [
    "We are using the predefined epoch number for this experiment (50 steps).\n",
    "\n",
    "The modes uses 2 Convolutional layers, followed by a MaxPool, a Dropout, then another 2 Convolutional layers and a Dropout. Then follows a Flatten and a Dense layer. We compile the model with **Adam** optimizer and use a categorical crossentropy loss functions. The metric used is accuracy.\n",
    "\n",
    "We are using as well a learning function with variable learning rate (depends on the epoch number). \n",
    "\n",
    "At each training epoch, we evaluate the validation error and, based on its evolution, we decide if we stop the training or continue (with a prededined `patience` factor - i.e. we only stop if validation is not improving for a certain number of steps (we set the patience to 5 steps). If at a certain step the validation error is improving, we save the current model. We then will load the best model and use it for prediction of test set."
   ],
   "metadata": {
    "_uuid": "0149020f748dc9eaa89ebf732829031d6d9d35a2",
    "papermill": {
     "duration": 0.047839,
     "end_time": "2021-03-20T10:06:56.000595",
     "exception": false,
     "start_time": "2021-03-20T10:06:55.952756",
     "status": "completed"
    },
    "tags": []
   }
  },
  {
   "cell_type": "code",
   "execution_count": 24,
   "source": [
    "annealer = LearningRateScheduler(lambda x: 1e-3 * 0.99 ** (x+NO_EPOCHS))\n",
    "earlystopper = EarlyStopping(monitor='loss', patience=PATIENCE, verbose=VERBOSE)\n",
    "checkpointer = ModelCheckpoint('best_model.h5',\n",
    "                                monitor='val_accuracy',\n",
    "                                verbose=VERBOSE,\n",
    "                                save_best_only=True,\n",
    "                                save_weights_only=True)"
   ],
   "outputs": [],
   "metadata": {
    "execution": {
     "iopub.execute_input": "2021-03-20T10:06:56.147133Z",
     "iopub.status.busy": "2021-03-20T10:06:56.146292Z",
     "iopub.status.idle": "2021-03-20T10:06:56.152633Z",
     "shell.execute_reply": "2021-03-20T10:06:56.153230Z"
    },
    "papermill": {
     "duration": 0.091428,
     "end_time": "2021-03-20T10:06:56.153390",
     "exception": false,
     "start_time": "2021-03-20T10:06:56.061962",
     "status": "completed"
    },
    "tags": []
   }
  },
  {
   "cell_type": "code",
   "execution_count": 25,
   "source": [
    "train_model  = model.fit(X_train, y_train,\n",
    "                  batch_size=BATCH_SIZE,\n",
    "                  epochs=NO_EPOCHS,\n",
    "                  verbose=1,\n",
    "                  validation_data=(X_val, y_val),\n",
    "                  callbacks=[earlystopper, checkpointer, annealer])"
   ],
   "outputs": [
    {
     "output_type": "stream",
     "name": "stdout",
     "text": [
      "Epoch 1/50\n",
      "294/300 [============================>.] - ETA: 0s - loss: 1.8142 - accuracy: 0.4387\n",
      "Epoch 00001: val_accuracy improved from -inf to 0.65125, saving model to best_model.h5\n",
      "300/300 [==============================] - 2s 6ms/step - loss: 1.8027 - accuracy: 0.4428 - val_loss: 1.1597 - val_accuracy: 0.6513 - lr: 6.0501e-04\n",
      "Epoch 2/50\n",
      "300/300 [==============================] - ETA: 0s - loss: 0.8962 - accuracy: 0.7182\n",
      "Epoch 00002: val_accuracy improved from 0.65125 to 0.79750, saving model to best_model.h5\n",
      "300/300 [==============================] - 2s 5ms/step - loss: 0.8962 - accuracy: 0.7182 - val_loss: 0.6821 - val_accuracy: 0.7975 - lr: 5.9896e-04\n",
      "Epoch 3/50\n",
      "295/300 [============================>.] - ETA: 0s - loss: 0.6281 - accuracy: 0.8020\n",
      "Epoch 00003: val_accuracy improved from 0.79750 to 0.83750, saving model to best_model.h5\n",
      "300/300 [==============================] - 2s 5ms/step - loss: 0.6267 - accuracy: 0.8018 - val_loss: 0.5104 - val_accuracy: 0.8375 - lr: 5.9297e-04\n",
      "Epoch 4/50\n",
      "297/300 [============================>.] - ETA: 0s - loss: 0.4795 - accuracy: 0.8431\n",
      "Epoch 00004: val_accuracy improved from 0.83750 to 0.88125, saving model to best_model.h5\n",
      "300/300 [==============================] - 2s 5ms/step - loss: 0.4781 - accuracy: 0.8435 - val_loss: 0.3842 - val_accuracy: 0.8813 - lr: 5.8704e-04\n",
      "Epoch 5/50\n",
      "293/300 [============================>.] - ETA: 0s - loss: 0.3776 - accuracy: 0.8757\n",
      "Epoch 00005: val_accuracy improved from 0.88125 to 0.90625, saving model to best_model.h5\n",
      "300/300 [==============================] - 2s 6ms/step - loss: 0.3789 - accuracy: 0.8758 - val_loss: 0.3138 - val_accuracy: 0.9062 - lr: 5.8117e-04\n",
      "Epoch 6/50\n",
      "296/300 [============================>.] - ETA: 0s - loss: 0.3074 - accuracy: 0.8947\n",
      "Epoch 00006: val_accuracy improved from 0.90625 to 0.91458, saving model to best_model.h5\n",
      "300/300 [==============================] - 2s 5ms/step - loss: 0.3080 - accuracy: 0.8944 - val_loss: 0.2856 - val_accuracy: 0.9146 - lr: 5.7535e-04\n",
      "Epoch 7/50\n",
      "294/300 [============================>.] - ETA: 0s - loss: 0.2677 - accuracy: 0.9102\n",
      "Epoch 00007: val_accuracy improved from 0.91458 to 0.91917, saving model to best_model.h5\n",
      "300/300 [==============================] - 2s 5ms/step - loss: 0.2680 - accuracy: 0.9106 - val_loss: 0.2650 - val_accuracy: 0.9192 - lr: 5.6960e-04\n",
      "Epoch 8/50\n",
      "299/300 [============================>.] - ETA: 0s - loss: 0.2403 - accuracy: 0.9231\n",
      "Epoch 00008: val_accuracy improved from 0.91917 to 0.93333, saving model to best_model.h5\n",
      "300/300 [==============================] - 2s 5ms/step - loss: 0.2401 - accuracy: 0.9232 - val_loss: 0.2264 - val_accuracy: 0.9333 - lr: 5.6391e-04\n",
      "Epoch 9/50\n",
      "299/300 [============================>.] - ETA: 0s - loss: 0.2169 - accuracy: 0.9254\n",
      "Epoch 00009: val_accuracy did not improve from 0.93333\n",
      "300/300 [==============================] - 2s 5ms/step - loss: 0.2167 - accuracy: 0.9254 - val_loss: 0.2411 - val_accuracy: 0.9321 - lr: 5.5827e-04\n",
      "Epoch 10/50\n",
      "296/300 [============================>.] - ETA: 0s - loss: 0.1873 - accuracy: 0.9360\n",
      "Epoch 00010: val_accuracy improved from 0.93333 to 0.93750, saving model to best_model.h5\n",
      "300/300 [==============================] - 2s 5ms/step - loss: 0.1864 - accuracy: 0.9364 - val_loss: 0.2186 - val_accuracy: 0.9375 - lr: 5.5268e-04\n",
      "Epoch 11/50\n",
      "294/300 [============================>.] - ETA: 0s - loss: 0.1744 - accuracy: 0.9410\n",
      "Epoch 00011: val_accuracy improved from 0.93750 to 0.93792, saving model to best_model.h5\n",
      "300/300 [==============================] - 2s 5ms/step - loss: 0.1749 - accuracy: 0.9404 - val_loss: 0.2217 - val_accuracy: 0.9379 - lr: 5.4716e-04\n",
      "Epoch 12/50\n",
      "291/300 [============================>.] - ETA: 0s - loss: 0.1554 - accuracy: 0.9477\n",
      "Epoch 00012: val_accuracy improved from 0.93792 to 0.94917, saving model to best_model.h5\n",
      "300/300 [==============================] - 2s 6ms/step - loss: 0.1571 - accuracy: 0.9467 - val_loss: 0.1839 - val_accuracy: 0.9492 - lr: 5.4169e-04\n",
      "Epoch 13/50\n",
      "297/300 [============================>.] - ETA: 0s - loss: 0.1505 - accuracy: 0.9511\n",
      "Epoch 00013: val_accuracy improved from 0.94917 to 0.95000, saving model to best_model.h5\n",
      "300/300 [==============================] - 2s 5ms/step - loss: 0.1506 - accuracy: 0.9511 - val_loss: 0.1920 - val_accuracy: 0.9500 - lr: 5.3627e-04\n",
      "Epoch 14/50\n",
      "289/300 [===========================>..] - ETA: 0s - loss: 0.1301 - accuracy: 0.9536\n",
      "Epoch 00014: val_accuracy did not improve from 0.95000\n",
      "300/300 [==============================] - 2s 5ms/step - loss: 0.1294 - accuracy: 0.9535 - val_loss: 0.2011 - val_accuracy: 0.9446 - lr: 5.3091e-04\n",
      "Epoch 15/50\n",
      "298/300 [============================>.] - ETA: 0s - loss: 0.1366 - accuracy: 0.9535\n",
      "Epoch 00015: val_accuracy improved from 0.95000 to 0.95292, saving model to best_model.h5\n",
      "300/300 [==============================] - 2s 5ms/step - loss: 0.1360 - accuracy: 0.9539 - val_loss: 0.1719 - val_accuracy: 0.9529 - lr: 5.2560e-04\n",
      "Epoch 16/50\n",
      "299/300 [============================>.] - ETA: 0s - loss: 0.1198 - accuracy: 0.9616\n",
      "Epoch 00016: val_accuracy improved from 0.95292 to 0.95917, saving model to best_model.h5\n",
      "300/300 [==============================] - 2s 5ms/step - loss: 0.1199 - accuracy: 0.9616 - val_loss: 0.1613 - val_accuracy: 0.9592 - lr: 5.2034e-04\n",
      "Epoch 17/50\n",
      "294/300 [============================>.] - ETA: 0s - loss: 0.1237 - accuracy: 0.9579\n",
      "Epoch 00017: val_accuracy did not improve from 0.95917\n",
      "300/300 [==============================] - 2s 6ms/step - loss: 0.1222 - accuracy: 0.9582 - val_loss: 0.1960 - val_accuracy: 0.9475 - lr: 5.1514e-04\n",
      "Epoch 18/50\n",
      "290/300 [============================>.] - ETA: 0s - loss: 0.1012 - accuracy: 0.9666\n",
      "Epoch 00018: val_accuracy improved from 0.95917 to 0.96583, saving model to best_model.h5\n",
      "300/300 [==============================] - 2s 6ms/step - loss: 0.0999 - accuracy: 0.9669 - val_loss: 0.1528 - val_accuracy: 0.9658 - lr: 5.0999e-04\n",
      "Epoch 19/50\n",
      "297/300 [============================>.] - ETA: 0s - loss: 0.1003 - accuracy: 0.9656\n",
      "Epoch 00019: val_accuracy did not improve from 0.96583\n",
      "300/300 [==============================] - 2s 6ms/step - loss: 0.1010 - accuracy: 0.9654 - val_loss: 0.1896 - val_accuracy: 0.9563 - lr: 5.0489e-04\n",
      "Epoch 20/50\n",
      "299/300 [============================>.] - ETA: 0s - loss: 0.0957 - accuracy: 0.9656\n",
      "Epoch 00020: val_accuracy improved from 0.96583 to 0.96875, saving model to best_model.h5\n",
      "300/300 [==============================] - 2s 5ms/step - loss: 0.0957 - accuracy: 0.9656 - val_loss: 0.1444 - val_accuracy: 0.9688 - lr: 4.9984e-04\n",
      "Epoch 21/50\n",
      "289/300 [===========================>..] - ETA: 0s - loss: 0.0936 - accuracy: 0.9673\n",
      "Epoch 00021: val_accuracy did not improve from 0.96875\n",
      "300/300 [==============================] - 2s 5ms/step - loss: 0.0939 - accuracy: 0.9670 - val_loss: 0.2010 - val_accuracy: 0.9517 - lr: 4.9484e-04\n",
      "Epoch 22/50\n",
      "299/300 [============================>.] - ETA: 0s - loss: 0.0865 - accuracy: 0.9709\n",
      "Epoch 00022: val_accuracy did not improve from 0.96875\n",
      "300/300 [==============================] - 2s 5ms/step - loss: 0.0864 - accuracy: 0.9709 - val_loss: 0.1597 - val_accuracy: 0.9654 - lr: 4.8989e-04\n",
      "Epoch 23/50\n",
      "289/300 [===========================>..] - ETA: 0s - loss: 0.0777 - accuracy: 0.9729\n",
      "Epoch 00023: val_accuracy did not improve from 0.96875\n",
      "300/300 [==============================] - 2s 5ms/step - loss: 0.0775 - accuracy: 0.9728 - val_loss: 0.1610 - val_accuracy: 0.9646 - lr: 4.8499e-04\n",
      "Epoch 24/50\n",
      "299/300 [============================>.] - ETA: 0s - loss: 0.0863 - accuracy: 0.9722\n",
      "Epoch 00024: val_accuracy did not improve from 0.96875\n",
      "300/300 [==============================] - 2s 5ms/step - loss: 0.0864 - accuracy: 0.9722 - val_loss: 0.1697 - val_accuracy: 0.9625 - lr: 4.8014e-04\n",
      "Epoch 25/50\n",
      "297/300 [============================>.] - ETA: 0s - loss: 0.0704 - accuracy: 0.9778\n",
      "Epoch 00025: val_accuracy did not improve from 0.96875\n",
      "300/300 [==============================] - 2s 6ms/step - loss: 0.0707 - accuracy: 0.9778 - val_loss: 0.1545 - val_accuracy: 0.9688 - lr: 4.7534e-04\n",
      "Epoch 26/50\n",
      "297/300 [============================>.] - ETA: 0s - loss: 0.0690 - accuracy: 0.9759\n",
      "Epoch 00026: val_accuracy did not improve from 0.96875\n",
      "300/300 [==============================] - 2s 5ms/step - loss: 0.0694 - accuracy: 0.9757 - val_loss: 0.1603 - val_accuracy: 0.9629 - lr: 4.7059e-04\n",
      "Epoch 27/50\n",
      "299/300 [============================>.] - ETA: 0s - loss: 0.0666 - accuracy: 0.9789\n",
      "Epoch 00027: val_accuracy improved from 0.96875 to 0.97250, saving model to best_model.h5\n",
      "300/300 [==============================] - 2s 5ms/step - loss: 0.0664 - accuracy: 0.9790 - val_loss: 0.1517 - val_accuracy: 0.9725 - lr: 4.6588e-04\n",
      "Epoch 28/50\n",
      "298/300 [============================>.] - ETA: 0s - loss: 0.0661 - accuracy: 0.9784\n",
      "Epoch 00028: val_accuracy did not improve from 0.97250\n",
      "300/300 [==============================] - 2s 5ms/step - loss: 0.0659 - accuracy: 0.9785 - val_loss: 0.1521 - val_accuracy: 0.9683 - lr: 4.6122e-04\n",
      "Epoch 29/50\n",
      "300/300 [==============================] - ETA: 0s - loss: 0.0666 - accuracy: 0.9777\n",
      "Epoch 00029: val_accuracy did not improve from 0.97250\n",
      "300/300 [==============================] - 2s 5ms/step - loss: 0.0666 - accuracy: 0.9777 - val_loss: 0.1464 - val_accuracy: 0.9667 - lr: 4.5661e-04\n",
      "Epoch 30/50\n",
      "298/300 [============================>.] - ETA: 0s - loss: 0.0640 - accuracy: 0.9787\n",
      "Epoch 00030: val_accuracy improved from 0.97250 to 0.97292, saving model to best_model.h5\n",
      "300/300 [==============================] - 2s 5ms/step - loss: 0.0640 - accuracy: 0.9787 - val_loss: 0.1393 - val_accuracy: 0.9729 - lr: 4.5204e-04\n",
      "Epoch 31/50\n",
      "296/300 [============================>.] - ETA: 0s - loss: 0.0560 - accuracy: 0.9806\n",
      "Epoch 00031: val_accuracy did not improve from 0.97292\n",
      "300/300 [==============================] - 2s 5ms/step - loss: 0.0569 - accuracy: 0.9801 - val_loss: 0.1788 - val_accuracy: 0.9621 - lr: 4.4752e-04\n",
      "Epoch 32/50\n",
      "294/300 [============================>.] - ETA: 0s - loss: 0.0559 - accuracy: 0.9808\n",
      "Epoch 00032: val_accuracy did not improve from 0.97292\n",
      "300/300 [==============================] - 2s 6ms/step - loss: 0.0568 - accuracy: 0.9805 - val_loss: 0.1434 - val_accuracy: 0.9712 - lr: 4.4305e-04\n",
      "Epoch 33/50\n",
      "298/300 [============================>.] - ETA: 0s - loss: 0.0559 - accuracy: 0.9802\n",
      "Epoch 00033: val_accuracy did not improve from 0.97292\n",
      "300/300 [==============================] - 2s 5ms/step - loss: 0.0559 - accuracy: 0.9802 - val_loss: 0.1658 - val_accuracy: 0.9654 - lr: 4.3862e-04\n",
      "Epoch 34/50\n",
      "299/300 [============================>.] - ETA: 0s - loss: 0.0567 - accuracy: 0.9807\n",
      "Epoch 00034: val_accuracy did not improve from 0.97292\n",
      "300/300 [==============================] - 2s 5ms/step - loss: 0.0566 - accuracy: 0.9807 - val_loss: 0.1460 - val_accuracy: 0.9692 - lr: 4.3423e-04\n",
      "Epoch 35/50\n",
      "294/300 [============================>.] - ETA: 0s - loss: 0.0500 - accuracy: 0.9818\n",
      "Epoch 00035: val_accuracy improved from 0.97292 to 0.97625, saving model to best_model.h5\n",
      "300/300 [==============================] - 2s 6ms/step - loss: 0.0502 - accuracy: 0.9818 - val_loss: 0.1328 - val_accuracy: 0.9762 - lr: 4.2989e-04\n",
      "Epoch 36/50\n",
      "296/300 [============================>.] - ETA: 0s - loss: 0.0517 - accuracy: 0.9818\n",
      "Epoch 00036: val_accuracy did not improve from 0.97625\n",
      "300/300 [==============================] - 2s 5ms/step - loss: 0.0519 - accuracy: 0.9818 - val_loss: 0.1482 - val_accuracy: 0.9712 - lr: 4.2559e-04\n",
      "Epoch 37/50\n",
      "294/300 [============================>.] - ETA: 0s - loss: 0.0463 - accuracy: 0.9839\n",
      "Epoch 00037: val_accuracy did not improve from 0.97625\n",
      "300/300 [==============================] - 2s 6ms/step - loss: 0.0461 - accuracy: 0.9841 - val_loss: 0.1496 - val_accuracy: 0.9712 - lr: 4.2133e-04\n",
      "Epoch 38/50\n",
      "299/300 [============================>.] - ETA: 0s - loss: 0.0482 - accuracy: 0.9848\n",
      "Epoch 00038: val_accuracy improved from 0.97625 to 0.97750, saving model to best_model.h5\n",
      "300/300 [==============================] - 2s 5ms/step - loss: 0.0481 - accuracy: 0.9849 - val_loss: 0.1342 - val_accuracy: 0.9775 - lr: 4.1712e-04\n",
      "Epoch 39/50\n",
      "293/300 [============================>.] - ETA: 0s - loss: 0.0535 - accuracy: 0.9805\n",
      "Epoch 00039: val_accuracy did not improve from 0.97750\n",
      "300/300 [==============================] - 2s 6ms/step - loss: 0.0534 - accuracy: 0.9805 - val_loss: 0.1273 - val_accuracy: 0.9742 - lr: 4.1295e-04\n",
      "Epoch 40/50\n",
      "293/300 [============================>.] - ETA: 0s - loss: 0.0436 - accuracy: 0.9856\n",
      "Epoch 00040: val_accuracy did not improve from 0.97750\n",
      "300/300 [==============================] - 2s 5ms/step - loss: 0.0433 - accuracy: 0.9856 - val_loss: 0.1385 - val_accuracy: 0.9733 - lr: 4.0882e-04\n",
      "Epoch 41/50\n",
      "289/300 [===========================>..] - ETA: 0s - loss: 0.0428 - accuracy: 0.9855\n",
      "Epoch 00041: val_accuracy did not improve from 0.97750\n",
      "300/300 [==============================] - 2s 5ms/step - loss: 0.0419 - accuracy: 0.9857 - val_loss: 0.1415 - val_accuracy: 0.9733 - lr: 4.0473e-04\n",
      "Epoch 42/50\n",
      "299/300 [============================>.] - ETA: 0s - loss: 0.0330 - accuracy: 0.9886\n",
      "Epoch 00042: val_accuracy did not improve from 0.97750\n",
      "300/300 [==============================] - 2s 5ms/step - loss: 0.0329 - accuracy: 0.9886 - val_loss: 0.1381 - val_accuracy: 0.9750 - lr: 4.0068e-04\n",
      "Epoch 43/50\n",
      "299/300 [============================>.] - ETA: 0s - loss: 0.0438 - accuracy: 0.9854\n",
      "Epoch 00043: val_accuracy did not improve from 0.97750\n",
      "300/300 [==============================] - 2s 5ms/step - loss: 0.0445 - accuracy: 0.9852 - val_loss: 0.1398 - val_accuracy: 0.9708 - lr: 3.9668e-04\n",
      "Epoch 44/50\n",
      "298/300 [============================>.] - ETA: 0s - loss: 0.0398 - accuracy: 0.9870\n",
      "Epoch 00044: val_accuracy did not improve from 0.97750\n",
      "300/300 [==============================] - 2s 5ms/step - loss: 0.0404 - accuracy: 0.9870 - val_loss: 0.1403 - val_accuracy: 0.9746 - lr: 3.9271e-04\n",
      "Epoch 45/50\n",
      "295/300 [============================>.] - ETA: 0s - loss: 0.0441 - accuracy: 0.9843\n",
      "Epoch 00045: val_accuracy did not improve from 0.97750\n",
      "300/300 [==============================] - 2s 6ms/step - loss: 0.0437 - accuracy: 0.9845 - val_loss: 0.1345 - val_accuracy: 0.9746 - lr: 3.8878e-04\n",
      "Epoch 46/50\n",
      "291/300 [============================>.] - ETA: 0s - loss: 0.0358 - accuracy: 0.9870\n",
      "Epoch 00046: val_accuracy did not improve from 0.97750\n",
      "300/300 [==============================] - 2s 5ms/step - loss: 0.0359 - accuracy: 0.9870 - val_loss: 0.1666 - val_accuracy: 0.9671 - lr: 3.8490e-04\n",
      "Epoch 47/50\n",
      "300/300 [==============================] - ETA: 0s - loss: 0.0401 - accuracy: 0.9874\n",
      "Epoch 00047: val_accuracy did not improve from 0.97750\n",
      "300/300 [==============================] - 2s 5ms/step - loss: 0.0401 - accuracy: 0.9874 - val_loss: 0.1423 - val_accuracy: 0.9746 - lr: 3.8105e-04\n",
      "Epoch 00047: early stopping\n"
     ]
    }
   ],
   "metadata": {
    "execution": {
     "iopub.execute_input": "2021-03-20T10:06:56.284463Z",
     "iopub.status.busy": "2021-03-20T10:06:56.283672Z",
     "iopub.status.idle": "2021-03-20T10:08:17.542284Z",
     "shell.execute_reply": "2021-03-20T10:08:17.541831Z"
    },
    "papermill": {
     "duration": 81.328775,
     "end_time": "2021-03-20T10:08:17.542387",
     "exception": false,
     "start_time": "2021-03-20T10:06:56.213612",
     "status": "completed"
    },
    "tags": []
   }
  },
  {
   "cell_type": "markdown",
   "source": [
    "<a href=\"#0\"><font size=\"1\">Go to top</font></a>  \n",
    "\n",
    "\n",
    "## <a id='42'>Model evaluation</a> \n",
    "\n",
    "\n",
    "Let's start by plotting the loss error for the train and validation set. \n",
    "We define a function to visualize these values."
   ],
   "metadata": {
    "_uuid": "5837b3e9cb131fab2c58f4b9de92f147f48b59ae",
    "papermill": {
     "duration": 0.389387,
     "end_time": "2021-03-20T10:08:18.321679",
     "exception": false,
     "start_time": "2021-03-20T10:08:17.932292",
     "status": "completed"
    },
    "tags": []
   }
  },
  {
   "cell_type": "code",
   "execution_count": 26,
   "source": [
    "def create_trace(x,y,ylabel,color):\n",
    "        trace = go.Scatter(\n",
    "            x = x,y = y,\n",
    "            name=ylabel,\n",
    "            marker=dict(color=color),\n",
    "            mode = \"markers+lines\",\n",
    "            text=x\n",
    "        )\n",
    "        return trace\n",
    "    \n",
    "def plot_accuracy_and_loss(train_model):\n",
    "    hist = train_model.history\n",
    "    acc = hist['accuracy']\n",
    "    val_acc = hist['val_accuracy']\n",
    "    loss = hist['loss']\n",
    "    val_loss = hist['val_loss']\n",
    "    epochs = list(range(1,len(acc)+1))\n",
    "    #define the traces\n",
    "    trace_ta = create_trace(epochs,acc,\"Training accuracy\", \"Green\")\n",
    "    trace_va = create_trace(epochs,val_acc,\"Validation accuracy\", \"Red\")\n",
    "    trace_tl = create_trace(epochs,loss,\"Training loss\", \"Blue\")\n",
    "    trace_vl = create_trace(epochs,val_loss,\"Validation loss\", \"Magenta\")\n",
    "    fig = tools.make_subplots(rows=1,cols=2, subplot_titles=('Training and validation accuracy',\n",
    "                                                             'Training and validation loss'))\n",
    "    #add traces to the figure\n",
    "    fig.append_trace(trace_ta,1,1)\n",
    "    fig.append_trace(trace_va,1,1)\n",
    "    fig.append_trace(trace_tl,1,2)\n",
    "    fig.append_trace(trace_vl,1,2)\n",
    "    #set the layout for the figure\n",
    "    fig['layout']['xaxis'].update(title = 'Epoch')\n",
    "    fig['layout']['xaxis2'].update(title = 'Epoch')\n",
    "    fig['layout']['yaxis'].update(title = 'Accuracy', range=[0,1])\n",
    "    fig['layout']['yaxis2'].update(title = 'Loss', range=[0,1])\n",
    "    #plot\n",
    "    iplot(fig, filename='accuracy-loss')\n",
    "\n",
    "plot_accuracy_and_loss(train_model)"
   ],
   "outputs": [
    {
     "output_type": "display_data",
     "data": {
      "application/vnd.plotly.v1+json": {
       "config": {
        "linkText": "Export to plot.ly",
        "plotlyServerURL": "https://plot.ly",
        "showLink": false
       },
       "data": [
        {
         "marker": {
          "color": "Green"
         },
         "mode": "markers+lines",
         "name": "Training accuracy",
         "text": [
          "1",
          "2",
          "3",
          "4",
          "5",
          "6",
          "7",
          "8",
          "9",
          "10",
          "11",
          "12",
          "13",
          "14",
          "15",
          "16",
          "17",
          "18",
          "19",
          "20",
          "21",
          "22",
          "23",
          "24",
          "25",
          "26",
          "27",
          "28",
          "29",
          "30",
          "31",
          "32",
          "33",
          "34",
          "35",
          "36",
          "37",
          "38",
          "39",
          "40",
          "41",
          "42",
          "43",
          "44",
          "45",
          "46",
          "47"
         ],
         "type": "scatter",
         "x": [
          1,
          2,
          3,
          4,
          5,
          6,
          7,
          8,
          9,
          10,
          11,
          12,
          13,
          14,
          15,
          16,
          17,
          18,
          19,
          20,
          21,
          22,
          23,
          24,
          25,
          26,
          27,
          28,
          29,
          30,
          31,
          32,
          33,
          34,
          35,
          36,
          37,
          38,
          39,
          40,
          41,
          42,
          43,
          44,
          45,
          46,
          47
         ],
         "xaxis": "x",
         "y": [
          0.4428125023841858,
          0.7182291746139526,
          0.801770806312561,
          0.84354168176651,
          0.8758333325386047,
          0.8943750262260437,
          0.9106249809265137,
          0.9232291579246521,
          0.9254166483879089,
          0.9363541603088379,
          0.940416693687439,
          0.9466666579246521,
          0.9511458277702332,
          0.9535416960716248,
          0.9538541436195374,
          0.9615625143051147,
          0.9582291841506958,
          0.9668750166893005,
          0.965416669845581,
          0.965624988079071,
          0.9669791460037231,
          0.9709374904632568,
          0.9728124737739563,
          0.9721875190734863,
          0.9778125286102295,
          0.9757291674613953,
          0.9789583086967468,
          0.9785416722297668,
          0.9777083396911621,
          0.9787499904632568,
          0.9801041483879089,
          0.9805208444595337,
          0.9802083373069763,
          0.9807291626930237,
          0.9817708134651184,
          0.9817708134651184,
          0.9840624928474426,
          0.9848958253860474,
          0.9805208444595337,
          0.9856250286102295,
          0.9857291579246521,
          0.9886458516120911,
          0.9852083325386047,
          0.9869791865348816,
          0.9844791889190674,
          0.9869791865348816,
          0.9873958230018616
         ],
         "yaxis": "y"
        },
        {
         "marker": {
          "color": "Red"
         },
         "mode": "markers+lines",
         "name": "Validation accuracy",
         "text": [
          "1",
          "2",
          "3",
          "4",
          "5",
          "6",
          "7",
          "8",
          "9",
          "10",
          "11",
          "12",
          "13",
          "14",
          "15",
          "16",
          "17",
          "18",
          "19",
          "20",
          "21",
          "22",
          "23",
          "24",
          "25",
          "26",
          "27",
          "28",
          "29",
          "30",
          "31",
          "32",
          "33",
          "34",
          "35",
          "36",
          "37",
          "38",
          "39",
          "40",
          "41",
          "42",
          "43",
          "44",
          "45",
          "46",
          "47"
         ],
         "type": "scatter",
         "x": [
          1,
          2,
          3,
          4,
          5,
          6,
          7,
          8,
          9,
          10,
          11,
          12,
          13,
          14,
          15,
          16,
          17,
          18,
          19,
          20,
          21,
          22,
          23,
          24,
          25,
          26,
          27,
          28,
          29,
          30,
          31,
          32,
          33,
          34,
          35,
          36,
          37,
          38,
          39,
          40,
          41,
          42,
          43,
          44,
          45,
          46,
          47
         ],
         "xaxis": "x",
         "y": [
          0.6512500047683716,
          0.7975000143051147,
          0.8374999761581421,
          0.8812500238418579,
          0.90625,
          0.9145833253860474,
          0.9191666841506958,
          0.9333333373069763,
          0.9320833086967468,
          0.9375,
          0.9379166960716248,
          0.9491666555404663,
          0.949999988079071,
          0.9445833563804626,
          0.95291668176651,
          0.9591666460037231,
          0.9474999904632568,
          0.965833306312561,
          0.956250011920929,
          0.96875,
          0.9516666531562805,
          0.965416669845581,
          0.9645833373069763,
          0.9624999761581421,
          0.96875,
          0.9629166722297668,
          0.9725000262260437,
          0.9683333039283752,
          0.9666666388511658,
          0.9729166626930237,
          0.9620833396911621,
          0.9712499976158142,
          0.965416669845581,
          0.9691666960716248,
          0.9762499928474426,
          0.9712499976158142,
          0.9712499976158142,
          0.9775000214576721,
          0.9741666913032532,
          0.9733333587646484,
          0.9733333587646484,
          0.9750000238418579,
          0.9708333611488342,
          0.9745833277702332,
          0.9745833277702332,
          0.9670833349227905,
          0.9745833277702332
         ],
         "yaxis": "y"
        },
        {
         "marker": {
          "color": "Blue"
         },
         "mode": "markers+lines",
         "name": "Training loss",
         "text": [
          "1",
          "2",
          "3",
          "4",
          "5",
          "6",
          "7",
          "8",
          "9",
          "10",
          "11",
          "12",
          "13",
          "14",
          "15",
          "16",
          "17",
          "18",
          "19",
          "20",
          "21",
          "22",
          "23",
          "24",
          "25",
          "26",
          "27",
          "28",
          "29",
          "30",
          "31",
          "32",
          "33",
          "34",
          "35",
          "36",
          "37",
          "38",
          "39",
          "40",
          "41",
          "42",
          "43",
          "44",
          "45",
          "46",
          "47"
         ],
         "type": "scatter",
         "x": [
          1,
          2,
          3,
          4,
          5,
          6,
          7,
          8,
          9,
          10,
          11,
          12,
          13,
          14,
          15,
          16,
          17,
          18,
          19,
          20,
          21,
          22,
          23,
          24,
          25,
          26,
          27,
          28,
          29,
          30,
          31,
          32,
          33,
          34,
          35,
          36,
          37,
          38,
          39,
          40,
          41,
          42,
          43,
          44,
          45,
          46,
          47
         ],
         "xaxis": "x2",
         "y": [
          1.8026535511016846,
          0.8962011933326721,
          0.6266570091247559,
          0.4780673682689667,
          0.37890616059303284,
          0.308036744594574,
          0.26797059178352356,
          0.24011729657649994,
          0.21665507555007935,
          0.18643970787525177,
          0.174860879778862,
          0.15710529685020447,
          0.15061317384243011,
          0.12940064072608948,
          0.13595566153526306,
          0.1198769137263298,
          0.12222602963447571,
          0.09988849610090256,
          0.10098075866699219,
          0.09568312019109726,
          0.09392324835062027,
          0.0864260196685791,
          0.07748015969991684,
          0.08636874705553055,
          0.0706549808382988,
          0.06941390782594681,
          0.06639079004526138,
          0.06586498767137527,
          0.06659132987260818,
          0.0640004575252533,
          0.0569266751408577,
          0.05676767975091934,
          0.05586015060544014,
          0.05656810104846954,
          0.05017636716365814,
          0.051872435957193375,
          0.04612036794424057,
          0.048096537590026855,
          0.05340378358960152,
          0.04333018139004707,
          0.04186801239848137,
          0.032932084053754807,
          0.04450809583067894,
          0.040387898683547974,
          0.043729327619075775,
          0.035921718925237656,
          0.04007668048143387
         ],
         "yaxis": "y2"
        },
        {
         "marker": {
          "color": "Magenta"
         },
         "mode": "markers+lines",
         "name": "Validation loss",
         "text": [
          "1",
          "2",
          "3",
          "4",
          "5",
          "6",
          "7",
          "8",
          "9",
          "10",
          "11",
          "12",
          "13",
          "14",
          "15",
          "16",
          "17",
          "18",
          "19",
          "20",
          "21",
          "22",
          "23",
          "24",
          "25",
          "26",
          "27",
          "28",
          "29",
          "30",
          "31",
          "32",
          "33",
          "34",
          "35",
          "36",
          "37",
          "38",
          "39",
          "40",
          "41",
          "42",
          "43",
          "44",
          "45",
          "46",
          "47"
         ],
         "type": "scatter",
         "x": [
          1,
          2,
          3,
          4,
          5,
          6,
          7,
          8,
          9,
          10,
          11,
          12,
          13,
          14,
          15,
          16,
          17,
          18,
          19,
          20,
          21,
          22,
          23,
          24,
          25,
          26,
          27,
          28,
          29,
          30,
          31,
          32,
          33,
          34,
          35,
          36,
          37,
          38,
          39,
          40,
          41,
          42,
          43,
          44,
          45,
          46,
          47
         ],
         "xaxis": "x2",
         "y": [
          1.1596956253051758,
          0.6821192502975464,
          0.5103517770767212,
          0.38423824310302734,
          0.313837468624115,
          0.2856386601924896,
          0.2650141716003418,
          0.2264418601989746,
          0.2410862296819687,
          0.21855652332305908,
          0.22174198925495148,
          0.1838732808828354,
          0.19195856153964996,
          0.20110774040222168,
          0.17185522615909576,
          0.1612699180841446,
          0.19599130749702454,
          0.1528095155954361,
          0.18958988785743713,
          0.14443154633045197,
          0.2009955644607544,
          0.15973088145256042,
          0.16096259653568268,
          0.16966935992240906,
          0.15449346601963043,
          0.16029442846775055,
          0.15170595049858093,
          0.15205547213554382,
          0.14641761779785156,
          0.13933992385864258,
          0.17875216901302338,
          0.14338889718055725,
          0.16584739089012146,
          0.14603260159492493,
          0.13275571167469025,
          0.14816755056381226,
          0.14957252144813538,
          0.1342034637928009,
          0.12733623385429382,
          0.13849233090877533,
          0.14149299263954163,
          0.13807548582553864,
          0.13980095088481903,
          0.1402755230665207,
          0.13448160886764526,
          0.16660010814666748,
          0.14225754141807556
         ],
         "yaxis": "y2"
        }
       ],
       "layout": {
        "annotations": [
         {
          "font": {
           "size": 16
          },
          "showarrow": false,
          "text": "Training and validation accuracy",
          "x": 0.225,
          "xanchor": "center",
          "xref": "paper",
          "y": 1,
          "yanchor": "bottom",
          "yref": "paper"
         },
         {
          "font": {
           "size": 16
          },
          "showarrow": false,
          "text": "Training and validation loss",
          "x": 0.775,
          "xanchor": "center",
          "xref": "paper",
          "y": 1,
          "yanchor": "bottom",
          "yref": "paper"
         }
        ],
        "template": {
         "data": {
          "bar": [
           {
            "error_x": {
             "color": "#2a3f5f"
            },
            "error_y": {
             "color": "#2a3f5f"
            },
            "marker": {
             "line": {
              "color": "#E5ECF6",
              "width": 0.5
             }
            },
            "type": "bar"
           }
          ],
          "barpolar": [
           {
            "marker": {
             "line": {
              "color": "#E5ECF6",
              "width": 0.5
             }
            },
            "type": "barpolar"
           }
          ],
          "carpet": [
           {
            "aaxis": {
             "endlinecolor": "#2a3f5f",
             "gridcolor": "white",
             "linecolor": "white",
             "minorgridcolor": "white",
             "startlinecolor": "#2a3f5f"
            },
            "baxis": {
             "endlinecolor": "#2a3f5f",
             "gridcolor": "white",
             "linecolor": "white",
             "minorgridcolor": "white",
             "startlinecolor": "#2a3f5f"
            },
            "type": "carpet"
           }
          ],
          "choropleth": [
           {
            "colorbar": {
             "outlinewidth": 0,
             "ticks": ""
            },
            "type": "choropleth"
           }
          ],
          "contour": [
           {
            "colorbar": {
             "outlinewidth": 0,
             "ticks": ""
            },
            "colorscale": [
             [
              0,
              "#0d0887"
             ],
             [
              0.1111111111111111,
              "#46039f"
             ],
             [
              0.2222222222222222,
              "#7201a8"
             ],
             [
              0.3333333333333333,
              "#9c179e"
             ],
             [
              0.4444444444444444,
              "#bd3786"
             ],
             [
              0.5555555555555556,
              "#d8576b"
             ],
             [
              0.6666666666666666,
              "#ed7953"
             ],
             [
              0.7777777777777778,
              "#fb9f3a"
             ],
             [
              0.8888888888888888,
              "#fdca26"
             ],
             [
              1,
              "#f0f921"
             ]
            ],
            "type": "contour"
           }
          ],
          "contourcarpet": [
           {
            "colorbar": {
             "outlinewidth": 0,
             "ticks": ""
            },
            "type": "contourcarpet"
           }
          ],
          "heatmap": [
           {
            "colorbar": {
             "outlinewidth": 0,
             "ticks": ""
            },
            "colorscale": [
             [
              0,
              "#0d0887"
             ],
             [
              0.1111111111111111,
              "#46039f"
             ],
             [
              0.2222222222222222,
              "#7201a8"
             ],
             [
              0.3333333333333333,
              "#9c179e"
             ],
             [
              0.4444444444444444,
              "#bd3786"
             ],
             [
              0.5555555555555556,
              "#d8576b"
             ],
             [
              0.6666666666666666,
              "#ed7953"
             ],
             [
              0.7777777777777778,
              "#fb9f3a"
             ],
             [
              0.8888888888888888,
              "#fdca26"
             ],
             [
              1,
              "#f0f921"
             ]
            ],
            "type": "heatmap"
           }
          ],
          "heatmapgl": [
           {
            "colorbar": {
             "outlinewidth": 0,
             "ticks": ""
            },
            "colorscale": [
             [
              0,
              "#0d0887"
             ],
             [
              0.1111111111111111,
              "#46039f"
             ],
             [
              0.2222222222222222,
              "#7201a8"
             ],
             [
              0.3333333333333333,
              "#9c179e"
             ],
             [
              0.4444444444444444,
              "#bd3786"
             ],
             [
              0.5555555555555556,
              "#d8576b"
             ],
             [
              0.6666666666666666,
              "#ed7953"
             ],
             [
              0.7777777777777778,
              "#fb9f3a"
             ],
             [
              0.8888888888888888,
              "#fdca26"
             ],
             [
              1,
              "#f0f921"
             ]
            ],
            "type": "heatmapgl"
           }
          ],
          "histogram": [
           {
            "marker": {
             "colorbar": {
              "outlinewidth": 0,
              "ticks": ""
             }
            },
            "type": "histogram"
           }
          ],
          "histogram2d": [
           {
            "colorbar": {
             "outlinewidth": 0,
             "ticks": ""
            },
            "colorscale": [
             [
              0,
              "#0d0887"
             ],
             [
              0.1111111111111111,
              "#46039f"
             ],
             [
              0.2222222222222222,
              "#7201a8"
             ],
             [
              0.3333333333333333,
              "#9c179e"
             ],
             [
              0.4444444444444444,
              "#bd3786"
             ],
             [
              0.5555555555555556,
              "#d8576b"
             ],
             [
              0.6666666666666666,
              "#ed7953"
             ],
             [
              0.7777777777777778,
              "#fb9f3a"
             ],
             [
              0.8888888888888888,
              "#fdca26"
             ],
             [
              1,
              "#f0f921"
             ]
            ],
            "type": "histogram2d"
           }
          ],
          "histogram2dcontour": [
           {
            "colorbar": {
             "outlinewidth": 0,
             "ticks": ""
            },
            "colorscale": [
             [
              0,
              "#0d0887"
             ],
             [
              0.1111111111111111,
              "#46039f"
             ],
             [
              0.2222222222222222,
              "#7201a8"
             ],
             [
              0.3333333333333333,
              "#9c179e"
             ],
             [
              0.4444444444444444,
              "#bd3786"
             ],
             [
              0.5555555555555556,
              "#d8576b"
             ],
             [
              0.6666666666666666,
              "#ed7953"
             ],
             [
              0.7777777777777778,
              "#fb9f3a"
             ],
             [
              0.8888888888888888,
              "#fdca26"
             ],
             [
              1,
              "#f0f921"
             ]
            ],
            "type": "histogram2dcontour"
           }
          ],
          "mesh3d": [
           {
            "colorbar": {
             "outlinewidth": 0,
             "ticks": ""
            },
            "type": "mesh3d"
           }
          ],
          "parcoords": [
           {
            "line": {
             "colorbar": {
              "outlinewidth": 0,
              "ticks": ""
             }
            },
            "type": "parcoords"
           }
          ],
          "pie": [
           {
            "automargin": true,
            "type": "pie"
           }
          ],
          "scatter": [
           {
            "marker": {
             "colorbar": {
              "outlinewidth": 0,
              "ticks": ""
             }
            },
            "type": "scatter"
           }
          ],
          "scatter3d": [
           {
            "line": {
             "colorbar": {
              "outlinewidth": 0,
              "ticks": ""
             }
            },
            "marker": {
             "colorbar": {
              "outlinewidth": 0,
              "ticks": ""
             }
            },
            "type": "scatter3d"
           }
          ],
          "scattercarpet": [
           {
            "marker": {
             "colorbar": {
              "outlinewidth": 0,
              "ticks": ""
             }
            },
            "type": "scattercarpet"
           }
          ],
          "scattergeo": [
           {
            "marker": {
             "colorbar": {
              "outlinewidth": 0,
              "ticks": ""
             }
            },
            "type": "scattergeo"
           }
          ],
          "scattergl": [
           {
            "marker": {
             "colorbar": {
              "outlinewidth": 0,
              "ticks": ""
             }
            },
            "type": "scattergl"
           }
          ],
          "scattermapbox": [
           {
            "marker": {
             "colorbar": {
              "outlinewidth": 0,
              "ticks": ""
             }
            },
            "type": "scattermapbox"
           }
          ],
          "scatterpolar": [
           {
            "marker": {
             "colorbar": {
              "outlinewidth": 0,
              "ticks": ""
             }
            },
            "type": "scatterpolar"
           }
          ],
          "scatterpolargl": [
           {
            "marker": {
             "colorbar": {
              "outlinewidth": 0,
              "ticks": ""
             }
            },
            "type": "scatterpolargl"
           }
          ],
          "scatterternary": [
           {
            "marker": {
             "colorbar": {
              "outlinewidth": 0,
              "ticks": ""
             }
            },
            "type": "scatterternary"
           }
          ],
          "surface": [
           {
            "colorbar": {
             "outlinewidth": 0,
             "ticks": ""
            },
            "colorscale": [
             [
              0,
              "#0d0887"
             ],
             [
              0.1111111111111111,
              "#46039f"
             ],
             [
              0.2222222222222222,
              "#7201a8"
             ],
             [
              0.3333333333333333,
              "#9c179e"
             ],
             [
              0.4444444444444444,
              "#bd3786"
             ],
             [
              0.5555555555555556,
              "#d8576b"
             ],
             [
              0.6666666666666666,
              "#ed7953"
             ],
             [
              0.7777777777777778,
              "#fb9f3a"
             ],
             [
              0.8888888888888888,
              "#fdca26"
             ],
             [
              1,
              "#f0f921"
             ]
            ],
            "type": "surface"
           }
          ],
          "table": [
           {
            "cells": {
             "fill": {
              "color": "#EBF0F8"
             },
             "line": {
              "color": "white"
             }
            },
            "header": {
             "fill": {
              "color": "#C8D4E3"
             },
             "line": {
              "color": "white"
             }
            },
            "type": "table"
           }
          ]
         },
         "layout": {
          "annotationdefaults": {
           "arrowcolor": "#2a3f5f",
           "arrowhead": 0,
           "arrowwidth": 1
          },
          "coloraxis": {
           "colorbar": {
            "outlinewidth": 0,
            "ticks": ""
           }
          },
          "colorscale": {
           "diverging": [
            [
             0,
             "#8e0152"
            ],
            [
             0.1,
             "#c51b7d"
            ],
            [
             0.2,
             "#de77ae"
            ],
            [
             0.3,
             "#f1b6da"
            ],
            [
             0.4,
             "#fde0ef"
            ],
            [
             0.5,
             "#f7f7f7"
            ],
            [
             0.6,
             "#e6f5d0"
            ],
            [
             0.7,
             "#b8e186"
            ],
            [
             0.8,
             "#7fbc41"
            ],
            [
             0.9,
             "#4d9221"
            ],
            [
             1,
             "#276419"
            ]
           ],
           "sequential": [
            [
             0,
             "#0d0887"
            ],
            [
             0.1111111111111111,
             "#46039f"
            ],
            [
             0.2222222222222222,
             "#7201a8"
            ],
            [
             0.3333333333333333,
             "#9c179e"
            ],
            [
             0.4444444444444444,
             "#bd3786"
            ],
            [
             0.5555555555555556,
             "#d8576b"
            ],
            [
             0.6666666666666666,
             "#ed7953"
            ],
            [
             0.7777777777777778,
             "#fb9f3a"
            ],
            [
             0.8888888888888888,
             "#fdca26"
            ],
            [
             1,
             "#f0f921"
            ]
           ],
           "sequentialminus": [
            [
             0,
             "#0d0887"
            ],
            [
             0.1111111111111111,
             "#46039f"
            ],
            [
             0.2222222222222222,
             "#7201a8"
            ],
            [
             0.3333333333333333,
             "#9c179e"
            ],
            [
             0.4444444444444444,
             "#bd3786"
            ],
            [
             0.5555555555555556,
             "#d8576b"
            ],
            [
             0.6666666666666666,
             "#ed7953"
            ],
            [
             0.7777777777777778,
             "#fb9f3a"
            ],
            [
             0.8888888888888888,
             "#fdca26"
            ],
            [
             1,
             "#f0f921"
            ]
           ]
          },
          "colorway": [
           "#636efa",
           "#EF553B",
           "#00cc96",
           "#ab63fa",
           "#FFA15A",
           "#19d3f3",
           "#FF6692",
           "#B6E880",
           "#FF97FF",
           "#FECB52"
          ],
          "font": {
           "color": "#2a3f5f"
          },
          "geo": {
           "bgcolor": "white",
           "lakecolor": "white",
           "landcolor": "#E5ECF6",
           "showlakes": true,
           "showland": true,
           "subunitcolor": "white"
          },
          "hoverlabel": {
           "align": "left"
          },
          "hovermode": "closest",
          "mapbox": {
           "style": "light"
          },
          "paper_bgcolor": "white",
          "plot_bgcolor": "#E5ECF6",
          "polar": {
           "angularaxis": {
            "gridcolor": "white",
            "linecolor": "white",
            "ticks": ""
           },
           "bgcolor": "#E5ECF6",
           "radialaxis": {
            "gridcolor": "white",
            "linecolor": "white",
            "ticks": ""
           }
          },
          "scene": {
           "xaxis": {
            "backgroundcolor": "#E5ECF6",
            "gridcolor": "white",
            "gridwidth": 2,
            "linecolor": "white",
            "showbackground": true,
            "ticks": "",
            "zerolinecolor": "white"
           },
           "yaxis": {
            "backgroundcolor": "#E5ECF6",
            "gridcolor": "white",
            "gridwidth": 2,
            "linecolor": "white",
            "showbackground": true,
            "ticks": "",
            "zerolinecolor": "white"
           },
           "zaxis": {
            "backgroundcolor": "#E5ECF6",
            "gridcolor": "white",
            "gridwidth": 2,
            "linecolor": "white",
            "showbackground": true,
            "ticks": "",
            "zerolinecolor": "white"
           }
          },
          "shapedefaults": {
           "line": {
            "color": "#2a3f5f"
           }
          },
          "ternary": {
           "aaxis": {
            "gridcolor": "white",
            "linecolor": "white",
            "ticks": ""
           },
           "baxis": {
            "gridcolor": "white",
            "linecolor": "white",
            "ticks": ""
           },
           "bgcolor": "#E5ECF6",
           "caxis": {
            "gridcolor": "white",
            "linecolor": "white",
            "ticks": ""
           }
          },
          "title": {
           "x": 0.05
          },
          "xaxis": {
           "automargin": true,
           "gridcolor": "white",
           "linecolor": "white",
           "ticks": "",
           "title": {
            "standoff": 15
           },
           "zerolinecolor": "white",
           "zerolinewidth": 2
          },
          "yaxis": {
           "automargin": true,
           "gridcolor": "white",
           "linecolor": "white",
           "ticks": "",
           "title": {
            "standoff": 15
           },
           "zerolinecolor": "white",
           "zerolinewidth": 2
          }
         }
        },
        "xaxis": {
         "anchor": "y",
         "domain": [
          0,
          0.45
         ],
         "title": {
          "text": "Epoch"
         }
        },
        "xaxis2": {
         "anchor": "y2",
         "domain": [
          0.55,
          1
         ],
         "title": {
          "text": "Epoch"
         }
        },
        "yaxis": {
         "anchor": "x",
         "domain": [
          0,
          1
         ],
         "range": [
          0,
          1
         ],
         "title": {
          "text": "Accuracy"
         }
        },
        "yaxis2": {
         "anchor": "x2",
         "domain": [
          0,
          1
         ],
         "range": [
          0,
          1
         ],
         "title": {
          "text": "Loss"
         }
        }
       }
      },
      "text/html": [
       "<div>\n",
       "        \n",
       "        \n",
       "            <div id=\"017419b9-723b-4aad-b355-486fe50a2840\" class=\"plotly-graph-div\" style=\"height:525px; width:100%;\"></div>\n",
       "            <script type=\"text/javascript\">\n",
       "                require([\"plotly\"], function(Plotly) {\n",
       "                    window.PLOTLYENV=window.PLOTLYENV || {};\n",
       "                    \n",
       "                if (document.getElementById(\"017419b9-723b-4aad-b355-486fe50a2840\")) {\n",
       "                    Plotly.newPlot(\n",
       "                        '017419b9-723b-4aad-b355-486fe50a2840',\n",
       "                        [{\"marker\": {\"color\": \"Green\"}, \"mode\": \"markers+lines\", \"name\": \"Training accuracy\", \"text\": [\"1\", \"2\", \"3\", \"4\", \"5\", \"6\", \"7\", \"8\", \"9\", \"10\", \"11\", \"12\", \"13\", \"14\", \"15\", \"16\", \"17\", \"18\", \"19\", \"20\", \"21\", \"22\", \"23\", \"24\", \"25\", \"26\", \"27\", \"28\", \"29\", \"30\", \"31\", \"32\", \"33\", \"34\", \"35\", \"36\", \"37\", \"38\", \"39\", \"40\", \"41\", \"42\", \"43\", \"44\", \"45\", \"46\", \"47\"], \"type\": \"scatter\", \"x\": [1, 2, 3, 4, 5, 6, 7, 8, 9, 10, 11, 12, 13, 14, 15, 16, 17, 18, 19, 20, 21, 22, 23, 24, 25, 26, 27, 28, 29, 30, 31, 32, 33, 34, 35, 36, 37, 38, 39, 40, 41, 42, 43, 44, 45, 46, 47], \"xaxis\": \"x\", \"y\": [0.4428125023841858, 0.7182291746139526, 0.801770806312561, 0.84354168176651, 0.8758333325386047, 0.8943750262260437, 0.9106249809265137, 0.9232291579246521, 0.9254166483879089, 0.9363541603088379, 0.940416693687439, 0.9466666579246521, 0.9511458277702332, 0.9535416960716248, 0.9538541436195374, 0.9615625143051147, 0.9582291841506958, 0.9668750166893005, 0.965416669845581, 0.965624988079071, 0.9669791460037231, 0.9709374904632568, 0.9728124737739563, 0.9721875190734863, 0.9778125286102295, 0.9757291674613953, 0.9789583086967468, 0.9785416722297668, 0.9777083396911621, 0.9787499904632568, 0.9801041483879089, 0.9805208444595337, 0.9802083373069763, 0.9807291626930237, 0.9817708134651184, 0.9817708134651184, 0.9840624928474426, 0.9848958253860474, 0.9805208444595337, 0.9856250286102295, 0.9857291579246521, 0.9886458516120911, 0.9852083325386047, 0.9869791865348816, 0.9844791889190674, 0.9869791865348816, 0.9873958230018616], \"yaxis\": \"y\"}, {\"marker\": {\"color\": \"Red\"}, \"mode\": \"markers+lines\", \"name\": \"Validation accuracy\", \"text\": [\"1\", \"2\", \"3\", \"4\", \"5\", \"6\", \"7\", \"8\", \"9\", \"10\", \"11\", \"12\", \"13\", \"14\", \"15\", \"16\", \"17\", \"18\", \"19\", \"20\", \"21\", \"22\", \"23\", \"24\", \"25\", \"26\", \"27\", \"28\", \"29\", \"30\", \"31\", \"32\", \"33\", \"34\", \"35\", \"36\", \"37\", \"38\", \"39\", \"40\", \"41\", \"42\", \"43\", \"44\", \"45\", \"46\", \"47\"], \"type\": \"scatter\", \"x\": [1, 2, 3, 4, 5, 6, 7, 8, 9, 10, 11, 12, 13, 14, 15, 16, 17, 18, 19, 20, 21, 22, 23, 24, 25, 26, 27, 28, 29, 30, 31, 32, 33, 34, 35, 36, 37, 38, 39, 40, 41, 42, 43, 44, 45, 46, 47], \"xaxis\": \"x\", \"y\": [0.6512500047683716, 0.7975000143051147, 0.8374999761581421, 0.8812500238418579, 0.90625, 0.9145833253860474, 0.9191666841506958, 0.9333333373069763, 0.9320833086967468, 0.9375, 0.9379166960716248, 0.9491666555404663, 0.949999988079071, 0.9445833563804626, 0.95291668176651, 0.9591666460037231, 0.9474999904632568, 0.965833306312561, 0.956250011920929, 0.96875, 0.9516666531562805, 0.965416669845581, 0.9645833373069763, 0.9624999761581421, 0.96875, 0.9629166722297668, 0.9725000262260437, 0.9683333039283752, 0.9666666388511658, 0.9729166626930237, 0.9620833396911621, 0.9712499976158142, 0.965416669845581, 0.9691666960716248, 0.9762499928474426, 0.9712499976158142, 0.9712499976158142, 0.9775000214576721, 0.9741666913032532, 0.9733333587646484, 0.9733333587646484, 0.9750000238418579, 0.9708333611488342, 0.9745833277702332, 0.9745833277702332, 0.9670833349227905, 0.9745833277702332], \"yaxis\": \"y\"}, {\"marker\": {\"color\": \"Blue\"}, \"mode\": \"markers+lines\", \"name\": \"Training loss\", \"text\": [\"1\", \"2\", \"3\", \"4\", \"5\", \"6\", \"7\", \"8\", \"9\", \"10\", \"11\", \"12\", \"13\", \"14\", \"15\", \"16\", \"17\", \"18\", \"19\", \"20\", \"21\", \"22\", \"23\", \"24\", \"25\", \"26\", \"27\", \"28\", \"29\", \"30\", \"31\", \"32\", \"33\", \"34\", \"35\", \"36\", \"37\", \"38\", \"39\", \"40\", \"41\", \"42\", \"43\", \"44\", \"45\", \"46\", \"47\"], \"type\": \"scatter\", \"x\": [1, 2, 3, 4, 5, 6, 7, 8, 9, 10, 11, 12, 13, 14, 15, 16, 17, 18, 19, 20, 21, 22, 23, 24, 25, 26, 27, 28, 29, 30, 31, 32, 33, 34, 35, 36, 37, 38, 39, 40, 41, 42, 43, 44, 45, 46, 47], \"xaxis\": \"x2\", \"y\": [1.8026535511016846, 0.8962011933326721, 0.6266570091247559, 0.4780673682689667, 0.37890616059303284, 0.308036744594574, 0.26797059178352356, 0.24011729657649994, 0.21665507555007935, 0.18643970787525177, 0.174860879778862, 0.15710529685020447, 0.15061317384243011, 0.12940064072608948, 0.13595566153526306, 0.1198769137263298, 0.12222602963447571, 0.09988849610090256, 0.10098075866699219, 0.09568312019109726, 0.09392324835062027, 0.0864260196685791, 0.07748015969991684, 0.08636874705553055, 0.0706549808382988, 0.06941390782594681, 0.06639079004526138, 0.06586498767137527, 0.06659132987260818, 0.0640004575252533, 0.0569266751408577, 0.05676767975091934, 0.05586015060544014, 0.05656810104846954, 0.05017636716365814, 0.051872435957193375, 0.04612036794424057, 0.048096537590026855, 0.05340378358960152, 0.04333018139004707, 0.04186801239848137, 0.032932084053754807, 0.04450809583067894, 0.040387898683547974, 0.043729327619075775, 0.035921718925237656, 0.04007668048143387], \"yaxis\": \"y2\"}, {\"marker\": {\"color\": \"Magenta\"}, \"mode\": \"markers+lines\", \"name\": \"Validation loss\", \"text\": [\"1\", \"2\", \"3\", \"4\", \"5\", \"6\", \"7\", \"8\", \"9\", \"10\", \"11\", \"12\", \"13\", \"14\", \"15\", \"16\", \"17\", \"18\", \"19\", \"20\", \"21\", \"22\", \"23\", \"24\", \"25\", \"26\", \"27\", \"28\", \"29\", \"30\", \"31\", \"32\", \"33\", \"34\", \"35\", \"36\", \"37\", \"38\", \"39\", \"40\", \"41\", \"42\", \"43\", \"44\", \"45\", \"46\", \"47\"], \"type\": \"scatter\", \"x\": [1, 2, 3, 4, 5, 6, 7, 8, 9, 10, 11, 12, 13, 14, 15, 16, 17, 18, 19, 20, 21, 22, 23, 24, 25, 26, 27, 28, 29, 30, 31, 32, 33, 34, 35, 36, 37, 38, 39, 40, 41, 42, 43, 44, 45, 46, 47], \"xaxis\": \"x2\", \"y\": [1.1596956253051758, 0.6821192502975464, 0.5103517770767212, 0.38423824310302734, 0.313837468624115, 0.2856386601924896, 0.2650141716003418, 0.2264418601989746, 0.2410862296819687, 0.21855652332305908, 0.22174198925495148, 0.1838732808828354, 0.19195856153964996, 0.20110774040222168, 0.17185522615909576, 0.1612699180841446, 0.19599130749702454, 0.1528095155954361, 0.18958988785743713, 0.14443154633045197, 0.2009955644607544, 0.15973088145256042, 0.16096259653568268, 0.16966935992240906, 0.15449346601963043, 0.16029442846775055, 0.15170595049858093, 0.15205547213554382, 0.14641761779785156, 0.13933992385864258, 0.17875216901302338, 0.14338889718055725, 0.16584739089012146, 0.14603260159492493, 0.13275571167469025, 0.14816755056381226, 0.14957252144813538, 0.1342034637928009, 0.12733623385429382, 0.13849233090877533, 0.14149299263954163, 0.13807548582553864, 0.13980095088481903, 0.1402755230665207, 0.13448160886764526, 0.16660010814666748, 0.14225754141807556], \"yaxis\": \"y2\"}],\n",
       "                        {\"annotations\": [{\"font\": {\"size\": 16}, \"showarrow\": false, \"text\": \"Training and validation accuracy\", \"x\": 0.225, \"xanchor\": \"center\", \"xref\": \"paper\", \"y\": 1.0, \"yanchor\": \"bottom\", \"yref\": \"paper\"}, {\"font\": {\"size\": 16}, \"showarrow\": false, \"text\": \"Training and validation loss\", \"x\": 0.775, \"xanchor\": \"center\", \"xref\": \"paper\", \"y\": 1.0, \"yanchor\": \"bottom\", \"yref\": \"paper\"}], \"template\": {\"data\": {\"bar\": [{\"error_x\": {\"color\": \"#2a3f5f\"}, \"error_y\": {\"color\": \"#2a3f5f\"}, \"marker\": {\"line\": {\"color\": \"#E5ECF6\", \"width\": 0.5}}, \"type\": \"bar\"}], \"barpolar\": [{\"marker\": {\"line\": {\"color\": \"#E5ECF6\", \"width\": 0.5}}, \"type\": \"barpolar\"}], \"carpet\": [{\"aaxis\": {\"endlinecolor\": \"#2a3f5f\", \"gridcolor\": \"white\", \"linecolor\": \"white\", \"minorgridcolor\": \"white\", \"startlinecolor\": \"#2a3f5f\"}, \"baxis\": {\"endlinecolor\": \"#2a3f5f\", \"gridcolor\": \"white\", \"linecolor\": \"white\", \"minorgridcolor\": \"white\", \"startlinecolor\": \"#2a3f5f\"}, \"type\": \"carpet\"}], \"choropleth\": [{\"colorbar\": {\"outlinewidth\": 0, \"ticks\": \"\"}, \"type\": \"choropleth\"}], \"contour\": [{\"colorbar\": {\"outlinewidth\": 0, \"ticks\": \"\"}, \"colorscale\": [[0.0, \"#0d0887\"], [0.1111111111111111, \"#46039f\"], [0.2222222222222222, \"#7201a8\"], [0.3333333333333333, \"#9c179e\"], [0.4444444444444444, \"#bd3786\"], [0.5555555555555556, \"#d8576b\"], [0.6666666666666666, \"#ed7953\"], [0.7777777777777778, \"#fb9f3a\"], [0.8888888888888888, \"#fdca26\"], [1.0, \"#f0f921\"]], \"type\": \"contour\"}], \"contourcarpet\": [{\"colorbar\": {\"outlinewidth\": 0, \"ticks\": \"\"}, \"type\": \"contourcarpet\"}], \"heatmap\": [{\"colorbar\": {\"outlinewidth\": 0, \"ticks\": \"\"}, \"colorscale\": [[0.0, \"#0d0887\"], [0.1111111111111111, \"#46039f\"], [0.2222222222222222, \"#7201a8\"], [0.3333333333333333, \"#9c179e\"], [0.4444444444444444, \"#bd3786\"], [0.5555555555555556, \"#d8576b\"], [0.6666666666666666, \"#ed7953\"], [0.7777777777777778, \"#fb9f3a\"], [0.8888888888888888, \"#fdca26\"], [1.0, \"#f0f921\"]], \"type\": \"heatmap\"}], \"heatmapgl\": [{\"colorbar\": {\"outlinewidth\": 0, \"ticks\": \"\"}, \"colorscale\": [[0.0, \"#0d0887\"], [0.1111111111111111, \"#46039f\"], [0.2222222222222222, \"#7201a8\"], [0.3333333333333333, \"#9c179e\"], [0.4444444444444444, \"#bd3786\"], [0.5555555555555556, \"#d8576b\"], [0.6666666666666666, \"#ed7953\"], [0.7777777777777778, \"#fb9f3a\"], [0.8888888888888888, \"#fdca26\"], [1.0, \"#f0f921\"]], \"type\": \"heatmapgl\"}], \"histogram\": [{\"marker\": {\"colorbar\": {\"outlinewidth\": 0, \"ticks\": \"\"}}, \"type\": \"histogram\"}], \"histogram2d\": [{\"colorbar\": {\"outlinewidth\": 0, \"ticks\": \"\"}, \"colorscale\": [[0.0, \"#0d0887\"], [0.1111111111111111, \"#46039f\"], [0.2222222222222222, \"#7201a8\"], [0.3333333333333333, \"#9c179e\"], [0.4444444444444444, \"#bd3786\"], [0.5555555555555556, \"#d8576b\"], [0.6666666666666666, \"#ed7953\"], [0.7777777777777778, \"#fb9f3a\"], [0.8888888888888888, \"#fdca26\"], [1.0, \"#f0f921\"]], \"type\": \"histogram2d\"}], \"histogram2dcontour\": [{\"colorbar\": {\"outlinewidth\": 0, \"ticks\": \"\"}, \"colorscale\": [[0.0, \"#0d0887\"], [0.1111111111111111, \"#46039f\"], [0.2222222222222222, \"#7201a8\"], [0.3333333333333333, \"#9c179e\"], [0.4444444444444444, \"#bd3786\"], [0.5555555555555556, \"#d8576b\"], [0.6666666666666666, \"#ed7953\"], [0.7777777777777778, \"#fb9f3a\"], [0.8888888888888888, \"#fdca26\"], [1.0, \"#f0f921\"]], \"type\": \"histogram2dcontour\"}], \"mesh3d\": [{\"colorbar\": {\"outlinewidth\": 0, \"ticks\": \"\"}, \"type\": \"mesh3d\"}], \"parcoords\": [{\"line\": {\"colorbar\": {\"outlinewidth\": 0, \"ticks\": \"\"}}, \"type\": \"parcoords\"}], \"pie\": [{\"automargin\": true, \"type\": \"pie\"}], \"scatter\": [{\"marker\": {\"colorbar\": {\"outlinewidth\": 0, \"ticks\": \"\"}}, \"type\": \"scatter\"}], \"scatter3d\": [{\"line\": {\"colorbar\": {\"outlinewidth\": 0, \"ticks\": \"\"}}, \"marker\": {\"colorbar\": {\"outlinewidth\": 0, \"ticks\": \"\"}}, \"type\": \"scatter3d\"}], \"scattercarpet\": [{\"marker\": {\"colorbar\": {\"outlinewidth\": 0, \"ticks\": \"\"}}, \"type\": \"scattercarpet\"}], \"scattergeo\": [{\"marker\": {\"colorbar\": {\"outlinewidth\": 0, \"ticks\": \"\"}}, \"type\": \"scattergeo\"}], \"scattergl\": [{\"marker\": {\"colorbar\": {\"outlinewidth\": 0, \"ticks\": \"\"}}, \"type\": \"scattergl\"}], \"scattermapbox\": [{\"marker\": {\"colorbar\": {\"outlinewidth\": 0, \"ticks\": \"\"}}, \"type\": \"scattermapbox\"}], \"scatterpolar\": [{\"marker\": {\"colorbar\": {\"outlinewidth\": 0, \"ticks\": \"\"}}, \"type\": \"scatterpolar\"}], \"scatterpolargl\": [{\"marker\": {\"colorbar\": {\"outlinewidth\": 0, \"ticks\": \"\"}}, \"type\": \"scatterpolargl\"}], \"scatterternary\": [{\"marker\": {\"colorbar\": {\"outlinewidth\": 0, \"ticks\": \"\"}}, \"type\": \"scatterternary\"}], \"surface\": [{\"colorbar\": {\"outlinewidth\": 0, \"ticks\": \"\"}, \"colorscale\": [[0.0, \"#0d0887\"], [0.1111111111111111, \"#46039f\"], [0.2222222222222222, \"#7201a8\"], [0.3333333333333333, \"#9c179e\"], [0.4444444444444444, \"#bd3786\"], [0.5555555555555556, \"#d8576b\"], [0.6666666666666666, \"#ed7953\"], [0.7777777777777778, \"#fb9f3a\"], [0.8888888888888888, \"#fdca26\"], [1.0, \"#f0f921\"]], \"type\": \"surface\"}], \"table\": [{\"cells\": {\"fill\": {\"color\": \"#EBF0F8\"}, \"line\": {\"color\": \"white\"}}, \"header\": {\"fill\": {\"color\": \"#C8D4E3\"}, \"line\": {\"color\": \"white\"}}, \"type\": \"table\"}]}, \"layout\": {\"annotationdefaults\": {\"arrowcolor\": \"#2a3f5f\", \"arrowhead\": 0, \"arrowwidth\": 1}, \"coloraxis\": {\"colorbar\": {\"outlinewidth\": 0, \"ticks\": \"\"}}, \"colorscale\": {\"diverging\": [[0, \"#8e0152\"], [0.1, \"#c51b7d\"], [0.2, \"#de77ae\"], [0.3, \"#f1b6da\"], [0.4, \"#fde0ef\"], [0.5, \"#f7f7f7\"], [0.6, \"#e6f5d0\"], [0.7, \"#b8e186\"], [0.8, \"#7fbc41\"], [0.9, \"#4d9221\"], [1, \"#276419\"]], \"sequential\": [[0.0, \"#0d0887\"], [0.1111111111111111, \"#46039f\"], [0.2222222222222222, \"#7201a8\"], [0.3333333333333333, \"#9c179e\"], [0.4444444444444444, \"#bd3786\"], [0.5555555555555556, \"#d8576b\"], [0.6666666666666666, \"#ed7953\"], [0.7777777777777778, \"#fb9f3a\"], [0.8888888888888888, \"#fdca26\"], [1.0, \"#f0f921\"]], \"sequentialminus\": [[0.0, \"#0d0887\"], [0.1111111111111111, \"#46039f\"], [0.2222222222222222, \"#7201a8\"], [0.3333333333333333, \"#9c179e\"], [0.4444444444444444, \"#bd3786\"], [0.5555555555555556, \"#d8576b\"], [0.6666666666666666, \"#ed7953\"], [0.7777777777777778, \"#fb9f3a\"], [0.8888888888888888, \"#fdca26\"], [1.0, \"#f0f921\"]]}, \"colorway\": [\"#636efa\", \"#EF553B\", \"#00cc96\", \"#ab63fa\", \"#FFA15A\", \"#19d3f3\", \"#FF6692\", \"#B6E880\", \"#FF97FF\", \"#FECB52\"], \"font\": {\"color\": \"#2a3f5f\"}, \"geo\": {\"bgcolor\": \"white\", \"lakecolor\": \"white\", \"landcolor\": \"#E5ECF6\", \"showlakes\": true, \"showland\": true, \"subunitcolor\": \"white\"}, \"hoverlabel\": {\"align\": \"left\"}, \"hovermode\": \"closest\", \"mapbox\": {\"style\": \"light\"}, \"paper_bgcolor\": \"white\", \"plot_bgcolor\": \"#E5ECF6\", \"polar\": {\"angularaxis\": {\"gridcolor\": \"white\", \"linecolor\": \"white\", \"ticks\": \"\"}, \"bgcolor\": \"#E5ECF6\", \"radialaxis\": {\"gridcolor\": \"white\", \"linecolor\": \"white\", \"ticks\": \"\"}}, \"scene\": {\"xaxis\": {\"backgroundcolor\": \"#E5ECF6\", \"gridcolor\": \"white\", \"gridwidth\": 2, \"linecolor\": \"white\", \"showbackground\": true, \"ticks\": \"\", \"zerolinecolor\": \"white\"}, \"yaxis\": {\"backgroundcolor\": \"#E5ECF6\", \"gridcolor\": \"white\", \"gridwidth\": 2, \"linecolor\": \"white\", \"showbackground\": true, \"ticks\": \"\", \"zerolinecolor\": \"white\"}, \"zaxis\": {\"backgroundcolor\": \"#E5ECF6\", \"gridcolor\": \"white\", \"gridwidth\": 2, \"linecolor\": \"white\", \"showbackground\": true, \"ticks\": \"\", \"zerolinecolor\": \"white\"}}, \"shapedefaults\": {\"line\": {\"color\": \"#2a3f5f\"}}, \"ternary\": {\"aaxis\": {\"gridcolor\": \"white\", \"linecolor\": \"white\", \"ticks\": \"\"}, \"baxis\": {\"gridcolor\": \"white\", \"linecolor\": \"white\", \"ticks\": \"\"}, \"bgcolor\": \"#E5ECF6\", \"caxis\": {\"gridcolor\": \"white\", \"linecolor\": \"white\", \"ticks\": \"\"}}, \"title\": {\"x\": 0.05}, \"xaxis\": {\"automargin\": true, \"gridcolor\": \"white\", \"linecolor\": \"white\", \"ticks\": \"\", \"title\": {\"standoff\": 15}, \"zerolinecolor\": \"white\", \"zerolinewidth\": 2}, \"yaxis\": {\"automargin\": true, \"gridcolor\": \"white\", \"linecolor\": \"white\", \"ticks\": \"\", \"title\": {\"standoff\": 15}, \"zerolinecolor\": \"white\", \"zerolinewidth\": 2}}}, \"xaxis\": {\"anchor\": \"y\", \"domain\": [0.0, 0.45], \"title\": {\"text\": \"Epoch\"}}, \"xaxis2\": {\"anchor\": \"y2\", \"domain\": [0.55, 1.0], \"title\": {\"text\": \"Epoch\"}}, \"yaxis\": {\"anchor\": \"x\", \"domain\": [0.0, 1.0], \"range\": [0, 1], \"title\": {\"text\": \"Accuracy\"}}, \"yaxis2\": {\"anchor\": \"x2\", \"domain\": [0.0, 1.0], \"range\": [0, 1], \"title\": {\"text\": \"Loss\"}}},\n",
       "                        {\"responsive\": true}\n",
       "                    ).then(function(){\n",
       "                            \n",
       "var gd = document.getElementById('017419b9-723b-4aad-b355-486fe50a2840');\n",
       "var x = new MutationObserver(function (mutations, observer) {{\n",
       "        var display = window.getComputedStyle(gd).display;\n",
       "        if (!display || display === 'none') {{\n",
       "            console.log([gd, 'removed!']);\n",
       "            Plotly.purge(gd);\n",
       "            observer.disconnect();\n",
       "        }}\n",
       "}});\n",
       "\n",
       "// Listen for the removal of the full notebook cells\n",
       "var notebookContainer = gd.closest('#notebook-container');\n",
       "if (notebookContainer) {{\n",
       "    x.observe(notebookContainer, {childList: true});\n",
       "}}\n",
       "\n",
       "// Listen for the clearing of the current output cell\n",
       "var outputEl = gd.closest('.output');\n",
       "if (outputEl) {{\n",
       "    x.observe(outputEl, {childList: true});\n",
       "}}\n",
       "\n",
       "                        })\n",
       "                };\n",
       "                });\n",
       "            </script>\n",
       "        </div>"
      ]
     },
     "metadata": {}
    }
   ],
   "metadata": {
    "_kg_hide-input": true,
    "_uuid": "a87e3beea44a87a806893b798a38d26904d10718",
    "execution": {
     "iopub.execute_input": "2021-03-20T10:08:19.115334Z",
     "iopub.status.busy": "2021-03-20T10:08:19.114487Z",
     "iopub.status.idle": "2021-03-20T10:08:19.836091Z",
     "shell.execute_reply": "2021-03-20T10:08:19.836519Z"
    },
    "papermill": {
     "duration": 1.125025,
     "end_time": "2021-03-20T10:08:19.836636",
     "exception": false,
     "start_time": "2021-03-20T10:08:18.711611",
     "status": "completed"
    },
    "tags": []
   }
  },
  {
   "cell_type": "markdown",
   "source": [
    "<a href=\"#0\"><font size=\"1\">Go to top</font></a>  \n",
    "\n",
    "\n",
    "## <a id='43'>Prediction of test set</a> "
   ],
   "metadata": {
    "papermill": {
     "duration": 0.395612,
     "end_time": "2021-03-20T10:08:20.634392",
     "exception": false,
     "start_time": "2021-03-20T10:08:20.238780",
     "status": "completed"
    },
    "tags": []
   }
  },
  {
   "cell_type": "markdown",
   "source": [
    "\n",
    "Let's continue by evaluating the **test** set **loss** and **accuracy**. We will use here the test set."
   ],
   "metadata": {
    "_uuid": "a77c0127288f090233e70831e6b909c1618efa35",
    "papermill": {
     "duration": 0.397927,
     "end_time": "2021-03-20T10:08:21.437058",
     "exception": false,
     "start_time": "2021-03-20T10:08:21.039131",
     "status": "completed"
    },
    "tags": []
   }
  },
  {
   "cell_type": "markdown",
   "source": [
    "### Predict using last epoch model"
   ],
   "metadata": {
    "papermill": {
     "duration": 0.396388,
     "end_time": "2021-03-20T10:08:22.230034",
     "exception": false,
     "start_time": "2021-03-20T10:08:21.833646",
     "status": "completed"
    },
    "tags": []
   }
  },
  {
   "cell_type": "code",
   "execution_count": 27,
   "source": [
    "score = model.evaluate(X_test, y_test, verbose=0)\n",
    "print('Test loss:', score[0])\n",
    "print('Test accuracy:', score[1])"
   ],
   "outputs": [
    {
     "output_type": "stream",
     "name": "stdout",
     "text": [
      "Test loss: 0.1659725457429886\n",
      "Test accuracy: 0.9723333120346069\n"
     ]
    }
   ],
   "metadata": {
    "_kg_hide-input": true,
    "_uuid": "1f54e33fcba0e3054d364f35a22f69ef350e8e0d",
    "execution": {
     "iopub.execute_input": "2021-03-20T10:08:23.035736Z",
     "iopub.status.busy": "2021-03-20T10:08:23.034459Z",
     "iopub.status.idle": "2021-03-20T10:08:23.461754Z",
     "shell.execute_reply": "2021-03-20T10:08:23.460468Z"
    },
    "papermill": {
     "duration": 0.834468,
     "end_time": "2021-03-20T10:08:23.461862",
     "exception": false,
     "start_time": "2021-03-20T10:08:22.627394",
     "status": "completed"
    },
    "tags": []
   }
  },
  {
   "cell_type": "markdown",
   "source": [
    "Let's check also the test accuracy per class."
   ],
   "metadata": {
    "_uuid": "46cd7e86e92ac2ec484f0c38c451465cc16a2736",
    "papermill": {
     "duration": 0.399753,
     "end_time": "2021-03-20T10:08:24.260877",
     "exception": false,
     "start_time": "2021-03-20T10:08:23.861124",
     "status": "completed"
    },
    "tags": []
   }
  },
  {
   "cell_type": "code",
   "execution_count": 28,
   "source": [
    "def test_accuracy_report(model):\n",
    "    predicted = model.predict(X_test)\n",
    "    test_predicted = np.argmax(predicted, axis=1)\n",
    "    test_truth = np.argmax(y_test.values, axis=1)\n",
    "    print(metrics.classification_report(test_truth, test_predicted, target_names=y_test.columns)) \n",
    "    test_res = model.evaluate(X_test, y_test.values, verbose=0)\n",
    "    print('Loss function: %s, accuracy:' % test_res[0], test_res[1])"
   ],
   "outputs": [],
   "metadata": {
    "_kg_hide-input": true,
    "_uuid": "55e96cfdaf488df5bc3d5511fa062563926227ad",
    "execution": {
     "iopub.execute_input": "2021-03-20T10:08:25.337202Z",
     "iopub.status.busy": "2021-03-20T10:08:25.335647Z",
     "iopub.status.idle": "2021-03-20T10:08:25.337874Z",
     "shell.execute_reply": "2021-03-20T10:08:25.338660Z"
    },
    "papermill": {
     "duration": 0.681134,
     "end_time": "2021-03-20T10:08:25.338796",
     "exception": false,
     "start_time": "2021-03-20T10:08:24.657662",
     "status": "completed"
    },
    "tags": []
   }
  },
  {
   "cell_type": "code",
   "execution_count": 29,
   "source": [
    "test_accuracy_report(model)"
   ],
   "outputs": [
    {
     "output_type": "stream",
     "name": "stdout",
     "text": [
      "              precision    recall  f1-score   support\n",
      "\n",
      "           一       0.99      0.98      0.99       200\n",
      "           七       0.98      0.98      0.98       200\n",
      "           万       0.95      0.97      0.96       200\n",
      "           三       0.98      0.97      0.97       200\n",
      "           九       0.96      0.92      0.94       200\n",
      "           二       0.97      0.97      0.97       200\n",
      "           五       1.00      1.00      1.00       200\n",
      "           亿       0.90      0.98      0.94       200\n",
      "           八       1.00      1.00      1.00       200\n",
      "           六       0.98      0.99      0.99       200\n",
      "           十       0.97      0.95      0.96       200\n",
      "           千       0.95      0.96      0.96       200\n",
      "           四       0.97      0.99      0.98       200\n",
      "           百       1.00      0.91      0.95       200\n",
      "           零       0.99      0.99      0.99       200\n",
      "\n",
      "    accuracy                           0.97      3000\n",
      "   macro avg       0.97      0.97      0.97      3000\n",
      "weighted avg       0.97      0.97      0.97      3000\n",
      "\n",
      "Loss function: 0.1659725457429886, accuracy: 0.9723333120346069\n"
     ]
    }
   ],
   "metadata": {
    "_kg_hide-input": true,
    "_uuid": "68c06c36ae2f89e070c878bf5f660e765d23878b",
    "execution": {
     "iopub.execute_input": "2021-03-20T10:08:26.153147Z",
     "iopub.status.busy": "2021-03-20T10:08:26.152093Z",
     "iopub.status.idle": "2021-03-20T10:08:26.766399Z",
     "shell.execute_reply": "2021-03-20T10:08:26.765956Z"
    },
    "papermill": {
     "duration": 1.016489,
     "end_time": "2021-03-20T10:08:26.766499",
     "exception": false,
     "start_time": "2021-03-20T10:08:25.750010",
     "status": "completed"
    },
    "tags": []
   }
  },
  {
   "cell_type": "markdown",
   "source": [
    "### Predict using best model"
   ],
   "metadata": {
    "papermill": {
     "duration": 0.445955,
     "end_time": "2021-03-20T10:08:27.611195",
     "exception": false,
     "start_time": "2021-03-20T10:08:27.165240",
     "status": "completed"
    },
    "tags": []
   }
  },
  {
   "cell_type": "code",
   "execution_count": 30,
   "source": [
    "model_optimal = model\n",
    "model_optimal.load_weights('best_model.h5')\n",
    "score = model_optimal.evaluate(X_test, y_test, verbose=0)\n",
    "print(f'Best validation loss: {score[0]}, accuracy: {score[1]}')\n",
    "\n",
    "test_accuracy_report(model_optimal)"
   ],
   "outputs": [
    {
     "output_type": "stream",
     "name": "stdout",
     "text": [
      "Best validation loss: 0.15444649755954742, accuracy: 0.9710000157356262\n",
      "              precision    recall  f1-score   support\n",
      "\n",
      "           一       1.00      0.97      0.98       200\n",
      "           七       0.98      0.94      0.96       200\n",
      "           万       0.97      0.97      0.97       200\n",
      "           三       0.96      0.98      0.97       200\n",
      "           九       0.93      0.93      0.93       200\n",
      "           二       0.96      0.96      0.96       200\n",
      "           五       1.00      1.00      1.00       200\n",
      "           亿       0.91      0.98      0.94       200\n",
      "           八       1.00      0.99      0.99       200\n",
      "           六       0.98      0.99      0.99       200\n",
      "           十       0.96      0.94      0.95       200\n",
      "           千       0.94      0.96      0.95       200\n",
      "           四       1.00      0.98      0.99       200\n",
      "           百       0.98      0.95      0.97       200\n",
      "           零       0.99      1.00      0.99       200\n",
      "\n",
      "    accuracy                           0.97      3000\n",
      "   macro avg       0.97      0.97      0.97      3000\n",
      "weighted avg       0.97      0.97      0.97      3000\n",
      "\n",
      "Loss function: 0.15444649755954742, accuracy: 0.9710000157356262\n"
     ]
    }
   ],
   "metadata": {
    "execution": {
     "iopub.execute_input": "2021-03-20T10:08:28.434463Z",
     "iopub.status.busy": "2021-03-20T10:08:28.433449Z",
     "iopub.status.idle": "2021-03-20T10:08:29.216196Z",
     "shell.execute_reply": "2021-03-20T10:08:29.215480Z"
    },
    "papermill": {
     "duration": 1.205589,
     "end_time": "2021-03-20T10:08:29.216296",
     "exception": false,
     "start_time": "2021-03-20T10:08:28.010707",
     "status": "completed"
    },
    "tags": []
   }
  },
  {
   "cell_type": "markdown",
   "source": [
    "# <a id='5'>Conclusions</a>  \n",
    " \n",
    " \n",
    "Training uses 64% of the total data (9,600 / 15,000 images), validation 16% of the total images (2,400 / 15,000) and test 3,000 images (20% of the total number of images).\n",
    "\n",
    "Tensorflow/Keras with GPU, with 2 set of Convolutional layers, MaxPool and Dropout, using as well a variable learning rate, periodic saving best model and early stopping and then using best model for testing, resulted in 97% accuracy for testing set.\n"
   ],
   "metadata": {
    "papermill": {
     "duration": 0.416428,
     "end_time": "2021-03-20T10:08:30.033059",
     "exception": false,
     "start_time": "2021-03-20T10:08:29.616631",
     "status": "completed"
    },
    "tags": []
   }
  }
 ],
 "metadata": {
  "kernelspec": {
   "name": "python3",
   "display_name": "Python 3.8.8 64-bit ('siming': conda)"
  },
  "language_info": {
   "codemirror_mode": {
    "name": "ipython",
    "version": 3
   },
   "file_extension": ".py",
   "mimetype": "text/x-python",
   "name": "python",
   "nbconvert_exporter": "python",
   "pygments_lexer": "ipython3",
   "version": "3.8.8"
  },
  "papermill": {
   "duration": 257.963989,
   "end_time": "2021-03-20T10:08:32.393953",
   "environment_variables": {},
   "exception": null,
   "input_path": "__notebook__.ipynb",
   "output_path": "__notebook__.ipynb",
   "parameters": {},
   "start_time": "2021-03-20T10:04:14.429964",
   "version": "2.1.0"
  },
  "interpreter": {
   "hash": "47b50d2908d96196e4220cfb4e81faa93803065ea975497e7026f672c1f58470"
  }
 },
 "nbformat": 4,
 "nbformat_minor": 4
}