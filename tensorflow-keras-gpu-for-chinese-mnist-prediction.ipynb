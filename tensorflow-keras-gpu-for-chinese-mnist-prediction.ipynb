{
 "cells": [
  {
   "cell_type": "markdown",
   "source": [
    "<h1><center><font size=\"6\">Tensorflow/Keras/GPU for Chinese MNIST Prediction</font></center></h1>\r\n",
    "\r\n",
    "\r\n",
    "# <a id='0'>Content</a>\r\n",
    "\r\n",
    "- <a href='#1'>Introduction</a>  \r\n",
    "- <a href='#2'>Prepare the data analysis</a>   \r\n",
    "- <a href='#3'>Data exploration</a>   \r\n",
    "- <a href='#4'>Characters classification</a>       \r\n",
    "- <a href='#5'>Conclusions</a>       \r\n"
   ],
   "metadata": {
    "_cell_guid": "b1076dfc-b9ad-4769-8c92-a6c4dae69d19",
    "_uuid": "8f2839f25d086af736a60e9eeb907d3b93b6e0e5",
    "papermill": {
     "duration": 0.034653,
     "end_time": "2021-03-20T10:04:18.474476",
     "exception": false,
     "start_time": "2021-03-20T10:04:18.439823",
     "status": "completed"
    },
    "tags": []
   }
  },
  {
   "cell_type": "markdown",
   "source": [
    "# <a id='1'>Introduction</a>  \r\n",
    "\r\n",
    "\r\n",
    "The objective of the Kernel is to take us through the steps of a machine learning analysis.   \r\n",
    "\r\n",
    "\r\n",
    "We will use a dataset with adnotated images of Chinese numbers, handwritten by a number of 100 volunteers, each providing a number of 10 samples, each sample with a complete set of 15 Chinese characters for numbers.\r\n",
    "\r\n",
    "The Chinese characters are the following:\r\n",
    "* 零 - for 0  \r\n",
    "* 一 - for 1\r\n",
    "* 二 - for 2  \r\n",
    "* 三 - for 3  \r\n",
    "* 四 - for 4  \r\n",
    "* 五 - for 5  \r\n",
    "* 六 - for 6  \r\n",
    "* 七 - for 7  \r\n",
    "* 八 - for 8  \r\n",
    "* 九 - for 9  \r\n",
    "* 十 - for 10\r\n",
    "* 百 - for 100\r\n",
    "* 千 - for 1000\r\n",
    "* 万 - for 10 thousands\r\n",
    "* 亿 - for 100 millions\r\n",
    "\r\n",
    "\r\n",
    "\r\n",
    "We start by preparing the analysis (load the libraries and the data), continue with an Exploratory Data Analysis (EDA).\r\n",
    "\r\n",
    "We follow then with features engineering and preparation for creation of a model. The dataset is split in training, validation and test set. \r\n",
    "\r\n",
    "We run a model using Tensorflow through Keras interface, with GPU acceleration, using as well Dropouts, variable learning speed and early stoping based on variation of validation error accuracy.\r\n",
    "\r\n",
    "At the end, we use the best model to predict for the test set.\r\n",
    "\r\n",
    "<a href=\"#0\"><font size=\"1\">Go to top</font></a>  "
   ],
   "metadata": {
    "_uuid": "a8e77ace65f04c89a878bf18249e4d8e23fec996",
    "papermill": {
     "duration": 0.031959,
     "end_time": "2021-03-20T10:04:18.538933",
     "exception": false,
     "start_time": "2021-03-20T10:04:18.506974",
     "status": "completed"
    },
    "tags": []
   }
  },
  {
   "cell_type": "markdown",
   "source": [
    "# <a id='2'>Prepare the data analysis</a>   \n",
    "\n",
    "\n",
    "Before starting the analysis, we need to make few preparation: load the packages, load and inspect the data.\n",
    "\n"
   ],
   "metadata": {
    "_uuid": "4e97555eb77978a29a51c41f39cec67136b18157",
    "papermill": {
     "duration": 0.031926,
     "end_time": "2021-03-20T10:04:18.602569",
     "exception": false,
     "start_time": "2021-03-20T10:04:18.570643",
     "status": "completed"
    },
    "tags": []
   }
  },
  {
   "cell_type": "markdown",
   "source": [
    "# <a id='21'>Load packages</a>\n",
    "\n",
    "We load the packages used for the analysis.\n"
   ],
   "metadata": {
    "_uuid": "cb2e73fe056a3dda7eb48eeac2facf0c441816d1",
    "papermill": {
     "duration": 0.031743,
     "end_time": "2021-03-20T10:04:18.666646",
     "exception": false,
     "start_time": "2021-03-20T10:04:18.634903",
     "status": "completed"
    },
    "tags": []
   }
  },
  {
   "cell_type": "code",
   "execution_count": 144,
   "source": [
    "import pandas as pd\r\n",
    "import numpy as np\r\n",
    "import sys\r\n",
    "import os\r\n",
    "import random\r\n",
    "from pathlib import Path\r\n",
    "import imageio\r\n",
    "import skimage\r\n",
    "import skimage.io\r\n",
    "import skimage.transform\r\n",
    "import matplotlib.pyplot as plt\r\n",
    "import seaborn as sns\r\n",
    "import plotly.graph_objs as go\r\n",
    "import plotly.figure_factory as ff\r\n",
    "from plotly import tools\r\n",
    "from plotly.offline import download_plotlyjs, init_notebook_mode, plot, iplot\r\n",
    "init_notebook_mode(connected=True)\r\n",
    "import scipy\r\n",
    "from sklearn.model_selection import train_test_split\r\n",
    "from sklearn import metrics\r\n",
    "from keras import optimizers\r\n",
    "from keras.models import Sequential\r\n",
    "from keras.layers import Dense, Conv2D, Flatten, MaxPool2D, Dropout, BatchNormalization,LeakyReLU\r\n",
    "from keras.preprocessing.image import ImageDataGenerator\r\n",
    "from keras.callbacks import ModelCheckpoint, Callback, EarlyStopping, ReduceLROnPlateau, LearningRateScheduler\r\n",
    "# from keras.utils import to_categorical\r\n",
    "# import tensorflow_addons as tfa\r\n",
    "import warnings\r\n",
    "warnings.filterwarnings(\"ignore\", category=DeprecationWarning)\r\n",
    "\r\n",
    "import PIL\r\n",
    "import PIL.Image\r\n",
    "import tensorflow as tf\r\n",
    "import pathlib"
   ],
   "outputs": [
    {
     "output_type": "display_data",
     "data": {
      "text/html": [
       "        <script type=\"text/javascript\">\n",
       "        window.PlotlyConfig = {MathJaxConfig: 'local'};\n",
       "        if (window.MathJax) {MathJax.Hub.Config({SVG: {font: \"STIX-Web\"}});}\n",
       "        if (typeof require !== 'undefined') {\n",
       "        require.undef(\"plotly\");\n",
       "        requirejs.config({\n",
       "            paths: {\n",
       "                'plotly': ['https://cdn.plot.ly/plotly-latest.min']\n",
       "            }\n",
       "        });\n",
       "        require(['plotly'], function(Plotly) {\n",
       "            window._Plotly = Plotly;\n",
       "        });\n",
       "        }\n",
       "        </script>\n",
       "        "
      ]
     },
     "metadata": {}
    }
   ],
   "metadata": {
    "_kg_hide-input": true,
    "_uuid": "af08260bfbe163f9132f39d09627899bbc4c1dae",
    "execution": {
     "iopub.execute_input": "2021-03-20T10:04:18.740511Z",
     "iopub.status.busy": "2021-03-20T10:04:18.739858Z",
     "iopub.status.idle": "2021-03-20T10:04:26.493523Z",
     "shell.execute_reply": "2021-03-20T10:04:26.492641Z"
    },
    "papermill": {
     "duration": 7.794968,
     "end_time": "2021-03-20T10:04:26.493634",
     "exception": false,
     "start_time": "2021-03-20T10:04:18.698666",
     "status": "completed"
    },
    "tags": []
   }
  },
  {
   "cell_type": "code",
   "execution_count": 145,
   "source": [
    "data_dir = 'C://Users//dscshap3808//Documents//my_scripts_new//my_docs//chines//data//data//'\r\n",
    "data_dir1 = pathlib.Path(data_dir)"
   ],
   "outputs": [],
   "metadata": {}
  },
  {
   "cell_type": "code",
   "execution_count": 146,
   "source": [
    "# pic = list(data_dir1.glob('*.jpg'));pic\r\n",
    "# PIL.Image.open(str(pic[0]))"
   ],
   "outputs": [],
   "metadata": {}
  },
  {
   "cell_type": "code",
   "execution_count": 147,
   "source": [
    "data_df = pd.read_csv('C://Users//dscshap3808//Documents//my_scripts_new//my_docs//chines//chinese_mnist.csv')"
   ],
   "outputs": [],
   "metadata": {}
  },
  {
   "cell_type": "markdown",
   "source": [
    "We also set a number of parameters for the data and model."
   ],
   "metadata": {
    "papermill": {
     "duration": 0.032186,
     "end_time": "2021-03-20T10:04:26.559101",
     "exception": false,
     "start_time": "2021-03-20T10:04:26.526915",
     "status": "completed"
    },
    "tags": []
   }
  },
  {
   "cell_type": "code",
   "execution_count": 148,
   "source": [
    "# IMAGE_PATH = '..//input//chinese-mnist//data//data//'\r\n",
    "IMAGE_WIDTH = 64\r\n",
    "IMAGE_HEIGHT = 64\r\n",
    "IMAGE_CHANNELS = 1\r\n",
    "RANDOM_STATE = 42\r\n",
    "TEST_SIZE = 0.2\r\n",
    "VAL_SIZE = 0.2\r\n",
    "CONV_2D_DIM_1 = 16\r\n",
    "CONV_2D_DIM_2 = 16\r\n",
    "CONV_2D_DIM_3 = 32\r\n",
    "CONV_2D_DIM_4 = 64\r\n",
    "MAX_POOL_DIM = 2\r\n",
    "KERNEL_SIZE = 3\r\n",
    "BATCH_SIZE = 32\r\n",
    "NO_EPOCHS = 5 \r\n",
    "DROPOUT_RATIO = 0.5\r\n",
    "PATIENCE = 5\r\n",
    "VERBOSE = 1"
   ],
   "outputs": [],
   "metadata": {
    "_kg_hide-input": true,
    "_uuid": "a2082fb1e56fc6cfc91d40820b905267bc1ca468",
    "execution": {
     "iopub.execute_input": "2021-03-20T10:04:26.629862Z",
     "iopub.status.busy": "2021-03-20T10:04:26.629279Z",
     "iopub.status.idle": "2021-03-20T10:04:26.632619Z",
     "shell.execute_reply": "2021-03-20T10:04:26.633025Z"
    },
    "papermill": {
     "duration": 0.04189,
     "end_time": "2021-03-20T10:04:26.633131",
     "exception": false,
     "start_time": "2021-03-20T10:04:26.591241",
     "status": "completed"
    },
    "tags": []
   }
  },
  {
   "cell_type": "markdown",
   "source": [
    "<a href=\"#0\"><font size=\"1\">Go to top</font></a>  \n",
    "\n",
    "\n",
    "# <a id='22'>Load the data</a>  \n",
    "\n",
    "Let's see first what data files do we have in the root directory."
   ],
   "metadata": {
    "_uuid": "307f656565365ff05faf226e5a447875dd0dfead",
    "papermill": {
     "duration": 0.03186,
     "end_time": "2021-03-20T10:04:26.697158",
     "exception": false,
     "start_time": "2021-03-20T10:04:26.665298",
     "status": "completed"
    },
    "tags": []
   }
  },
  {
   "cell_type": "markdown",
   "source": [
    "There is a dataset file and a folder with images.  \n",
    "\n",
    "Let's load the dataset file first."
   ],
   "metadata": {
    "_uuid": "241b8735a85a25e16421fda8c35bc3d3c69e7ea8",
    "papermill": {
     "duration": 0.032335,
     "end_time": "2021-03-20T10:04:26.841513",
     "exception": false,
     "start_time": "2021-03-20T10:04:26.809178",
     "status": "completed"
    },
    "tags": []
   }
  },
  {
   "cell_type": "markdown",
   "source": [
    "Let's glimpse the data. First, let's check the number of columns and rows."
   ],
   "metadata": {
    "_uuid": "22b3984ccc3e29daaf77a796d9d7966cd798e1a8",
    "papermill": {
     "duration": 0.032358,
     "end_time": "2021-03-20T10:04:27.003911",
     "exception": false,
     "start_time": "2021-03-20T10:04:26.971553",
     "status": "completed"
    },
    "tags": []
   }
  },
  {
   "cell_type": "code",
   "execution_count": 149,
   "source": [
    "data_df.shape"
   ],
   "outputs": [
    {
     "output_type": "execute_result",
     "data": {
      "text/plain": [
       "(15000, 4)"
      ]
     },
     "metadata": {},
     "execution_count": 149
    }
   ],
   "metadata": {
    "_kg_hide-input": true,
    "_uuid": "535f3f9cea3b26428bec3ede4ed49009bdb91889",
    "execution": {
     "iopub.execute_input": "2021-03-20T10:04:27.073900Z",
     "iopub.status.busy": "2021-03-20T10:04:27.073051Z",
     "iopub.status.idle": "2021-03-20T10:04:27.077025Z",
     "shell.execute_reply": "2021-03-20T10:04:27.076588Z"
    },
    "papermill": {
     "duration": 0.040271,
     "end_time": "2021-03-20T10:04:27.077111",
     "exception": false,
     "start_time": "2021-03-20T10:04:27.036840",
     "status": "completed"
    },
    "tags": []
   }
  },
  {
   "cell_type": "markdown",
   "source": [
    "There are 15000 rows and 5 columns. Let's look to the data."
   ],
   "metadata": {
    "_uuid": "5b4405ddcce03ee722f05234d508188997817f8d",
    "papermill": {
     "duration": 0.032871,
     "end_time": "2021-03-20T10:04:27.142848",
     "exception": false,
     "start_time": "2021-03-20T10:04:27.109977",
     "status": "completed"
    },
    "tags": []
   }
  },
  {
   "cell_type": "code",
   "execution_count": 150,
   "source": [
    "data_df.sample(100).head()"
   ],
   "outputs": [
    {
     "output_type": "execute_result",
     "data": {
      "text/html": [
       "<div>\n",
       "<style scoped>\n",
       "    .dataframe tbody tr th:only-of-type {\n",
       "        vertical-align: middle;\n",
       "    }\n",
       "\n",
       "    .dataframe tbody tr th {\n",
       "        vertical-align: top;\n",
       "    }\n",
       "\n",
       "    .dataframe thead th {\n",
       "        text-align: right;\n",
       "    }\n",
       "</style>\n",
       "<table border=\"1\" class=\"dataframe\">\n",
       "  <thead>\n",
       "    <tr style=\"text-align: right;\">\n",
       "      <th></th>\n",
       "      <th>suite_id</th>\n",
       "      <th>sample_id</th>\n",
       "      <th>code</th>\n",
       "      <th>value</th>\n",
       "    </tr>\n",
       "  </thead>\n",
       "  <tbody>\n",
       "    <tr>\n",
       "      <th>835</th>\n",
       "      <td>84</td>\n",
       "      <td>5</td>\n",
       "      <td>10</td>\n",
       "      <td>9</td>\n",
       "    </tr>\n",
       "    <tr>\n",
       "      <th>2154</th>\n",
       "      <td>22</td>\n",
       "      <td>4</td>\n",
       "      <td>12</td>\n",
       "      <td>100</td>\n",
       "    </tr>\n",
       "    <tr>\n",
       "      <th>2305</th>\n",
       "      <td>36</td>\n",
       "      <td>5</td>\n",
       "      <td>12</td>\n",
       "      <td>100</td>\n",
       "    </tr>\n",
       "    <tr>\n",
       "      <th>802</th>\n",
       "      <td>81</td>\n",
       "      <td>2</td>\n",
       "      <td>10</td>\n",
       "      <td>9</td>\n",
       "    </tr>\n",
       "    <tr>\n",
       "      <th>5496</th>\n",
       "      <td>53</td>\n",
       "      <td>6</td>\n",
       "      <td>15</td>\n",
       "      <td>100000000</td>\n",
       "    </tr>\n",
       "  </tbody>\n",
       "</table>\n",
       "</div>"
      ],
      "text/plain": [
       "      suite_id  sample_id  code      value\n",
       "835         84          5    10          9\n",
       "2154        22          4    12        100\n",
       "2305        36          5    12        100\n",
       "802         81          2    10          9\n",
       "5496        53          6    15  100000000"
      ]
     },
     "metadata": {},
     "execution_count": 150
    }
   ],
   "metadata": {
    "_kg_hide-input": true,
    "_uuid": "4d326f747f0a14580b20c2e034e6c3368edcd18b",
    "execution": {
     "iopub.execute_input": "2021-03-20T10:04:27.220367Z",
     "iopub.status.busy": "2021-03-20T10:04:27.219673Z",
     "iopub.status.idle": "2021-03-20T10:04:27.227758Z",
     "shell.execute_reply": "2021-03-20T10:04:27.227336Z"
    },
    "papermill": {
     "duration": 0.052039,
     "end_time": "2021-03-20T10:04:27.227844",
     "exception": false,
     "start_time": "2021-03-20T10:04:27.175805",
     "status": "completed"
    },
    "tags": []
   }
  },
  {
   "cell_type": "code",
   "execution_count": 152,
   "source": [
    "characters = ['零','一','二','三','四','五','六','七','八','九','十','百','千','万','亿']\r\n",
    "dicts = pd.DataFrame(characters, np.append(np.arange(0,10), [10, 100, 1000, 10000, 100000000])).reset_index()\r\n",
    "dicts.columns =  ['value', 'characters']\r\n",
    "data_df = data_df.merge(dicts, on = 'value', how = 'left')\r\n"
   ],
   "outputs": [],
   "metadata": {}
  },
  {
   "cell_type": "code",
   "execution_count": 153,
   "source": [
    "data_df[data_df['value'] == 1000 ]"
   ],
   "outputs": [
    {
     "output_type": "execute_result",
     "data": {
      "text/html": [
       "<div>\n",
       "<style scoped>\n",
       "    .dataframe tbody tr th:only-of-type {\n",
       "        vertical-align: middle;\n",
       "    }\n",
       "\n",
       "    .dataframe tbody tr th {\n",
       "        vertical-align: top;\n",
       "    }\n",
       "\n",
       "    .dataframe thead th {\n",
       "        text-align: right;\n",
       "    }\n",
       "</style>\n",
       "<table border=\"1\" class=\"dataframe\">\n",
       "  <thead>\n",
       "    <tr style=\"text-align: right;\">\n",
       "      <th></th>\n",
       "      <th>suite_id</th>\n",
       "      <th>sample_id</th>\n",
       "      <th>code</th>\n",
       "      <th>value</th>\n",
       "      <th>characters</th>\n",
       "    </tr>\n",
       "  </thead>\n",
       "  <tbody>\n",
       "    <tr>\n",
       "      <th>3000</th>\n",
       "      <td>1</td>\n",
       "      <td>1</td>\n",
       "      <td>13</td>\n",
       "      <td>1000</td>\n",
       "      <td>千</td>\n",
       "    </tr>\n",
       "    <tr>\n",
       "      <th>3001</th>\n",
       "      <td>1</td>\n",
       "      <td>10</td>\n",
       "      <td>13</td>\n",
       "      <td>1000</td>\n",
       "      <td>千</td>\n",
       "    </tr>\n",
       "    <tr>\n",
       "      <th>3002</th>\n",
       "      <td>1</td>\n",
       "      <td>2</td>\n",
       "      <td>13</td>\n",
       "      <td>1000</td>\n",
       "      <td>千</td>\n",
       "    </tr>\n",
       "    <tr>\n",
       "      <th>3003</th>\n",
       "      <td>1</td>\n",
       "      <td>3</td>\n",
       "      <td>13</td>\n",
       "      <td>1000</td>\n",
       "      <td>千</td>\n",
       "    </tr>\n",
       "    <tr>\n",
       "      <th>3004</th>\n",
       "      <td>1</td>\n",
       "      <td>4</td>\n",
       "      <td>13</td>\n",
       "      <td>1000</td>\n",
       "      <td>千</td>\n",
       "    </tr>\n",
       "    <tr>\n",
       "      <th>...</th>\n",
       "      <td>...</td>\n",
       "      <td>...</td>\n",
       "      <td>...</td>\n",
       "      <td>...</td>\n",
       "      <td>...</td>\n",
       "    </tr>\n",
       "    <tr>\n",
       "      <th>3995</th>\n",
       "      <td>99</td>\n",
       "      <td>5</td>\n",
       "      <td>13</td>\n",
       "      <td>1000</td>\n",
       "      <td>千</td>\n",
       "    </tr>\n",
       "    <tr>\n",
       "      <th>3996</th>\n",
       "      <td>99</td>\n",
       "      <td>6</td>\n",
       "      <td>13</td>\n",
       "      <td>1000</td>\n",
       "      <td>千</td>\n",
       "    </tr>\n",
       "    <tr>\n",
       "      <th>3997</th>\n",
       "      <td>99</td>\n",
       "      <td>7</td>\n",
       "      <td>13</td>\n",
       "      <td>1000</td>\n",
       "      <td>千</td>\n",
       "    </tr>\n",
       "    <tr>\n",
       "      <th>3998</th>\n",
       "      <td>99</td>\n",
       "      <td>8</td>\n",
       "      <td>13</td>\n",
       "      <td>1000</td>\n",
       "      <td>千</td>\n",
       "    </tr>\n",
       "    <tr>\n",
       "      <th>3999</th>\n",
       "      <td>99</td>\n",
       "      <td>9</td>\n",
       "      <td>13</td>\n",
       "      <td>1000</td>\n",
       "      <td>千</td>\n",
       "    </tr>\n",
       "  </tbody>\n",
       "</table>\n",
       "<p>1000 rows × 5 columns</p>\n",
       "</div>"
      ],
      "text/plain": [
       "      suite_id  sample_id  code  value characters\n",
       "3000         1          1    13   1000          千\n",
       "3001         1         10    13   1000          千\n",
       "3002         1          2    13   1000          千\n",
       "3003         1          3    13   1000          千\n",
       "3004         1          4    13   1000          千\n",
       "...        ...        ...   ...    ...        ...\n",
       "3995        99          5    13   1000          千\n",
       "3996        99          6    13   1000          千\n",
       "3997        99          7    13   1000          千\n",
       "3998        99          8    13   1000          千\n",
       "3999        99          9    13   1000          千\n",
       "\n",
       "[1000 rows x 5 columns]"
      ]
     },
     "metadata": {},
     "execution_count": 153
    }
   ],
   "metadata": {}
  },
  {
   "cell_type": "markdown",
   "source": [
    "The data contains the following values:  \n",
    "\n",
    "* suite_id - each suite corresponds to a set of handwritten samples by one volunteer;  \n",
    "* sample_id - each sample wil contain a complete set of 15 characters for Chinese numbers;\n",
    "* code - for each Chinese character we are using a code, with values from 1 to 15;\n",
    "* value - this is the actual numerical value associated with the Chinese character for number;  \n",
    "* character - the Chinese character;  \n",
    "\n",
    "We index the files in the dataset by forming a file name from suite_id, sample_id and code. The pattern for a file is as following:\n",
    "\n",
    "> \"input_{suite_id}_{sample_id}_{code}.jpg\""
   ],
   "metadata": {
    "_uuid": "c97047b17cda76e346e444229485ac91ec966423",
    "papermill": {
     "duration": 0.033388,
     "end_time": "2021-03-20T10:04:27.294478",
     "exception": false,
     "start_time": "2021-03-20T10:04:27.261090",
     "status": "completed"
    },
    "tags": []
   }
  },
  {
   "cell_type": "markdown",
   "source": [
    "<a href=\"#0\"><font size=\"1\">Go to top</font></a>  \n",
    "\n",
    "# <a id='3'>Data exploration</a>  \n",
    "\n",
    "\n",
    "\n",
    "Let's start by checking if there are missing data, unlabeled data or data that is inconsistently labeled. \n"
   ],
   "metadata": {
    "_uuid": "55dd26f919decca9d67daec9895a5d9e11f1d28b",
    "papermill": {
     "duration": 0.033144,
     "end_time": "2021-03-20T10:04:27.361125",
     "exception": false,
     "start_time": "2021-03-20T10:04:27.327981",
     "status": "completed"
    },
    "tags": []
   }
  },
  {
   "cell_type": "markdown",
   "source": [
    "## <a id='31'>Check for missing data</a>  \n",
    "\n",
    "Let's create a function that check for missing data in the dataset."
   ],
   "metadata": {
    "_uuid": "14443450ba96e12ad8e18ce4dd1779f18d5f914b",
    "papermill": {
     "duration": 0.033254,
     "end_time": "2021-03-20T10:04:27.427639",
     "exception": false,
     "start_time": "2021-03-20T10:04:27.394385",
     "status": "completed"
    },
    "tags": []
   }
  },
  {
   "cell_type": "code",
   "execution_count": 154,
   "source": [
    "def missing_data(data):\r\n",
    "    total = data.isnull().sum().sort_values(ascending = False)\r\n",
    "    percent = (data.isnull().sum()/data.isnull().count()*100).sort_values(ascending = False)\r\n",
    "    return pd.concat([total, percent], axis=1, keys=['Total', 'Percent'])\r\n",
    "missing_data(data_df)"
   ],
   "outputs": [
    {
     "output_type": "execute_result",
     "data": {
      "text/html": [
       "<div>\n",
       "<style scoped>\n",
       "    .dataframe tbody tr th:only-of-type {\n",
       "        vertical-align: middle;\n",
       "    }\n",
       "\n",
       "    .dataframe tbody tr th {\n",
       "        vertical-align: top;\n",
       "    }\n",
       "\n",
       "    .dataframe thead th {\n",
       "        text-align: right;\n",
       "    }\n",
       "</style>\n",
       "<table border=\"1\" class=\"dataframe\">\n",
       "  <thead>\n",
       "    <tr style=\"text-align: right;\">\n",
       "      <th></th>\n",
       "      <th>Total</th>\n",
       "      <th>Percent</th>\n",
       "    </tr>\n",
       "  </thead>\n",
       "  <tbody>\n",
       "    <tr>\n",
       "      <th>suite_id</th>\n",
       "      <td>0</td>\n",
       "      <td>0.0</td>\n",
       "    </tr>\n",
       "    <tr>\n",
       "      <th>sample_id</th>\n",
       "      <td>0</td>\n",
       "      <td>0.0</td>\n",
       "    </tr>\n",
       "    <tr>\n",
       "      <th>code</th>\n",
       "      <td>0</td>\n",
       "      <td>0.0</td>\n",
       "    </tr>\n",
       "    <tr>\n",
       "      <th>value</th>\n",
       "      <td>0</td>\n",
       "      <td>0.0</td>\n",
       "    </tr>\n",
       "    <tr>\n",
       "      <th>characters</th>\n",
       "      <td>0</td>\n",
       "      <td>0.0</td>\n",
       "    </tr>\n",
       "  </tbody>\n",
       "</table>\n",
       "</div>"
      ],
      "text/plain": [
       "            Total  Percent\n",
       "suite_id        0      0.0\n",
       "sample_id       0      0.0\n",
       "code            0      0.0\n",
       "value           0      0.0\n",
       "characters      0      0.0"
      ]
     },
     "metadata": {},
     "execution_count": 154
    }
   ],
   "metadata": {
    "_kg_hide-input": true,
    "_uuid": "4544dd470d743c54f815faaee863038ad5e8398f",
    "execution": {
     "iopub.execute_input": "2021-03-20T10:04:27.503325Z",
     "iopub.status.busy": "2021-03-20T10:04:27.501821Z",
     "iopub.status.idle": "2021-03-20T10:04:27.534012Z",
     "shell.execute_reply": "2021-03-20T10:04:27.533194Z"
    },
    "papermill": {
     "duration": 0.072777,
     "end_time": "2021-03-20T10:04:27.534099",
     "exception": false,
     "start_time": "2021-03-20T10:04:27.461322",
     "status": "completed"
    },
    "tags": []
   }
  },
  {
   "cell_type": "markdown",
   "source": [
    "There is no missing (null) data in the dataset. Still it might be that some of the data labels are misspelled; we will check this when we will analyze each data feature."
   ],
   "metadata": {
    "_uuid": "3cb0410e8b9afd75ac7b50d0489d90eda6e1b109",
    "papermill": {
     "duration": 0.034848,
     "end_time": "2021-03-20T10:04:27.604066",
     "exception": false,
     "start_time": "2021-03-20T10:04:27.569218",
     "status": "completed"
    },
    "tags": []
   }
  },
  {
   "cell_type": "markdown",
   "source": [
    "<a href=\"#0\"><font size=\"1\">Go to top</font></a>  \n",
    "\n",
    "## <a id='32'>Explore image data</a>  \n",
    "\n",
    "Let's also check the image data. First, we check how many images are stored in the image folder."
   ],
   "metadata": {
    "_uuid": "1fbab44688fb2ab073aac8f964e534f90ce1dfff",
    "papermill": {
     "duration": 0.034828,
     "end_time": "2021-03-20T10:04:27.673225",
     "exception": false,
     "start_time": "2021-03-20T10:04:27.638397",
     "status": "completed"
    },
    "tags": []
   }
  },
  {
   "cell_type": "code",
   "execution_count": 155,
   "source": [
    "image_files =  os.listdir(data_dir)\r\n",
    "print(\"Number of image files: {}\".format(len(image_files)))"
   ],
   "outputs": [
    {
     "output_type": "stream",
     "name": "stdout",
     "text": [
      "Number of image files: 15000\n"
     ]
    }
   ],
   "metadata": {
    "_kg_hide-input": true,
    "_uuid": "46f15681887fa82ab13224e52df69d91119fc9ad",
    "execution": {
     "iopub.execute_input": "2021-03-20T10:04:27.744590Z",
     "iopub.status.busy": "2021-03-20T10:04:27.744089Z",
     "iopub.status.idle": "2021-03-20T10:04:28.288341Z",
     "shell.execute_reply": "2021-03-20T10:04:28.287381Z"
    },
    "papermill": {
     "duration": 0.581286,
     "end_time": "2021-03-20T10:04:28.288454",
     "exception": false,
     "start_time": "2021-03-20T10:04:27.707168",
     "status": "completed"
    },
    "tags": []
   }
  },
  {
   "cell_type": "markdown",
   "source": [
    "Let's also check that each line in the dataset has a corresponding image in the image list.  \n",
    "First, we will have to compose the name of the file from the indexes."
   ],
   "metadata": {
    "_uuid": "68523860593e9a64059b51d40a316454e6937a68",
    "papermill": {
     "duration": 0.035721,
     "end_time": "2021-03-20T10:04:28.360974",
     "exception": false,
     "start_time": "2021-03-20T10:04:28.325253",
     "status": "completed"
    },
    "tags": []
   }
  },
  {
   "cell_type": "code",
   "execution_count": 156,
   "source": [
    "def create_file_name(x):\r\n",
    "    file_name = f\"input_{x[0]}_{x[1]}_{x[2]}.jpg\"\r\n",
    "    return file_name"
   ],
   "outputs": [],
   "metadata": {
    "execution": {
     "iopub.execute_input": "2021-03-20T10:04:28.434725Z",
     "iopub.status.busy": "2021-03-20T10:04:28.434020Z",
     "iopub.status.idle": "2021-03-20T10:04:28.436648Z",
     "shell.execute_reply": "2021-03-20T10:04:28.437085Z"
    },
    "papermill": {
     "duration": 0.041184,
     "end_time": "2021-03-20T10:04:28.437201",
     "exception": false,
     "start_time": "2021-03-20T10:04:28.396017",
     "status": "completed"
    },
    "tags": []
   }
  },
  {
   "cell_type": "code",
   "execution_count": 157,
   "source": [
    "data_df[\"file\"] = data_df.apply(create_file_name, axis=1)"
   ],
   "outputs": [],
   "metadata": {
    "_kg_hide-input": true,
    "execution": {
     "iopub.execute_input": "2021-03-20T10:04:28.509317Z",
     "iopub.status.busy": "2021-03-20T10:04:28.508610Z",
     "iopub.status.idle": "2021-03-20T10:04:29.299859Z",
     "shell.execute_reply": "2021-03-20T10:04:29.299358Z"
    },
    "papermill": {
     "duration": 0.828662,
     "end_time": "2021-03-20T10:04:29.299956",
     "exception": false,
     "start_time": "2021-03-20T10:04:28.471294",
     "status": "completed"
    },
    "tags": []
   }
  },
  {
   "cell_type": "code",
   "execution_count": 158,
   "source": [
    "file_names = data_df['file']\r\n",
    "print(\"Matching image names: {}\".format(len(set(file_names).intersection(image_files))))"
   ],
   "outputs": [
    {
     "output_type": "stream",
     "name": "stdout",
     "text": [
      "Matching image names: 15000\n"
     ]
    }
   ],
   "metadata": {
    "_kg_hide-input": true,
    "_uuid": "457cd17212904bb96f86ec1770cbdbefc5ffb395",
    "execution": {
     "iopub.execute_input": "2021-03-20T10:04:29.377922Z",
     "iopub.status.busy": "2021-03-20T10:04:29.377326Z",
     "iopub.status.idle": "2021-03-20T10:04:29.380138Z",
     "shell.execute_reply": "2021-03-20T10:04:29.380597Z"
    },
    "papermill": {
     "duration": 0.046488,
     "end_time": "2021-03-20T10:04:29.380713",
     "exception": false,
     "start_time": "2021-03-20T10:04:29.334225",
     "status": "completed"
    },
    "tags": []
   }
  },
  {
   "cell_type": "markdown",
   "source": [
    "Let's also check the image sizes."
   ],
   "metadata": {
    "_uuid": "4b20cd791ede3f23d0c9275aafc75827b9424df4",
    "papermill": {
     "duration": 0.03406,
     "end_time": "2021-03-20T10:04:29.448983",
     "exception": false,
     "start_time": "2021-03-20T10:04:29.414923",
     "status": "completed"
    },
    "tags": []
   }
  },
  {
   "cell_type": "code",
   "execution_count": 159,
   "source": [
    "IMAGE_PATH = data_dir\r\n",
    "def read_image_sizes(file_name):\r\n",
    "    image = skimage.io.imread(IMAGE_PATH + file_name)\r\n",
    "    return list(image.shape)"
   ],
   "outputs": [],
   "metadata": {
    "_kg_hide-input": true,
    "_uuid": "64f4416a8e20197d60f7dbc9dd41a5e73049bfd0",
    "execution": {
     "iopub.execute_input": "2021-03-20T10:04:29.521836Z",
     "iopub.status.busy": "2021-03-20T10:04:29.521195Z",
     "iopub.status.idle": "2021-03-20T10:04:29.524140Z",
     "shell.execute_reply": "2021-03-20T10:04:29.523676Z"
    },
    "papermill": {
     "duration": 0.040798,
     "end_time": "2021-03-20T10:04:29.524220",
     "exception": false,
     "start_time": "2021-03-20T10:04:29.483422",
     "status": "completed"
    },
    "tags": []
   }
  },
  {
   "cell_type": "code",
   "execution_count": 160,
   "source": [
    "m = np.stack(data_df['file'].apply(read_image_sizes))\r\n",
    "df = pd.DataFrame(m,columns=['w','h'])\r\n",
    "data_df = pd.concat([data_df,df],axis=1, sort=False)"
   ],
   "outputs": [],
   "metadata": {
    "_uuid": "2c72a7d125efb51e00a58554692dbd99adc74b55",
    "execution": {
     "iopub.execute_input": "2021-03-20T10:04:29.597457Z",
     "iopub.status.busy": "2021-03-20T10:04:29.596953Z",
     "iopub.status.idle": "2021-03-20T10:06:17.219041Z",
     "shell.execute_reply": "2021-03-20T10:06:17.218482Z"
    },
    "papermill": {
     "duration": 107.660946,
     "end_time": "2021-03-20T10:06:17.219157",
     "exception": false,
     "start_time": "2021-03-20T10:04:29.558211",
     "status": "completed"
    },
    "tags": []
   }
  },
  {
   "cell_type": "code",
   "execution_count": 161,
   "source": [
    "data_df.head()"
   ],
   "outputs": [
    {
     "output_type": "execute_result",
     "data": {
      "text/html": [
       "<div>\n",
       "<style scoped>\n",
       "    .dataframe tbody tr th:only-of-type {\n",
       "        vertical-align: middle;\n",
       "    }\n",
       "\n",
       "    .dataframe tbody tr th {\n",
       "        vertical-align: top;\n",
       "    }\n",
       "\n",
       "    .dataframe thead th {\n",
       "        text-align: right;\n",
       "    }\n",
       "</style>\n",
       "<table border=\"1\" class=\"dataframe\">\n",
       "  <thead>\n",
       "    <tr style=\"text-align: right;\">\n",
       "      <th></th>\n",
       "      <th>suite_id</th>\n",
       "      <th>sample_id</th>\n",
       "      <th>code</th>\n",
       "      <th>value</th>\n",
       "      <th>characters</th>\n",
       "      <th>file</th>\n",
       "      <th>w</th>\n",
       "      <th>h</th>\n",
       "    </tr>\n",
       "  </thead>\n",
       "  <tbody>\n",
       "    <tr>\n",
       "      <th>0</th>\n",
       "      <td>1</td>\n",
       "      <td>1</td>\n",
       "      <td>10</td>\n",
       "      <td>9</td>\n",
       "      <td>九</td>\n",
       "      <td>input_1_1_10.jpg</td>\n",
       "      <td>64</td>\n",
       "      <td>64</td>\n",
       "    </tr>\n",
       "    <tr>\n",
       "      <th>1</th>\n",
       "      <td>1</td>\n",
       "      <td>10</td>\n",
       "      <td>10</td>\n",
       "      <td>9</td>\n",
       "      <td>九</td>\n",
       "      <td>input_1_10_10.jpg</td>\n",
       "      <td>64</td>\n",
       "      <td>64</td>\n",
       "    </tr>\n",
       "    <tr>\n",
       "      <th>2</th>\n",
       "      <td>1</td>\n",
       "      <td>2</td>\n",
       "      <td>10</td>\n",
       "      <td>9</td>\n",
       "      <td>九</td>\n",
       "      <td>input_1_2_10.jpg</td>\n",
       "      <td>64</td>\n",
       "      <td>64</td>\n",
       "    </tr>\n",
       "    <tr>\n",
       "      <th>3</th>\n",
       "      <td>1</td>\n",
       "      <td>3</td>\n",
       "      <td>10</td>\n",
       "      <td>9</td>\n",
       "      <td>九</td>\n",
       "      <td>input_1_3_10.jpg</td>\n",
       "      <td>64</td>\n",
       "      <td>64</td>\n",
       "    </tr>\n",
       "    <tr>\n",
       "      <th>4</th>\n",
       "      <td>1</td>\n",
       "      <td>4</td>\n",
       "      <td>10</td>\n",
       "      <td>9</td>\n",
       "      <td>九</td>\n",
       "      <td>input_1_4_10.jpg</td>\n",
       "      <td>64</td>\n",
       "      <td>64</td>\n",
       "    </tr>\n",
       "  </tbody>\n",
       "</table>\n",
       "</div>"
      ],
      "text/plain": [
       "   suite_id  sample_id  code  value characters               file   w   h\n",
       "0         1          1    10      9          九   input_1_1_10.jpg  64  64\n",
       "1         1         10    10      9          九  input_1_10_10.jpg  64  64\n",
       "2         1          2    10      9          九   input_1_2_10.jpg  64  64\n",
       "3         1          3    10      9          九   input_1_3_10.jpg  64  64\n",
       "4         1          4    10      9          九   input_1_4_10.jpg  64  64"
      ]
     },
     "metadata": {},
     "execution_count": 161
    }
   ],
   "metadata": {
    "execution": {
     "iopub.execute_input": "2021-03-20T10:06:17.302819Z",
     "iopub.status.busy": "2021-03-20T10:06:17.302165Z",
     "iopub.status.idle": "2021-03-20T10:06:17.305594Z",
     "shell.execute_reply": "2021-03-20T10:06:17.306015Z"
    },
    "papermill": {
     "duration": 0.050927,
     "end_time": "2021-03-20T10:06:17.306124",
     "exception": false,
     "start_time": "2021-03-20T10:06:17.255197",
     "status": "completed"
    },
    "tags": []
   }
  },
  {
   "cell_type": "markdown",
   "source": [
    "## <a id='33'>Suites</a>  \n",
    "\n",
    "Let's check the suites of the images. For this, we will group by `suite`."
   ],
   "metadata": {
    "_uuid": "a2b88af0c239ca3d9e37e159889836a4f38913c8",
    "papermill": {
     "duration": 0.034928,
     "end_time": "2021-03-20T10:06:17.376074",
     "exception": false,
     "start_time": "2021-03-20T10:06:17.341146",
     "status": "completed"
    },
    "tags": []
   }
  },
  {
   "cell_type": "code",
   "execution_count": 162,
   "source": [
    "print(f\"Number of suites: {data_df.suite_id.nunique()}\")\r\n",
    "print(f\"Samples: {data_df.sample_id.unique()}\")"
   ],
   "outputs": [
    {
     "output_type": "stream",
     "name": "stdout",
     "text": [
      "Number of suites: 100\n",
      "Samples: [ 1 10  2  3  4  5  6  7  8  9]\n"
     ]
    }
   ],
   "metadata": {
    "_kg_hide-input": true,
    "_uuid": "6f1c39d0398275215f92f61542544132a0d574a0",
    "execution": {
     "iopub.execute_input": "2021-03-20T10:06:17.451910Z",
     "iopub.status.busy": "2021-03-20T10:06:17.451275Z",
     "iopub.status.idle": "2021-03-20T10:06:17.456918Z",
     "shell.execute_reply": "2021-03-20T10:06:17.456463Z"
    },
    "papermill": {
     "duration": 0.046141,
     "end_time": "2021-03-20T10:06:17.457009",
     "exception": false,
     "start_time": "2021-03-20T10:06:17.410868",
     "status": "completed"
    },
    "tags": []
   }
  },
  {
   "cell_type": "markdown",
   "source": [
    "We have 100 suites, each with 10 samples. This means a total of 15K images with Chinese characters."
   ],
   "metadata": {
    "_uuid": "fd421a7d1872af204c26588d1a15eaddca08a396",
    "papermill": {
     "duration": 0.035089,
     "end_time": "2021-03-20T10:06:17.527213",
     "exception": false,
     "start_time": "2021-03-20T10:06:17.492124",
     "status": "completed"
    },
    "tags": []
   }
  },
  {
   "cell_type": "markdown",
   "source": [
    "# <a id='4'>Characters classification</a>\n",
    "\n",
    "Our objective is to use the images that we investigated until now to correctly identify the Chinese numbers (characters).   \n",
    "\n",
    "We have a unique dataset and we will have to split this dataset in **train** and **test**. The **train** set will be used for training a model and the test will be used for testing the model accuracy against new, fresh data, not used in training.\n",
    "\n"
   ],
   "metadata": {
    "_uuid": "c2a5e2401b418f1723c859ee9e0b4ad5071e4a82",
    "papermill": {
     "duration": 0.034936,
     "end_time": "2021-03-20T10:06:17.597529",
     "exception": false,
     "start_time": "2021-03-20T10:06:17.562593",
     "status": "completed"
    },
    "tags": []
   }
  },
  {
   "cell_type": "markdown",
   "source": [
    "## <a id='40'>Split the data</a>  \n",
    "\n",
    "First, we split the whole dataset in train and test. We will use **random_state** to ensure reproductibility of results. We also use **stratify** to ensure balanced train/validation/test sets with respect of the labels. \n",
    "\n",
    "The train-test split is **80%** for training set and **20%** for test set.\n"
   ],
   "metadata": {
    "_uuid": "e8c0a6df4bb85bcdf90f7c908decab07304d660f",
    "papermill": {
     "duration": 0.035176,
     "end_time": "2021-03-20T10:06:17.668045",
     "exception": false,
     "start_time": "2021-03-20T10:06:17.632869",
     "status": "completed"
    },
    "tags": []
   }
  },
  {
   "cell_type": "code",
   "execution_count": 163,
   "source": [
    "train_df, test_df = train_test_split(\r\n",
    "    data_df, test_size=TEST_SIZE, \r\n",
    "    random_state=RANDOM_STATE, \r\n",
    "    stratify=data_df[\"code\"].values)"
   ],
   "outputs": [],
   "metadata": {
    "_kg_hide-input": true,
    "_uuid": "352d452d5212d8c9eff074f11820b03a0d44387b",
    "execution": {
     "iopub.execute_input": "2021-03-20T10:06:17.743429Z",
     "iopub.status.busy": "2021-03-20T10:06:17.742893Z",
     "iopub.status.idle": "2021-03-20T10:06:17.760088Z",
     "shell.execute_reply": "2021-03-20T10:06:17.759594Z"
    },
    "papermill": {
     "duration": 0.057116,
     "end_time": "2021-03-20T10:06:17.760176",
     "exception": false,
     "start_time": "2021-03-20T10:06:17.703060",
     "status": "completed"
    },
    "tags": []
   }
  },
  {
   "cell_type": "markdown",
   "source": [
    "Next, we will split further the **train** set in **train** and **validation**. We want to use as well a validation set to be able to measure not only how well fits the model the train data during training (or how well `learns` the training data) but also how well the model is able to generalize so that we are able to understands not only the bias but also the variance of the model.  \n",
    "\n",
    "The train-validation split is **80%** for training set and **20%** for validation set."
   ],
   "metadata": {
    "_uuid": "856060cc500db00e472b7755c91aba20c953a5f6",
    "papermill": {
     "duration": 0.03492,
     "end_time": "2021-03-20T10:06:17.830330",
     "exception": false,
     "start_time": "2021-03-20T10:06:17.795410",
     "status": "completed"
    },
    "tags": []
   }
  },
  {
   "cell_type": "code",
   "execution_count": 164,
   "source": [
    "train_df, val_df = train_test_split(\r\n",
    "    train_df, test_size=VAL_SIZE, \r\n",
    "    random_state=RANDOM_STATE,\r\n",
    "     stratify=train_df[\"code\"].values)"
   ],
   "outputs": [],
   "metadata": {
    "_kg_hide-input": true,
    "_uuid": "83d0be04ae5a4ad5834631bf18e21917d6313bcd",
    "execution": {
     "iopub.execute_input": "2021-03-20T10:06:17.906868Z",
     "iopub.status.busy": "2021-03-20T10:06:17.906049Z",
     "iopub.status.idle": "2021-03-20T10:06:17.919058Z",
     "shell.execute_reply": "2021-03-20T10:06:17.918590Z"
    },
    "papermill": {
     "duration": 0.053404,
     "end_time": "2021-03-20T10:06:17.919148",
     "exception": false,
     "start_time": "2021-03-20T10:06:17.865744",
     "status": "completed"
    },
    "tags": []
   }
  },
  {
   "cell_type": "markdown",
   "source": [
    "Let's check the shape of the three datasets."
   ],
   "metadata": {
    "_kg_hide-input": true,
    "_uuid": "0dcaa8c2c5423ab8fc2898d4a4aa937801592c2c",
    "papermill": {
     "duration": 0.035058,
     "end_time": "2021-03-20T10:06:17.989682",
     "exception": false,
     "start_time": "2021-03-20T10:06:17.954624",
     "status": "completed"
    },
    "tags": []
   }
  },
  {
   "cell_type": "code",
   "execution_count": 165,
   "source": [
    "print(\"Train set rows: {}\".format(train_df.shape[0]))\r\n",
    "print(\"Test  set rows: {}\".format(test_df.shape[0]))\r\n",
    "print(\"Val   set rows: {}\".format(val_df.shape[0]))"
   ],
   "outputs": [
    {
     "output_type": "stream",
     "name": "stdout",
     "text": [
      "Train set rows: 9600\n",
      "Test  set rows: 3000\n",
      "Val   set rows: 2400\n"
     ]
    }
   ],
   "metadata": {
    "_kg_hide-input": true,
    "_uuid": "8247f70b4deb4600fe322f004733234ed37617f0",
    "execution": {
     "iopub.execute_input": "2021-03-20T10:06:18.066254Z",
     "iopub.status.busy": "2021-03-20T10:06:18.065501Z",
     "iopub.status.idle": "2021-03-20T10:06:18.068951Z",
     "shell.execute_reply": "2021-03-20T10:06:18.069329Z"
    },
    "papermill": {
     "duration": 0.044693,
     "end_time": "2021-03-20T10:06:18.069456",
     "exception": false,
     "start_time": "2021-03-20T10:06:18.024763",
     "status": "completed"
    },
    "tags": []
   }
  },
  {
   "cell_type": "markdown",
   "source": [
    "We are now ready to start building our first model."
   ],
   "metadata": {
    "_uuid": "ee768c083f40fcbd109425182bc55ce86173b69d",
    "papermill": {
     "duration": 0.035539,
     "end_time": "2021-03-20T10:06:18.140361",
     "exception": false,
     "start_time": "2021-03-20T10:06:18.104822",
     "status": "completed"
    },
    "tags": []
   }
  },
  {
   "cell_type": "markdown",
   "source": [
    "## <a id='41'>Build the model</a>    \n",
    "\n",
    "\n",
    "Next step in our creation of a predictive model.  \n",
    "\n",
    "Let's define few auxiliary functions that we will need for creation of our models.\n",
    "\n",
    "A function for reading images from the image files, scale all images to 100 x 100 x 3 (channels)."
   ],
   "metadata": {
    "_uuid": "d76e822dd76565d29fcfed323cb034939f307581",
    "papermill": {
     "duration": 0.0352,
     "end_time": "2021-03-20T10:06:18.211024",
     "exception": false,
     "start_time": "2021-03-20T10:06:18.175824",
     "status": "completed"
    },
    "tags": []
   }
  },
  {
   "cell_type": "code",
   "execution_count": 61,
   "source": [
    "def read_image(file_name):\r\n",
    "    image = skimage.io.imread(IMAGE_PATH + file_name)\r\n",
    "    image = skimage.transform.resize(image, (IMAGE_WIDTH, IMAGE_HEIGHT, 1), mode='reflect')\r\n",
    "    return image[:,:,:]"
   ],
   "outputs": [],
   "metadata": {
    "_kg_hide-input": true,
    "_uuid": "f80b4e20e98ce5bf328fba3a22457c4a994de06b",
    "execution": {
     "iopub.execute_input": "2021-03-20T10:06:18.289445Z",
     "iopub.status.busy": "2021-03-20T10:06:18.288240Z",
     "iopub.status.idle": "2021-03-20T10:06:18.290680Z",
     "shell.execute_reply": "2021-03-20T10:06:18.291154Z"
    },
    "papermill": {
     "duration": 0.04416,
     "end_time": "2021-03-20T10:06:18.291262",
     "exception": false,
     "start_time": "2021-03-20T10:06:18.247102",
     "status": "completed"
    },
    "tags": []
   }
  },
  {
   "cell_type": "markdown",
   "source": [
    "A function to create the dummy variables corresponding to the categorical target variable."
   ],
   "metadata": {
    "_uuid": "e396e0cd23633af2169e4d50985f1987654205a9",
    "papermill": {
     "duration": 0.072232,
     "end_time": "2021-03-20T10:06:18.398895",
     "exception": false,
     "start_time": "2021-03-20T10:06:18.326663",
     "status": "completed"
    },
    "tags": []
   }
  },
  {
   "cell_type": "code",
   "execution_count": 66,
   "source": [
    "def categories_encoder(dataset, var='value'):\r\n",
    "    X = np.stack(dataset['file'].apply(read_image))\r\n",
    "    y = pd.get_dummies(dataset[var], drop_first=False)\r\n",
    "    return X, y"
   ],
   "outputs": [],
   "metadata": {
    "_kg_hide-input": true,
    "_uuid": "0f7a2146ca93aef9367ecd64300980005d89911b",
    "execution": {
     "iopub.execute_input": "2021-03-20T10:06:18.476343Z",
     "iopub.status.busy": "2021-03-20T10:06:18.475577Z",
     "iopub.status.idle": "2021-03-20T10:06:18.478408Z",
     "shell.execute_reply": "2021-03-20T10:06:18.477890Z"
    },
    "papermill": {
     "duration": 0.044005,
     "end_time": "2021-03-20T10:06:18.478508",
     "exception": false,
     "start_time": "2021-03-20T10:06:18.434503",
     "status": "completed"
    },
    "tags": []
   }
  },
  {
   "cell_type": "markdown",
   "source": [
    "Let's populate now the train, val and test sets with the image data and create the  dummy variables corresponding to the categorical target variable, in our case `subspecies`."
   ],
   "metadata": {
    "_kg_hide-input": true,
    "_uuid": "b40c205d5189b23cbbc4ef0cda8798721d504ff9",
    "papermill": {
     "duration": 0.03513,
     "end_time": "2021-03-20T10:06:18.549806",
     "exception": false,
     "start_time": "2021-03-20T10:06:18.514676",
     "status": "completed"
    },
    "tags": []
   }
  },
  {
   "cell_type": "code",
   "execution_count": 67,
   "source": [
    "X_train, y_train = categories_encoder(train_df)\r\n",
    "X_val, y_val = categories_encoder(val_df)\r\n",
    "X_test, y_test = categories_encoder(test_df)"
   ],
   "outputs": [],
   "metadata": {
    "_kg_hide-input": true,
    "_uuid": "70acefcd6dc5d494b1c7db6dc90bae5f8c856d94",
    "execution": {
     "iopub.execute_input": "2021-03-20T10:06:18.626247Z",
     "iopub.status.busy": "2021-03-20T10:06:18.625387Z",
     "iopub.status.idle": "2021-03-20T10:06:52.837359Z",
     "shell.execute_reply": "2021-03-20T10:06:52.836657Z"
    },
    "papermill": {
     "duration": 34.252251,
     "end_time": "2021-03-20T10:06:52.837483",
     "exception": false,
     "start_time": "2021-03-20T10:06:18.585232",
     "status": "completed"
    },
    "tags": []
   }
  },
  {
   "cell_type": "markdown",
   "source": [
    "Now we are ready to start creating our model.  "
   ],
   "metadata": {
    "_uuid": "5093354dc9c7f0510ba54a254690db45e38d0bcc",
    "papermill": {
     "duration": 0.035353,
     "end_time": "2021-03-20T10:06:52.908716",
     "exception": false,
     "start_time": "2021-03-20T10:06:52.873363",
     "status": "completed"
    },
    "tags": []
   }
  },
  {
   "cell_type": "code",
   "execution_count": 72,
   "source": [
    "# IMAGE_PATH = '..//input//chinese-mnist//data//data//'\r\n",
    "IMAGE_WIDTH = 64\r\n",
    "IMAGE_HEIGHT = 64\r\n",
    "IMAGE_CHANNELS = 1\r\n",
    "RANDOM_STATE = 42\r\n",
    "TEST_SIZE = 0.2\r\n",
    "VAL_SIZE = 0.2\r\n",
    "CONV_2D_DIM_1 = 16\r\n",
    "CONV_2D_DIM_2 = 16\r\n",
    "CONV_2D_DIM_3 = 32\r\n",
    "CONV_2D_DIM_4 = 64\r\n",
    "MAX_POOL_DIM = 2\r\n",
    "KERNEL_SIZE = 3\r\n",
    "BATCH_SIZE = 32\r\n",
    "NO_EPOCHS = 5 \r\n",
    "DROPOUT_RATIO = 0.2\r\n",
    "PATIENCE = 5\r\n",
    "VERBOSE = 1"
   ],
   "outputs": [],
   "metadata": {}
  },
  {
   "cell_type": "code",
   "execution_count": 73,
   "source": [
    "model=Sequential()\r\n",
    "model.add(Conv2D(CONV_2D_DIM_1, kernel_size=KERNEL_SIZE, \\\r\n",
    "    input_shape=(IMAGE_WIDTH, IMAGE_HEIGHT,IMAGE_CHANNELS), \r\n",
    "    activation='relu', padding='same'))\r\n",
    "model.add(Conv2D(CONV_2D_DIM_2, kernel_size=KERNEL_SIZE, \\\r\n",
    "    activation='relu', padding='same'))\r\n",
    "    \r\n",
    "model.add(MaxPool2D(MAX_POOL_DIM))\r\n",
    "model.add(Dropout(DROPOUT_RATIO))\r\n",
    "model.add(Conv2D(CONV_2D_DIM_2, kernel_size=KERNEL_SIZE, activation='relu', padding='same'))\r\n",
    "model.add(Conv2D(CONV_2D_DIM_2, kernel_size=KERNEL_SIZE, activation='relu', padding='same'))\r\n",
    "model.add(Dropout(DROPOUT_RATIO))\r\n",
    "model.add(Flatten())\r\n",
    "model.add(Dense(y_train.columns.size, activation='softmax'))\r\n",
    "model.compile(optimizer='adam', loss='categorical_crossentropy', metrics=['accuracy'])"
   ],
   "outputs": [],
   "metadata": {
    "execution": {
     "iopub.execute_input": "2021-03-20T10:06:52.988761Z",
     "iopub.status.busy": "2021-03-20T10:06:52.988234Z",
     "iopub.status.idle": "2021-03-20T10:06:55.831884Z",
     "shell.execute_reply": "2021-03-20T10:06:55.831075Z"
    },
    "papermill": {
     "duration": 2.887998,
     "end_time": "2021-03-20T10:06:55.831993",
     "exception": false,
     "start_time": "2021-03-20T10:06:52.943995",
     "status": "completed"
    },
    "tags": []
   }
  },
  {
   "cell_type": "code",
   "execution_count": 74,
   "source": [
    "model.summary()"
   ],
   "outputs": [
    {
     "output_type": "stream",
     "name": "stdout",
     "text": [
      "Model: \"sequential_1\"\n",
      "_________________________________________________________________\n",
      "Layer (type)                 Output Shape              Param #   \n",
      "=================================================================\n",
      "conv2d_4 (Conv2D)            (None, 64, 64, 16)        160       \n",
      "_________________________________________________________________\n",
      "conv2d_5 (Conv2D)            (None, 64, 64, 16)        2320      \n",
      "_________________________________________________________________\n",
      "max_pooling2d_1 (MaxPooling2 (None, 32, 32, 16)        0         \n",
      "_________________________________________________________________\n",
      "dropout_2 (Dropout)          (None, 32, 32, 16)        0         \n",
      "_________________________________________________________________\n",
      "conv2d_6 (Conv2D)            (None, 32, 32, 16)        2320      \n",
      "_________________________________________________________________\n",
      "conv2d_7 (Conv2D)            (None, 32, 32, 16)        2320      \n",
      "_________________________________________________________________\n",
      "dropout_3 (Dropout)          (None, 32, 32, 16)        0         \n",
      "_________________________________________________________________\n",
      "flatten_1 (Flatten)          (None, 16384)             0         \n",
      "_________________________________________________________________\n",
      "dense_1 (Dense)              (None, 15)                245775    \n",
      "=================================================================\n",
      "Total params: 252,895\n",
      "Trainable params: 252,895\n",
      "Non-trainable params: 0\n",
      "_________________________________________________________________\n"
     ]
    }
   ],
   "metadata": {
    "_kg_hide-input": true,
    "_uuid": "046612eda2408801ded03cc6a5e2357a99298969",
    "execution": {
     "iopub.execute_input": "2021-03-20T10:06:55.912119Z",
     "iopub.status.busy": "2021-03-20T10:06:55.907361Z",
     "iopub.status.idle": "2021-03-20T10:06:55.916981Z",
     "shell.execute_reply": "2021-03-20T10:06:55.916526Z"
    },
    "papermill": {
     "duration": 0.049021,
     "end_time": "2021-03-20T10:06:55.917065",
     "exception": false,
     "start_time": "2021-03-20T10:06:55.868044",
     "status": "completed"
    },
    "tags": []
   }
  },
  {
   "cell_type": "markdown",
   "source": [
    "We are using the predefined epoch number for this experiment (50 steps).\n",
    "\n",
    "The modes uses 2 Convolutional layers, followed by a MaxPool, a Dropout, then another 2 Convolutional layers and a Dropout. Then follows a Flatten and a Dense layer. We compile the model with **Adam** optimizer and use a categorical crossentropy loss functions. The metric used is accuracy.\n",
    "\n",
    "We are using as well a learning function with variable learning rate (depends on the epoch number). \n",
    "\n",
    "At each training epoch, we evaluate the validation error and, based on its evolution, we decide if we stop the training or continue (with a prededined `patience` factor - i.e. we only stop if validation is not improving for a certain number of steps (we set the patience to 5 steps). If at a certain step the validation error is improving, we save the current model. We then will load the best model and use it for prediction of test set."
   ],
   "metadata": {
    "_uuid": "0149020f748dc9eaa89ebf732829031d6d9d35a2",
    "papermill": {
     "duration": 0.047839,
     "end_time": "2021-03-20T10:06:56.000595",
     "exception": false,
     "start_time": "2021-03-20T10:06:55.952756",
     "status": "completed"
    },
    "tags": []
   }
  },
  {
   "cell_type": "code",
   "execution_count": 75,
   "source": [
    "annealer = LearningRateScheduler(lambda x: 1e-3 * 0.99 ** (x+NO_EPOCHS))\r\n",
    "earlystopper = EarlyStopping(monitor='loss', patience=PATIENCE, verbose=VERBOSE)\r\n",
    "checkpointer = ModelCheckpoint('best_model.h5',\r\n",
    "                                monitor='val_accuracy',\r\n",
    "                                verbose=VERBOSE,\r\n",
    "                                save_best_only=True,\r\n",
    "                                save_weights_only=True)"
   ],
   "outputs": [],
   "metadata": {
    "execution": {
     "iopub.execute_input": "2021-03-20T10:06:56.147133Z",
     "iopub.status.busy": "2021-03-20T10:06:56.146292Z",
     "iopub.status.idle": "2021-03-20T10:06:56.152633Z",
     "shell.execute_reply": "2021-03-20T10:06:56.153230Z"
    },
    "papermill": {
     "duration": 0.091428,
     "end_time": "2021-03-20T10:06:56.153390",
     "exception": false,
     "start_time": "2021-03-20T10:06:56.061962",
     "status": "completed"
    },
    "tags": []
   }
  },
  {
   "cell_type": "code",
   "execution_count": 78,
   "source": [
    "%%time\r\n",
    "train_model  = model.fit(X_train, y_train,\r\n",
    "                  batch_size=BATCH_SIZE,\r\n",
    "                  epochs=NO_EPOCHS,\r\n",
    "                  verbose=1,\r\n",
    "                  validation_data=(X_val, y_val),\r\n",
    "                  callbacks=[earlystopper, checkpointer, annealer])"
   ],
   "outputs": [
    {
     "output_type": "stream",
     "name": "stdout",
     "text": [
      "Epoch 1/5\n",
      "300/300 [==============================] - 84s 271ms/step - loss: 1.9573 - accuracy: 0.3768 - val_loss: 0.7438 - val_accuracy: 0.7708\n",
      "\n",
      "Epoch 00001: val_accuracy improved from -inf to 0.77083, saving model to best_model.h5\n",
      "Epoch 2/5\n",
      "300/300 [==============================] - 81s 270ms/step - loss: 0.6259 - accuracy: 0.7963 - val_loss: 0.4861 - val_accuracy: 0.8529\n",
      "\n",
      "Epoch 00002: val_accuracy improved from 0.77083 to 0.85292, saving model to best_model.h5\n",
      "Epoch 3/5\n",
      "300/300 [==============================] - 67s 223ms/step - loss: 0.3496 - accuracy: 0.8824 - val_loss: 0.3417 - val_accuracy: 0.8938\n",
      "\n",
      "Epoch 00003: val_accuracy improved from 0.85292 to 0.89375, saving model to best_model.h5\n",
      "Epoch 4/5\n",
      "300/300 [==============================] - 78s 261ms/step - loss: 0.2492 - accuracy: 0.9181 - val_loss: 0.2908 - val_accuracy: 0.9137\n",
      "\n",
      "Epoch 00004: val_accuracy improved from 0.89375 to 0.91375, saving model to best_model.h5\n",
      "Epoch 5/5\n",
      "300/300 [==============================] - 69s 231ms/step - loss: 0.1875 - accuracy: 0.9427 - val_loss: 0.2667 - val_accuracy: 0.9246\n",
      "\n",
      "Epoch 00005: val_accuracy improved from 0.91375 to 0.92458, saving model to best_model.h5\n",
      "Wall time: 6min 20s\n"
     ]
    }
   ],
   "metadata": {
    "execution": {
     "iopub.execute_input": "2021-03-20T10:06:56.284463Z",
     "iopub.status.busy": "2021-03-20T10:06:56.283672Z",
     "iopub.status.idle": "2021-03-20T10:08:17.542284Z",
     "shell.execute_reply": "2021-03-20T10:08:17.541831Z"
    },
    "papermill": {
     "duration": 81.328775,
     "end_time": "2021-03-20T10:08:17.542387",
     "exception": false,
     "start_time": "2021-03-20T10:06:56.213612",
     "status": "completed"
    },
    "tags": []
   }
  },
  {
   "cell_type": "markdown",
   "source": [
    "<a href=\"#0\"><font size=\"1\">Go to top</font></a>  \n",
    "\n",
    "\n",
    "## <a id='42'>Model evaluation</a> \n",
    "\n",
    "\n",
    "Let's start by plotting the loss error for the train and validation set. \n",
    "We define a function to visualize these values."
   ],
   "metadata": {
    "_uuid": "5837b3e9cb131fab2c58f4b9de92f147f48b59ae",
    "papermill": {
     "duration": 0.389387,
     "end_time": "2021-03-20T10:08:18.321679",
     "exception": false,
     "start_time": "2021-03-20T10:08:17.932292",
     "status": "completed"
    },
    "tags": []
   }
  },
  {
   "cell_type": "code",
   "execution_count": 79,
   "source": [
    "def create_trace(x,y,ylabel,color):\r\n",
    "        trace = go.Scatter(\r\n",
    "            x = x,y = y,\r\n",
    "            name=ylabel,\r\n",
    "            marker=dict(color=color),\r\n",
    "            mode = \"markers+lines\",\r\n",
    "            text=x\r\n",
    "        )\r\n",
    "        return trace\r\n",
    "    \r\n",
    "def plot_accuracy_and_loss(train_model):\r\n",
    "    hist = train_model.history\r\n",
    "    acc = hist['accuracy']\r\n",
    "    val_acc = hist['val_accuracy']\r\n",
    "    loss = hist['loss']\r\n",
    "    val_loss = hist['val_loss']\r\n",
    "    epochs = list(range(1,len(acc)+1))\r\n",
    "    #define the traces\r\n",
    "    trace_ta = create_trace(epochs,acc,\"Training accuracy\", \"Green\")\r\n",
    "    trace_va = create_trace(epochs,val_acc,\"Validation accuracy\", \"Red\")\r\n",
    "    trace_tl = create_trace(epochs,loss,\"Training loss\", \"Blue\")\r\n",
    "    trace_vl = create_trace(epochs,val_loss,\"Validation loss\", \"Magenta\")\r\n",
    "    fig = tools.make_subplots(rows=1,cols=2, subplot_titles=('Training and validation accuracy',\r\n",
    "                                                             'Training and validation loss'))\r\n",
    "    #add traces to the figure\r\n",
    "    fig.append_trace(trace_ta,1,1)\r\n",
    "    fig.append_trace(trace_va,1,1)\r\n",
    "    fig.append_trace(trace_tl,1,2)\r\n",
    "    fig.append_trace(trace_vl,1,2)\r\n",
    "    #set the layout for the figure\r\n",
    "    fig['layout']['xaxis'].update(title = 'Epoch')\r\n",
    "    fig['layout']['xaxis2'].update(title = 'Epoch')\r\n",
    "    fig['layout']['yaxis'].update(title = 'Accuracy', range=[0,1])\r\n",
    "    fig['layout']['yaxis2'].update(title = 'Loss', range=[0,1])\r\n",
    "    #plot\r\n",
    "    iplot(fig, filename='accuracy-loss')\r\n",
    "\r\n",
    "plot_accuracy_and_loss(train_model)"
   ],
   "outputs": [
    {
     "output_type": "display_data",
     "data": {
      "application/vnd.plotly.v1+json": {
       "config": {
        "linkText": "Export to plot.ly",
        "plotlyServerURL": "https://plot.ly",
        "showLink": false
       },
       "data": [
        {
         "marker": {
          "color": "Green"
         },
         "mode": "markers+lines",
         "name": "Training accuracy",
         "text": [
          "1",
          "2",
          "3",
          "4",
          "5"
         ],
         "type": "scatter",
         "x": [
          1,
          2,
          3,
          4,
          5
         ],
         "xaxis": "x",
         "y": [
          0.5623958110809326,
          0.815833330154419,
          0.8887500166893005,
          0.9223958253860474,
          0.9438541531562805
         ],
         "yaxis": "y"
        },
        {
         "marker": {
          "color": "Red"
         },
         "mode": "markers+lines",
         "name": "Validation accuracy",
         "text": [
          "1",
          "2",
          "3",
          "4",
          "5"
         ],
         "type": "scatter",
         "x": [
          1,
          2,
          3,
          4,
          5
         ],
         "xaxis": "x",
         "y": [
          0.7708333134651184,
          0.8529166579246521,
          0.893750011920929,
          0.9137499928474426,
          0.9245833158493042
         ],
         "yaxis": "y"
        },
        {
         "marker": {
          "color": "Blue"
         },
         "mode": "markers+lines",
         "name": "Training loss",
         "text": [
          "1",
          "2",
          "3",
          "4",
          "5"
         ],
         "type": "scatter",
         "x": [
          1,
          2,
          3,
          4,
          5
         ],
         "xaxis": "x2",
         "y": [
          1.4195386171340942,
          0.578635573387146,
          0.3387809991836548,
          0.24463988840579987,
          0.18298748135566711
         ],
         "yaxis": "y2"
        },
        {
         "marker": {
          "color": "Magenta"
         },
         "mode": "markers+lines",
         "name": "Validation loss",
         "text": [
          "1",
          "2",
          "3",
          "4",
          "5"
         ],
         "type": "scatter",
         "x": [
          1,
          2,
          3,
          4,
          5
         ],
         "xaxis": "x2",
         "y": [
          0.743813157081604,
          0.4861033260822296,
          0.34167593717575073,
          0.2908199429512024,
          0.26672127842903137
         ],
         "yaxis": "y2"
        }
       ],
       "layout": {
        "annotations": [
         {
          "font": {
           "size": 16
          },
          "showarrow": false,
          "text": "Training and validation accuracy",
          "x": 0.225,
          "xanchor": "center",
          "xref": "paper",
          "y": 1,
          "yanchor": "bottom",
          "yref": "paper"
         },
         {
          "font": {
           "size": 16
          },
          "showarrow": false,
          "text": "Training and validation loss",
          "x": 0.775,
          "xanchor": "center",
          "xref": "paper",
          "y": 1,
          "yanchor": "bottom",
          "yref": "paper"
         }
        ],
        "template": {
         "data": {
          "bar": [
           {
            "error_x": {
             "color": "#2a3f5f"
            },
            "error_y": {
             "color": "#2a3f5f"
            },
            "marker": {
             "line": {
              "color": "#E5ECF6",
              "width": 0.5
             }
            },
            "type": "bar"
           }
          ],
          "barpolar": [
           {
            "marker": {
             "line": {
              "color": "#E5ECF6",
              "width": 0.5
             }
            },
            "type": "barpolar"
           }
          ],
          "carpet": [
           {
            "aaxis": {
             "endlinecolor": "#2a3f5f",
             "gridcolor": "white",
             "linecolor": "white",
             "minorgridcolor": "white",
             "startlinecolor": "#2a3f5f"
            },
            "baxis": {
             "endlinecolor": "#2a3f5f",
             "gridcolor": "white",
             "linecolor": "white",
             "minorgridcolor": "white",
             "startlinecolor": "#2a3f5f"
            },
            "type": "carpet"
           }
          ],
          "choropleth": [
           {
            "colorbar": {
             "outlinewidth": 0,
             "ticks": ""
            },
            "type": "choropleth"
           }
          ],
          "contour": [
           {
            "colorbar": {
             "outlinewidth": 0,
             "ticks": ""
            },
            "colorscale": [
             [
              0,
              "#0d0887"
             ],
             [
              0.1111111111111111,
              "#46039f"
             ],
             [
              0.2222222222222222,
              "#7201a8"
             ],
             [
              0.3333333333333333,
              "#9c179e"
             ],
             [
              0.4444444444444444,
              "#bd3786"
             ],
             [
              0.5555555555555556,
              "#d8576b"
             ],
             [
              0.6666666666666666,
              "#ed7953"
             ],
             [
              0.7777777777777778,
              "#fb9f3a"
             ],
             [
              0.8888888888888888,
              "#fdca26"
             ],
             [
              1,
              "#f0f921"
             ]
            ],
            "type": "contour"
           }
          ],
          "contourcarpet": [
           {
            "colorbar": {
             "outlinewidth": 0,
             "ticks": ""
            },
            "type": "contourcarpet"
           }
          ],
          "heatmap": [
           {
            "colorbar": {
             "outlinewidth": 0,
             "ticks": ""
            },
            "colorscale": [
             [
              0,
              "#0d0887"
             ],
             [
              0.1111111111111111,
              "#46039f"
             ],
             [
              0.2222222222222222,
              "#7201a8"
             ],
             [
              0.3333333333333333,
              "#9c179e"
             ],
             [
              0.4444444444444444,
              "#bd3786"
             ],
             [
              0.5555555555555556,
              "#d8576b"
             ],
             [
              0.6666666666666666,
              "#ed7953"
             ],
             [
              0.7777777777777778,
              "#fb9f3a"
             ],
             [
              0.8888888888888888,
              "#fdca26"
             ],
             [
              1,
              "#f0f921"
             ]
            ],
            "type": "heatmap"
           }
          ],
          "heatmapgl": [
           {
            "colorbar": {
             "outlinewidth": 0,
             "ticks": ""
            },
            "colorscale": [
             [
              0,
              "#0d0887"
             ],
             [
              0.1111111111111111,
              "#46039f"
             ],
             [
              0.2222222222222222,
              "#7201a8"
             ],
             [
              0.3333333333333333,
              "#9c179e"
             ],
             [
              0.4444444444444444,
              "#bd3786"
             ],
             [
              0.5555555555555556,
              "#d8576b"
             ],
             [
              0.6666666666666666,
              "#ed7953"
             ],
             [
              0.7777777777777778,
              "#fb9f3a"
             ],
             [
              0.8888888888888888,
              "#fdca26"
             ],
             [
              1,
              "#f0f921"
             ]
            ],
            "type": "heatmapgl"
           }
          ],
          "histogram": [
           {
            "marker": {
             "colorbar": {
              "outlinewidth": 0,
              "ticks": ""
             }
            },
            "type": "histogram"
           }
          ],
          "histogram2d": [
           {
            "colorbar": {
             "outlinewidth": 0,
             "ticks": ""
            },
            "colorscale": [
             [
              0,
              "#0d0887"
             ],
             [
              0.1111111111111111,
              "#46039f"
             ],
             [
              0.2222222222222222,
              "#7201a8"
             ],
             [
              0.3333333333333333,
              "#9c179e"
             ],
             [
              0.4444444444444444,
              "#bd3786"
             ],
             [
              0.5555555555555556,
              "#d8576b"
             ],
             [
              0.6666666666666666,
              "#ed7953"
             ],
             [
              0.7777777777777778,
              "#fb9f3a"
             ],
             [
              0.8888888888888888,
              "#fdca26"
             ],
             [
              1,
              "#f0f921"
             ]
            ],
            "type": "histogram2d"
           }
          ],
          "histogram2dcontour": [
           {
            "colorbar": {
             "outlinewidth": 0,
             "ticks": ""
            },
            "colorscale": [
             [
              0,
              "#0d0887"
             ],
             [
              0.1111111111111111,
              "#46039f"
             ],
             [
              0.2222222222222222,
              "#7201a8"
             ],
             [
              0.3333333333333333,
              "#9c179e"
             ],
             [
              0.4444444444444444,
              "#bd3786"
             ],
             [
              0.5555555555555556,
              "#d8576b"
             ],
             [
              0.6666666666666666,
              "#ed7953"
             ],
             [
              0.7777777777777778,
              "#fb9f3a"
             ],
             [
              0.8888888888888888,
              "#fdca26"
             ],
             [
              1,
              "#f0f921"
             ]
            ],
            "type": "histogram2dcontour"
           }
          ],
          "mesh3d": [
           {
            "colorbar": {
             "outlinewidth": 0,
             "ticks": ""
            },
            "type": "mesh3d"
           }
          ],
          "parcoords": [
           {
            "line": {
             "colorbar": {
              "outlinewidth": 0,
              "ticks": ""
             }
            },
            "type": "parcoords"
           }
          ],
          "pie": [
           {
            "automargin": true,
            "type": "pie"
           }
          ],
          "scatter": [
           {
            "marker": {
             "colorbar": {
              "outlinewidth": 0,
              "ticks": ""
             }
            },
            "type": "scatter"
           }
          ],
          "scatter3d": [
           {
            "line": {
             "colorbar": {
              "outlinewidth": 0,
              "ticks": ""
             }
            },
            "marker": {
             "colorbar": {
              "outlinewidth": 0,
              "ticks": ""
             }
            },
            "type": "scatter3d"
           }
          ],
          "scattercarpet": [
           {
            "marker": {
             "colorbar": {
              "outlinewidth": 0,
              "ticks": ""
             }
            },
            "type": "scattercarpet"
           }
          ],
          "scattergeo": [
           {
            "marker": {
             "colorbar": {
              "outlinewidth": 0,
              "ticks": ""
             }
            },
            "type": "scattergeo"
           }
          ],
          "scattergl": [
           {
            "marker": {
             "colorbar": {
              "outlinewidth": 0,
              "ticks": ""
             }
            },
            "type": "scattergl"
           }
          ],
          "scattermapbox": [
           {
            "marker": {
             "colorbar": {
              "outlinewidth": 0,
              "ticks": ""
             }
            },
            "type": "scattermapbox"
           }
          ],
          "scatterpolar": [
           {
            "marker": {
             "colorbar": {
              "outlinewidth": 0,
              "ticks": ""
             }
            },
            "type": "scatterpolar"
           }
          ],
          "scatterpolargl": [
           {
            "marker": {
             "colorbar": {
              "outlinewidth": 0,
              "ticks": ""
             }
            },
            "type": "scatterpolargl"
           }
          ],
          "scatterternary": [
           {
            "marker": {
             "colorbar": {
              "outlinewidth": 0,
              "ticks": ""
             }
            },
            "type": "scatterternary"
           }
          ],
          "surface": [
           {
            "colorbar": {
             "outlinewidth": 0,
             "ticks": ""
            },
            "colorscale": [
             [
              0,
              "#0d0887"
             ],
             [
              0.1111111111111111,
              "#46039f"
             ],
             [
              0.2222222222222222,
              "#7201a8"
             ],
             [
              0.3333333333333333,
              "#9c179e"
             ],
             [
              0.4444444444444444,
              "#bd3786"
             ],
             [
              0.5555555555555556,
              "#d8576b"
             ],
             [
              0.6666666666666666,
              "#ed7953"
             ],
             [
              0.7777777777777778,
              "#fb9f3a"
             ],
             [
              0.8888888888888888,
              "#fdca26"
             ],
             [
              1,
              "#f0f921"
             ]
            ],
            "type": "surface"
           }
          ],
          "table": [
           {
            "cells": {
             "fill": {
              "color": "#EBF0F8"
             },
             "line": {
              "color": "white"
             }
            },
            "header": {
             "fill": {
              "color": "#C8D4E3"
             },
             "line": {
              "color": "white"
             }
            },
            "type": "table"
           }
          ]
         },
         "layout": {
          "annotationdefaults": {
           "arrowcolor": "#2a3f5f",
           "arrowhead": 0,
           "arrowwidth": 1
          },
          "autotypenumbers": "strict",
          "coloraxis": {
           "colorbar": {
            "outlinewidth": 0,
            "ticks": ""
           }
          },
          "colorscale": {
           "diverging": [
            [
             0,
             "#8e0152"
            ],
            [
             0.1,
             "#c51b7d"
            ],
            [
             0.2,
             "#de77ae"
            ],
            [
             0.3,
             "#f1b6da"
            ],
            [
             0.4,
             "#fde0ef"
            ],
            [
             0.5,
             "#f7f7f7"
            ],
            [
             0.6,
             "#e6f5d0"
            ],
            [
             0.7,
             "#b8e186"
            ],
            [
             0.8,
             "#7fbc41"
            ],
            [
             0.9,
             "#4d9221"
            ],
            [
             1,
             "#276419"
            ]
           ],
           "sequential": [
            [
             0,
             "#0d0887"
            ],
            [
             0.1111111111111111,
             "#46039f"
            ],
            [
             0.2222222222222222,
             "#7201a8"
            ],
            [
             0.3333333333333333,
             "#9c179e"
            ],
            [
             0.4444444444444444,
             "#bd3786"
            ],
            [
             0.5555555555555556,
             "#d8576b"
            ],
            [
             0.6666666666666666,
             "#ed7953"
            ],
            [
             0.7777777777777778,
             "#fb9f3a"
            ],
            [
             0.8888888888888888,
             "#fdca26"
            ],
            [
             1,
             "#f0f921"
            ]
           ],
           "sequentialminus": [
            [
             0,
             "#0d0887"
            ],
            [
             0.1111111111111111,
             "#46039f"
            ],
            [
             0.2222222222222222,
             "#7201a8"
            ],
            [
             0.3333333333333333,
             "#9c179e"
            ],
            [
             0.4444444444444444,
             "#bd3786"
            ],
            [
             0.5555555555555556,
             "#d8576b"
            ],
            [
             0.6666666666666666,
             "#ed7953"
            ],
            [
             0.7777777777777778,
             "#fb9f3a"
            ],
            [
             0.8888888888888888,
             "#fdca26"
            ],
            [
             1,
             "#f0f921"
            ]
           ]
          },
          "colorway": [
           "#636efa",
           "#EF553B",
           "#00cc96",
           "#ab63fa",
           "#FFA15A",
           "#19d3f3",
           "#FF6692",
           "#B6E880",
           "#FF97FF",
           "#FECB52"
          ],
          "font": {
           "color": "#2a3f5f"
          },
          "geo": {
           "bgcolor": "white",
           "lakecolor": "white",
           "landcolor": "#E5ECF6",
           "showlakes": true,
           "showland": true,
           "subunitcolor": "white"
          },
          "hoverlabel": {
           "align": "left"
          },
          "hovermode": "closest",
          "mapbox": {
           "style": "light"
          },
          "paper_bgcolor": "white",
          "plot_bgcolor": "#E5ECF6",
          "polar": {
           "angularaxis": {
            "gridcolor": "white",
            "linecolor": "white",
            "ticks": ""
           },
           "bgcolor": "#E5ECF6",
           "radialaxis": {
            "gridcolor": "white",
            "linecolor": "white",
            "ticks": ""
           }
          },
          "scene": {
           "xaxis": {
            "backgroundcolor": "#E5ECF6",
            "gridcolor": "white",
            "gridwidth": 2,
            "linecolor": "white",
            "showbackground": true,
            "ticks": "",
            "zerolinecolor": "white"
           },
           "yaxis": {
            "backgroundcolor": "#E5ECF6",
            "gridcolor": "white",
            "gridwidth": 2,
            "linecolor": "white",
            "showbackground": true,
            "ticks": "",
            "zerolinecolor": "white"
           },
           "zaxis": {
            "backgroundcolor": "#E5ECF6",
            "gridcolor": "white",
            "gridwidth": 2,
            "linecolor": "white",
            "showbackground": true,
            "ticks": "",
            "zerolinecolor": "white"
           }
          },
          "shapedefaults": {
           "line": {
            "color": "#2a3f5f"
           }
          },
          "ternary": {
           "aaxis": {
            "gridcolor": "white",
            "linecolor": "white",
            "ticks": ""
           },
           "baxis": {
            "gridcolor": "white",
            "linecolor": "white",
            "ticks": ""
           },
           "bgcolor": "#E5ECF6",
           "caxis": {
            "gridcolor": "white",
            "linecolor": "white",
            "ticks": ""
           }
          },
          "title": {
           "x": 0.05
          },
          "xaxis": {
           "automargin": true,
           "gridcolor": "white",
           "linecolor": "white",
           "ticks": "",
           "title": {
            "standoff": 15
           },
           "zerolinecolor": "white",
           "zerolinewidth": 2
          },
          "yaxis": {
           "automargin": true,
           "gridcolor": "white",
           "linecolor": "white",
           "ticks": "",
           "title": {
            "standoff": 15
           },
           "zerolinecolor": "white",
           "zerolinewidth": 2
          }
         }
        },
        "xaxis": {
         "anchor": "y",
         "domain": [
          0,
          0.45
         ],
         "title": {
          "text": "Epoch"
         }
        },
        "xaxis2": {
         "anchor": "y2",
         "domain": [
          0.55,
          1
         ],
         "title": {
          "text": "Epoch"
         }
        },
        "yaxis": {
         "anchor": "x",
         "domain": [
          0,
          1
         ],
         "range": [
          0,
          1
         ],
         "title": {
          "text": "Accuracy"
         }
        },
        "yaxis2": {
         "anchor": "x2",
         "domain": [
          0,
          1
         ],
         "range": [
          0,
          1
         ],
         "title": {
          "text": "Loss"
         }
        }
       }
      },
      "text/html": [
       "<div>                            <div id=\"04e0d338-90cc-4872-9a7b-c8a30cecd38a\" class=\"plotly-graph-div\" style=\"height:525px; width:100%;\"></div>            <script type=\"text/javascript\">                require([\"plotly\"], function(Plotly) {                    window.PLOTLYENV=window.PLOTLYENV || {};                                    if (document.getElementById(\"04e0d338-90cc-4872-9a7b-c8a30cecd38a\")) {                    Plotly.newPlot(                        \"04e0d338-90cc-4872-9a7b-c8a30cecd38a\",                        [{\"marker\": {\"color\": \"Green\"}, \"mode\": \"markers+lines\", \"name\": \"Training accuracy\", \"text\": [\"1\", \"2\", \"3\", \"4\", \"5\"], \"type\": \"scatter\", \"x\": [1, 2, 3, 4, 5], \"xaxis\": \"x\", \"y\": [0.5623958110809326, 0.815833330154419, 0.8887500166893005, 0.9223958253860474, 0.9438541531562805], \"yaxis\": \"y\"}, {\"marker\": {\"color\": \"Red\"}, \"mode\": \"markers+lines\", \"name\": \"Validation accuracy\", \"text\": [\"1\", \"2\", \"3\", \"4\", \"5\"], \"type\": \"scatter\", \"x\": [1, 2, 3, 4, 5], \"xaxis\": \"x\", \"y\": [0.7708333134651184, 0.8529166579246521, 0.893750011920929, 0.9137499928474426, 0.9245833158493042], \"yaxis\": \"y\"}, {\"marker\": {\"color\": \"Blue\"}, \"mode\": \"markers+lines\", \"name\": \"Training loss\", \"text\": [\"1\", \"2\", \"3\", \"4\", \"5\"], \"type\": \"scatter\", \"x\": [1, 2, 3, 4, 5], \"xaxis\": \"x2\", \"y\": [1.4195386171340942, 0.578635573387146, 0.3387809991836548, 0.24463988840579987, 0.18298748135566711], \"yaxis\": \"y2\"}, {\"marker\": {\"color\": \"Magenta\"}, \"mode\": \"markers+lines\", \"name\": \"Validation loss\", \"text\": [\"1\", \"2\", \"3\", \"4\", \"5\"], \"type\": \"scatter\", \"x\": [1, 2, 3, 4, 5], \"xaxis\": \"x2\", \"y\": [0.743813157081604, 0.4861033260822296, 0.34167593717575073, 0.2908199429512024, 0.26672127842903137], \"yaxis\": \"y2\"}],                        {\"annotations\": [{\"font\": {\"size\": 16}, \"showarrow\": false, \"text\": \"Training and validation accuracy\", \"x\": 0.225, \"xanchor\": \"center\", \"xref\": \"paper\", \"y\": 1.0, \"yanchor\": \"bottom\", \"yref\": \"paper\"}, {\"font\": {\"size\": 16}, \"showarrow\": false, \"text\": \"Training and validation loss\", \"x\": 0.775, \"xanchor\": \"center\", \"xref\": \"paper\", \"y\": 1.0, \"yanchor\": \"bottom\", \"yref\": \"paper\"}], \"template\": {\"data\": {\"bar\": [{\"error_x\": {\"color\": \"#2a3f5f\"}, \"error_y\": {\"color\": \"#2a3f5f\"}, \"marker\": {\"line\": {\"color\": \"#E5ECF6\", \"width\": 0.5}}, \"type\": \"bar\"}], \"barpolar\": [{\"marker\": {\"line\": {\"color\": \"#E5ECF6\", \"width\": 0.5}}, \"type\": \"barpolar\"}], \"carpet\": [{\"aaxis\": {\"endlinecolor\": \"#2a3f5f\", \"gridcolor\": \"white\", \"linecolor\": \"white\", \"minorgridcolor\": \"white\", \"startlinecolor\": \"#2a3f5f\"}, \"baxis\": {\"endlinecolor\": \"#2a3f5f\", \"gridcolor\": \"white\", \"linecolor\": \"white\", \"minorgridcolor\": \"white\", \"startlinecolor\": \"#2a3f5f\"}, \"type\": \"carpet\"}], \"choropleth\": [{\"colorbar\": {\"outlinewidth\": 0, \"ticks\": \"\"}, \"type\": \"choropleth\"}], \"contour\": [{\"colorbar\": {\"outlinewidth\": 0, \"ticks\": \"\"}, \"colorscale\": [[0.0, \"#0d0887\"], [0.1111111111111111, \"#46039f\"], [0.2222222222222222, \"#7201a8\"], [0.3333333333333333, \"#9c179e\"], [0.4444444444444444, \"#bd3786\"], [0.5555555555555556, \"#d8576b\"], [0.6666666666666666, \"#ed7953\"], [0.7777777777777778, \"#fb9f3a\"], [0.8888888888888888, \"#fdca26\"], [1.0, \"#f0f921\"]], \"type\": \"contour\"}], \"contourcarpet\": [{\"colorbar\": {\"outlinewidth\": 0, \"ticks\": \"\"}, \"type\": \"contourcarpet\"}], \"heatmap\": [{\"colorbar\": {\"outlinewidth\": 0, \"ticks\": \"\"}, \"colorscale\": [[0.0, \"#0d0887\"], [0.1111111111111111, \"#46039f\"], [0.2222222222222222, \"#7201a8\"], [0.3333333333333333, \"#9c179e\"], [0.4444444444444444, \"#bd3786\"], [0.5555555555555556, \"#d8576b\"], [0.6666666666666666, \"#ed7953\"], [0.7777777777777778, \"#fb9f3a\"], [0.8888888888888888, \"#fdca26\"], [1.0, \"#f0f921\"]], \"type\": \"heatmap\"}], \"heatmapgl\": [{\"colorbar\": {\"outlinewidth\": 0, \"ticks\": \"\"}, \"colorscale\": [[0.0, \"#0d0887\"], [0.1111111111111111, \"#46039f\"], [0.2222222222222222, \"#7201a8\"], [0.3333333333333333, \"#9c179e\"], [0.4444444444444444, \"#bd3786\"], [0.5555555555555556, \"#d8576b\"], [0.6666666666666666, \"#ed7953\"], [0.7777777777777778, \"#fb9f3a\"], [0.8888888888888888, \"#fdca26\"], [1.0, \"#f0f921\"]], \"type\": \"heatmapgl\"}], \"histogram\": [{\"marker\": {\"colorbar\": {\"outlinewidth\": 0, \"ticks\": \"\"}}, \"type\": \"histogram\"}], \"histogram2d\": [{\"colorbar\": {\"outlinewidth\": 0, \"ticks\": \"\"}, \"colorscale\": [[0.0, \"#0d0887\"], [0.1111111111111111, \"#46039f\"], [0.2222222222222222, \"#7201a8\"], [0.3333333333333333, \"#9c179e\"], [0.4444444444444444, \"#bd3786\"], [0.5555555555555556, \"#d8576b\"], [0.6666666666666666, \"#ed7953\"], [0.7777777777777778, \"#fb9f3a\"], [0.8888888888888888, \"#fdca26\"], [1.0, \"#f0f921\"]], \"type\": \"histogram2d\"}], \"histogram2dcontour\": [{\"colorbar\": {\"outlinewidth\": 0, \"ticks\": \"\"}, \"colorscale\": [[0.0, \"#0d0887\"], [0.1111111111111111, \"#46039f\"], [0.2222222222222222, \"#7201a8\"], [0.3333333333333333, \"#9c179e\"], [0.4444444444444444, \"#bd3786\"], [0.5555555555555556, \"#d8576b\"], [0.6666666666666666, \"#ed7953\"], [0.7777777777777778, \"#fb9f3a\"], [0.8888888888888888, \"#fdca26\"], [1.0, \"#f0f921\"]], \"type\": \"histogram2dcontour\"}], \"mesh3d\": [{\"colorbar\": {\"outlinewidth\": 0, \"ticks\": \"\"}, \"type\": \"mesh3d\"}], \"parcoords\": [{\"line\": {\"colorbar\": {\"outlinewidth\": 0, \"ticks\": \"\"}}, \"type\": \"parcoords\"}], \"pie\": [{\"automargin\": true, \"type\": \"pie\"}], \"scatter\": [{\"marker\": {\"colorbar\": {\"outlinewidth\": 0, \"ticks\": \"\"}}, \"type\": \"scatter\"}], \"scatter3d\": [{\"line\": {\"colorbar\": {\"outlinewidth\": 0, \"ticks\": \"\"}}, \"marker\": {\"colorbar\": {\"outlinewidth\": 0, \"ticks\": \"\"}}, \"type\": \"scatter3d\"}], \"scattercarpet\": [{\"marker\": {\"colorbar\": {\"outlinewidth\": 0, \"ticks\": \"\"}}, \"type\": \"scattercarpet\"}], \"scattergeo\": [{\"marker\": {\"colorbar\": {\"outlinewidth\": 0, \"ticks\": \"\"}}, \"type\": \"scattergeo\"}], \"scattergl\": [{\"marker\": {\"colorbar\": {\"outlinewidth\": 0, \"ticks\": \"\"}}, \"type\": \"scattergl\"}], \"scattermapbox\": [{\"marker\": {\"colorbar\": {\"outlinewidth\": 0, \"ticks\": \"\"}}, \"type\": \"scattermapbox\"}], \"scatterpolar\": [{\"marker\": {\"colorbar\": {\"outlinewidth\": 0, \"ticks\": \"\"}}, \"type\": \"scatterpolar\"}], \"scatterpolargl\": [{\"marker\": {\"colorbar\": {\"outlinewidth\": 0, \"ticks\": \"\"}}, \"type\": \"scatterpolargl\"}], \"scatterternary\": [{\"marker\": {\"colorbar\": {\"outlinewidth\": 0, \"ticks\": \"\"}}, \"type\": \"scatterternary\"}], \"surface\": [{\"colorbar\": {\"outlinewidth\": 0, \"ticks\": \"\"}, \"colorscale\": [[0.0, \"#0d0887\"], [0.1111111111111111, \"#46039f\"], [0.2222222222222222, \"#7201a8\"], [0.3333333333333333, \"#9c179e\"], [0.4444444444444444, \"#bd3786\"], [0.5555555555555556, \"#d8576b\"], [0.6666666666666666, \"#ed7953\"], [0.7777777777777778, \"#fb9f3a\"], [0.8888888888888888, \"#fdca26\"], [1.0, \"#f0f921\"]], \"type\": \"surface\"}], \"table\": [{\"cells\": {\"fill\": {\"color\": \"#EBF0F8\"}, \"line\": {\"color\": \"white\"}}, \"header\": {\"fill\": {\"color\": \"#C8D4E3\"}, \"line\": {\"color\": \"white\"}}, \"type\": \"table\"}]}, \"layout\": {\"annotationdefaults\": {\"arrowcolor\": \"#2a3f5f\", \"arrowhead\": 0, \"arrowwidth\": 1}, \"autotypenumbers\": \"strict\", \"coloraxis\": {\"colorbar\": {\"outlinewidth\": 0, \"ticks\": \"\"}}, \"colorscale\": {\"diverging\": [[0, \"#8e0152\"], [0.1, \"#c51b7d\"], [0.2, \"#de77ae\"], [0.3, \"#f1b6da\"], [0.4, \"#fde0ef\"], [0.5, \"#f7f7f7\"], [0.6, \"#e6f5d0\"], [0.7, \"#b8e186\"], [0.8, \"#7fbc41\"], [0.9, \"#4d9221\"], [1, \"#276419\"]], \"sequential\": [[0.0, \"#0d0887\"], [0.1111111111111111, \"#46039f\"], [0.2222222222222222, \"#7201a8\"], [0.3333333333333333, \"#9c179e\"], [0.4444444444444444, \"#bd3786\"], [0.5555555555555556, \"#d8576b\"], [0.6666666666666666, \"#ed7953\"], [0.7777777777777778, \"#fb9f3a\"], [0.8888888888888888, \"#fdca26\"], [1.0, \"#f0f921\"]], \"sequentialminus\": [[0.0, \"#0d0887\"], [0.1111111111111111, \"#46039f\"], [0.2222222222222222, \"#7201a8\"], [0.3333333333333333, \"#9c179e\"], [0.4444444444444444, \"#bd3786\"], [0.5555555555555556, \"#d8576b\"], [0.6666666666666666, \"#ed7953\"], [0.7777777777777778, \"#fb9f3a\"], [0.8888888888888888, \"#fdca26\"], [1.0, \"#f0f921\"]]}, \"colorway\": [\"#636efa\", \"#EF553B\", \"#00cc96\", \"#ab63fa\", \"#FFA15A\", \"#19d3f3\", \"#FF6692\", \"#B6E880\", \"#FF97FF\", \"#FECB52\"], \"font\": {\"color\": \"#2a3f5f\"}, \"geo\": {\"bgcolor\": \"white\", \"lakecolor\": \"white\", \"landcolor\": \"#E5ECF6\", \"showlakes\": true, \"showland\": true, \"subunitcolor\": \"white\"}, \"hoverlabel\": {\"align\": \"left\"}, \"hovermode\": \"closest\", \"mapbox\": {\"style\": \"light\"}, \"paper_bgcolor\": \"white\", \"plot_bgcolor\": \"#E5ECF6\", \"polar\": {\"angularaxis\": {\"gridcolor\": \"white\", \"linecolor\": \"white\", \"ticks\": \"\"}, \"bgcolor\": \"#E5ECF6\", \"radialaxis\": {\"gridcolor\": \"white\", \"linecolor\": \"white\", \"ticks\": \"\"}}, \"scene\": {\"xaxis\": {\"backgroundcolor\": \"#E5ECF6\", \"gridcolor\": \"white\", \"gridwidth\": 2, \"linecolor\": \"white\", \"showbackground\": true, \"ticks\": \"\", \"zerolinecolor\": \"white\"}, \"yaxis\": {\"backgroundcolor\": \"#E5ECF6\", \"gridcolor\": \"white\", \"gridwidth\": 2, \"linecolor\": \"white\", \"showbackground\": true, \"ticks\": \"\", \"zerolinecolor\": \"white\"}, \"zaxis\": {\"backgroundcolor\": \"#E5ECF6\", \"gridcolor\": \"white\", \"gridwidth\": 2, \"linecolor\": \"white\", \"showbackground\": true, \"ticks\": \"\", \"zerolinecolor\": \"white\"}}, \"shapedefaults\": {\"line\": {\"color\": \"#2a3f5f\"}}, \"ternary\": {\"aaxis\": {\"gridcolor\": \"white\", \"linecolor\": \"white\", \"ticks\": \"\"}, \"baxis\": {\"gridcolor\": \"white\", \"linecolor\": \"white\", \"ticks\": \"\"}, \"bgcolor\": \"#E5ECF6\", \"caxis\": {\"gridcolor\": \"white\", \"linecolor\": \"white\", \"ticks\": \"\"}}, \"title\": {\"x\": 0.05}, \"xaxis\": {\"automargin\": true, \"gridcolor\": \"white\", \"linecolor\": \"white\", \"ticks\": \"\", \"title\": {\"standoff\": 15}, \"zerolinecolor\": \"white\", \"zerolinewidth\": 2}, \"yaxis\": {\"automargin\": true, \"gridcolor\": \"white\", \"linecolor\": \"white\", \"ticks\": \"\", \"title\": {\"standoff\": 15}, \"zerolinecolor\": \"white\", \"zerolinewidth\": 2}}}, \"xaxis\": {\"anchor\": \"y\", \"domain\": [0.0, 0.45], \"title\": {\"text\": \"Epoch\"}}, \"xaxis2\": {\"anchor\": \"y2\", \"domain\": [0.55, 1.0], \"title\": {\"text\": \"Epoch\"}}, \"yaxis\": {\"anchor\": \"x\", \"domain\": [0.0, 1.0], \"range\": [0, 1], \"title\": {\"text\": \"Accuracy\"}}, \"yaxis2\": {\"anchor\": \"x2\", \"domain\": [0.0, 1.0], \"range\": [0, 1], \"title\": {\"text\": \"Loss\"}}},                        {\"responsive\": true}                    ).then(function(){\n",
       "                            \n",
       "var gd = document.getElementById('04e0d338-90cc-4872-9a7b-c8a30cecd38a');\n",
       "var x = new MutationObserver(function (mutations, observer) {{\n",
       "        var display = window.getComputedStyle(gd).display;\n",
       "        if (!display || display === 'none') {{\n",
       "            console.log([gd, 'removed!']);\n",
       "            Plotly.purge(gd);\n",
       "            observer.disconnect();\n",
       "        }}\n",
       "}});\n",
       "\n",
       "// Listen for the removal of the full notebook cells\n",
       "var notebookContainer = gd.closest('#notebook-container');\n",
       "if (notebookContainer) {{\n",
       "    x.observe(notebookContainer, {childList: true});\n",
       "}}\n",
       "\n",
       "// Listen for the clearing of the current output cell\n",
       "var outputEl = gd.closest('.output');\n",
       "if (outputEl) {{\n",
       "    x.observe(outputEl, {childList: true});\n",
       "}}\n",
       "\n",
       "                        })                };                });            </script>        </div>"
      ]
     },
     "metadata": {}
    }
   ],
   "metadata": {
    "_kg_hide-input": true,
    "_uuid": "a87e3beea44a87a806893b798a38d26904d10718",
    "execution": {
     "iopub.execute_input": "2021-03-20T10:08:19.115334Z",
     "iopub.status.busy": "2021-03-20T10:08:19.114487Z",
     "iopub.status.idle": "2021-03-20T10:08:19.836091Z",
     "shell.execute_reply": "2021-03-20T10:08:19.836519Z"
    },
    "papermill": {
     "duration": 1.125025,
     "end_time": "2021-03-20T10:08:19.836636",
     "exception": false,
     "start_time": "2021-03-20T10:08:18.711611",
     "status": "completed"
    },
    "tags": []
   }
  },
  {
   "cell_type": "markdown",
   "source": [
    "<a href=\"#0\"><font size=\"1\">Go to top</font></a>  \n",
    "\n",
    "\n",
    "## <a id='43'>Prediction of test set</a> "
   ],
   "metadata": {
    "papermill": {
     "duration": 0.395612,
     "end_time": "2021-03-20T10:08:20.634392",
     "exception": false,
     "start_time": "2021-03-20T10:08:20.238780",
     "status": "completed"
    },
    "tags": []
   }
  },
  {
   "cell_type": "markdown",
   "source": [
    "\n",
    "Let's continue by evaluating the **test** set **loss** and **accuracy**. We will use here the test set."
   ],
   "metadata": {
    "_uuid": "a77c0127288f090233e70831e6b909c1618efa35",
    "papermill": {
     "duration": 0.397927,
     "end_time": "2021-03-20T10:08:21.437058",
     "exception": false,
     "start_time": "2021-03-20T10:08:21.039131",
     "status": "completed"
    },
    "tags": []
   }
  },
  {
   "cell_type": "markdown",
   "source": [
    "### Predict using last epoch model"
   ],
   "metadata": {
    "papermill": {
     "duration": 0.396388,
     "end_time": "2021-03-20T10:08:22.230034",
     "exception": false,
     "start_time": "2021-03-20T10:08:21.833646",
     "status": "completed"
    },
    "tags": []
   }
  },
  {
   "cell_type": "code",
   "execution_count": 80,
   "source": [
    "score = model.evaluate(X_test, y_test, verbose=0)\r\n",
    "print('Test loss:', score[0])\r\n",
    "print('Test accuracy:', score[1])"
   ],
   "outputs": [
    {
     "output_type": "stream",
     "name": "stdout",
     "text": [
      "Test loss: 0.28350144624710083\n",
      "Test accuracy: 0.9276666641235352\n"
     ]
    }
   ],
   "metadata": {
    "_kg_hide-input": true,
    "_uuid": "1f54e33fcba0e3054d364f35a22f69ef350e8e0d",
    "execution": {
     "iopub.execute_input": "2021-03-20T10:08:23.035736Z",
     "iopub.status.busy": "2021-03-20T10:08:23.034459Z",
     "iopub.status.idle": "2021-03-20T10:08:23.461754Z",
     "shell.execute_reply": "2021-03-20T10:08:23.460468Z"
    },
    "papermill": {
     "duration": 0.834468,
     "end_time": "2021-03-20T10:08:23.461862",
     "exception": false,
     "start_time": "2021-03-20T10:08:22.627394",
     "status": "completed"
    },
    "tags": []
   }
  },
  {
   "cell_type": "markdown",
   "source": [
    "Let's check also the test accuracy per class."
   ],
   "metadata": {
    "_uuid": "46cd7e86e92ac2ec484f0c38c451465cc16a2736",
    "papermill": {
     "duration": 0.399753,
     "end_time": "2021-03-20T10:08:24.260877",
     "exception": false,
     "start_time": "2021-03-20T10:08:23.861124",
     "status": "completed"
    },
    "tags": []
   }
  },
  {
   "cell_type": "code",
   "execution_count": 88,
   "source": [
    "def test_accuracy_report(model):\r\n",
    "    predicted = model.predict(X_test)\r\n",
    "    test_predicted = np.argmax(predicted, axis=1)\r\n",
    "    test_truth = np.argmax(y_test.values, axis=1)\r\n",
    "    print(metrics.classification_report(test_truth, test_predicted)) \r\n",
    "    test_res = model.evaluate(X_test, y_test.values, verbose=0)\r\n",
    "    print('Loss function: %s, accuracy:' % test_res[0], test_res[1])"
   ],
   "outputs": [],
   "metadata": {
    "_kg_hide-input": true,
    "_uuid": "55e96cfdaf488df5bc3d5511fa062563926227ad",
    "execution": {
     "iopub.execute_input": "2021-03-20T10:08:25.337202Z",
     "iopub.status.busy": "2021-03-20T10:08:25.335647Z",
     "iopub.status.idle": "2021-03-20T10:08:25.337874Z",
     "shell.execute_reply": "2021-03-20T10:08:25.338660Z"
    },
    "papermill": {
     "duration": 0.681134,
     "end_time": "2021-03-20T10:08:25.338796",
     "exception": false,
     "start_time": "2021-03-20T10:08:24.657662",
     "status": "completed"
    },
    "tags": []
   }
  },
  {
   "cell_type": "code",
   "execution_count": 89,
   "source": [
    "test_accuracy_report(model)\r\n"
   ],
   "outputs": [
    {
     "output_type": "stream",
     "name": "stdout",
     "text": [
      "              precision    recall  f1-score   support\n",
      "\n",
      "           0       0.98      0.99      0.99       200\n",
      "           1       0.94      0.96      0.95       200\n",
      "           2       0.88      0.87      0.87       200\n",
      "           3       0.93      0.88      0.90       200\n",
      "           4       0.91      0.98      0.94       200\n",
      "           5       0.97      0.96      0.96       200\n",
      "           6       0.94      0.94      0.94       200\n",
      "           7       0.97      0.95      0.96       200\n",
      "           8       1.00      0.99      0.99       200\n",
      "           9       0.86      0.84      0.85       200\n",
      "          10       0.95      0.90      0.92       200\n",
      "          11       0.97      0.84      0.90       200\n",
      "          12       0.90      0.89      0.89       200\n",
      "          13       0.91      0.96      0.94       200\n",
      "          14       0.83      0.95      0.89       200\n",
      "\n",
      "    accuracy                           0.93      3000\n",
      "   macro avg       0.93      0.93      0.93      3000\n",
      "weighted avg       0.93      0.93      0.93      3000\n",
      "\n",
      "Loss function: 0.28350144624710083, accuracy: 0.9276666641235352\n"
     ]
    }
   ],
   "metadata": {}
  },
  {
   "cell_type": "markdown",
   "source": [
    "### Predict using best model"
   ],
   "metadata": {
    "papermill": {
     "duration": 0.445955,
     "end_time": "2021-03-20T10:08:27.611195",
     "exception": false,
     "start_time": "2021-03-20T10:08:27.165240",
     "status": "completed"
    },
    "tags": []
   }
  },
  {
   "cell_type": "code",
   "execution_count": 30,
   "source": [
    "model_optimal = model\r\n",
    "model_optimal.load_weights('best_model.h5')\r\n",
    "score = model_optimal.evaluate(X_test, y_test, verbose=0)\r\n",
    "print(f'Best validation loss: {score[0]}, accuracy: {score[1]}')\r\n",
    "\r\n",
    "test_accuracy_report(model_optimal)"
   ],
   "outputs": [
    {
     "output_type": "stream",
     "name": "stdout",
     "text": [
      "Best validation loss: 0.15444649755954742, accuracy: 0.9710000157356262\n",
      "              precision    recall  f1-score   support\n",
      "\n",
      "           一       1.00      0.97      0.98       200\n",
      "           七       0.98      0.94      0.96       200\n",
      "           万       0.97      0.97      0.97       200\n",
      "           三       0.96      0.98      0.97       200\n",
      "           九       0.93      0.93      0.93       200\n",
      "           二       0.96      0.96      0.96       200\n",
      "           五       1.00      1.00      1.00       200\n",
      "           亿       0.91      0.98      0.94       200\n",
      "           八       1.00      0.99      0.99       200\n",
      "           六       0.98      0.99      0.99       200\n",
      "           十       0.96      0.94      0.95       200\n",
      "           千       0.94      0.96      0.95       200\n",
      "           四       1.00      0.98      0.99       200\n",
      "           百       0.98      0.95      0.97       200\n",
      "           零       0.99      1.00      0.99       200\n",
      "\n",
      "    accuracy                           0.97      3000\n",
      "   macro avg       0.97      0.97      0.97      3000\n",
      "weighted avg       0.97      0.97      0.97      3000\n",
      "\n",
      "Loss function: 0.15444649755954742, accuracy: 0.9710000157356262\n"
     ]
    }
   ],
   "metadata": {
    "execution": {
     "iopub.execute_input": "2021-03-20T10:08:28.434463Z",
     "iopub.status.busy": "2021-03-20T10:08:28.433449Z",
     "iopub.status.idle": "2021-03-20T10:08:29.216196Z",
     "shell.execute_reply": "2021-03-20T10:08:29.215480Z"
    },
    "papermill": {
     "duration": 1.205589,
     "end_time": "2021-03-20T10:08:29.216296",
     "exception": false,
     "start_time": "2021-03-20T10:08:28.010707",
     "status": "completed"
    },
    "tags": []
   }
  },
  {
   "cell_type": "markdown",
   "source": [
    "# <a id='5'>Conclusions</a>  \n",
    " \n",
    " \n",
    "Training uses 64% of the total data (9,600 / 15,000 images), validation 16% of the total images (2,400 / 15,000) and test 3,000 images (20% of the total number of images).\n",
    "\n",
    "Tensorflow/Keras with GPU, with 2 set of Convolutional layers, MaxPool and Dropout, using as well a variable learning rate, periodic saving best model and early stopping and then using best model for testing, resulted in 97% accuracy for testing set.\n"
   ],
   "metadata": {
    "papermill": {
     "duration": 0.416428,
     "end_time": "2021-03-20T10:08:30.033059",
     "exception": false,
     "start_time": "2021-03-20T10:08:29.616631",
     "status": "completed"
    },
    "tags": []
   }
  }
 ],
 "metadata": {
  "kernelspec": {
   "name": "python3",
   "display_name": "Python 3.8.8 64-bit ('siming': conda)"
  },
  "language_info": {
   "codemirror_mode": {
    "name": "ipython",
    "version": 3
   },
   "file_extension": ".py",
   "mimetype": "text/x-python",
   "name": "python",
   "nbconvert_exporter": "python",
   "pygments_lexer": "ipython3",
   "version": "3.8.8"
  },
  "papermill": {
   "duration": 257.963989,
   "end_time": "2021-03-20T10:08:32.393953",
   "environment_variables": {},
   "exception": null,
   "input_path": "__notebook__.ipynb",
   "output_path": "__notebook__.ipynb",
   "parameters": {},
   "start_time": "2021-03-20T10:04:14.429964",
   "version": "2.1.0"
  },
  "interpreter": {
   "hash": "47b50d2908d96196e4220cfb4e81faa93803065ea975497e7026f672c1f58470"
  }
 },
 "nbformat": 4,
 "nbformat_minor": 4
}