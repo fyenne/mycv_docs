{
 "cells": [
  {
   "cell_type": "markdown",
   "source": [
    "<a class=\"anchor\" id=\"0\"></a>\n",
    "# [AI-ML-DS : Training for beginners](https://www.kaggle.com/vbmokin/ai-ml-ds-training-for-beginners-in-kaggle). Level 4 (very difficult). 2021\n",
    "## Kaggle GM, Prof. [@vbmokin](https://www.kaggle.com/vbmokin)\n",
    "### [Vinnytsia National Technical University](https://vntu.edu.ua/), Ukraine\n",
    "#### [Chair of the System Analysis and Information Technologies](http://mmss.vntu.edu.ua/index.php/ua/)"
   ],
   "metadata": {
    "papermill": {
     "duration": 0.040228,
     "end_time": "2021-03-23T22:23:31.004970",
     "exception": false,
     "start_time": "2021-03-23T22:23:30.964742",
     "status": "completed"
    },
    "tags": []
   }
  },
  {
   "cell_type": "markdown",
   "source": [
    "## Dataset [MNIST models testing: handwritten digits](https://www.kaggle.com/vbmokin/mnist-models-testing-handwritten-digits)\n",
    "\n",
    "\n",
    "Your upvote for my dataset are most welcome."
   ],
   "metadata": {
    "papermill": {
     "duration": 0.036911,
     "end_time": "2021-03-23T22:23:31.078866",
     "exception": false,
     "start_time": "2021-03-23T22:23:31.041955",
     "status": "completed"
    },
    "tags": []
   }
  },
  {
   "cell_type": "markdown",
   "source": [
    "### Acknowledgements:\n",
    "* dataset [MNIST Original](https://www.kaggle.com/avnishnish/mnist-original)\n",
    "* [CNN over MNIST](https://www.kaggle.com/mosius/cnn-over-mnist)\n",
    "* [MNIST model testing : typographic digits](https://www.kaggle.com/vbmokin/mnist-model-testing-typographic-digits)\n",
    "* [Data Science for tabular data: Advanced Techniques](https://www.kaggle.com/vbmokin/data-science-for-tabular-data-advanced-techniques)\n",
    "* [Data Science with DL & NLP: Advanced Techniques](https://www.kaggle.com/vbmokin/data-science-with-dl-nlp-advanced-techniques)\n",
    "* [AI-ML-DS Training. L3AT: NH4 - NN models](https://www.kaggle.com/vbmokin/ai-ml-ds-training-l3at-nh4-nn-models)\n",
    "* [Introduction to CNN Keras - 0.997 (top 6%)](https://www.kaggle.com/yassineghouzam/introduction-to-cnn-keras-0-997-top-6)\n",
    "* [Tensorflow/Keras/GPU for Chinese MNIST Prediction](https://www.kaggle.com/gpreda/tensorflow-keras-gpu-for-chinese-mnist-prediction)"
   ],
   "metadata": {
    "papermill": {
     "duration": 0.036053,
     "end_time": "2021-03-23T22:23:31.151541",
     "exception": false,
     "start_time": "2021-03-23T22:23:31.115488",
     "status": "completed"
    },
    "tags": []
   }
  },
  {
   "cell_type": "markdown",
   "source": [
    "<a class=\"anchor\" id=\"0.1\"></a>\n",
    "## Table of Contents\n",
    "\n",
    "1. [Import libraries](#1)\n",
    "1. [MNIST-digits model training](#2)\n",
    "    - [Download data](#2.1)\n",
    "    - [EDA & FE](#2.2)\n",
    "    - [Model training](#2.3)\n",
    "    - [Prediction](#2.4)    \n",
    "    - [Results visualization: plotting the loss error, confusing matrix, outliers](#2.5)\n",
    "1. [User-digits prediction and analyze](#3)\n",
    "    - [Download data](#3.1)\n",
    "    - [Preprocessing](#3.2)\n",
    "    - [EDA & FE](#3.3)\n",
    "    - [Prediction](#3.4) \n",
    "    - [Results visualization: confusing matrix, outliers](#3.5)"
   ],
   "metadata": {
    "papermill": {
     "duration": 0.036011,
     "end_time": "2021-03-23T22:23:31.224037",
     "exception": false,
     "start_time": "2021-03-23T22:23:31.188026",
     "status": "completed"
    },
    "tags": []
   }
  },
  {
   "cell_type": "markdown",
   "source": [
    "## 1. Import libraries<a class=\"anchor\" id=\"1\"></a>\n",
    "\n",
    "[Back to Table of Contents](#0.1)"
   ],
   "metadata": {
    "papermill": {
     "duration": 0.036197,
     "end_time": "2021-03-23T22:23:31.297241",
     "exception": false,
     "start_time": "2021-03-23T22:23:31.261044",
     "status": "completed"
    },
    "tags": []
   }
  },
  {
   "cell_type": "code",
   "execution_count": 1,
   "source": [
    "import os\r\n",
    "import matplotlib.pyplot as plt\r\n",
    "import numpy as np\r\n",
    "\r\n",
    "import plotly.graph_objs as go\r\n",
    "import plotly.figure_factory as ff\r\n",
    "from plotly import tools\r\n",
    "from plotly.offline import download_plotlyjs, init_notebook_mode, plot, iplot\r\n",
    "init_notebook_mode(connected=True)\r\n",
    "\r\n",
    "from sklearn.model_selection import train_test_split\r\n",
    "from sklearn.metrics import confusion_matrix, accuracy_score\r\n",
    "\r\n",
    "import cv2\r\n",
    "import tensorflow as tf\r\n",
    "from tensorflow.keras import layers, models\r\n",
    "from scipy.io import loadmat\r\n",
    "from keras.utils import to_categorical\r\n",
    "import itertools\r\n",
    "\r\n",
    "import warnings\r\n",
    "warnings.simplefilter('ignore')"
   ],
   "outputs": [
    {
     "output_type": "display_data",
     "data": {
      "text/html": [
       "        <script type=\"text/javascript\">\n",
       "        window.PlotlyConfig = {MathJaxConfig: 'local'};\n",
       "        if (window.MathJax) {MathJax.Hub.Config({SVG: {font: \"STIX-Web\"}});}\n",
       "        if (typeof require !== 'undefined') {\n",
       "        require.undef(\"plotly\");\n",
       "        requirejs.config({\n",
       "            paths: {\n",
       "                'plotly': ['https://cdn.plot.ly/plotly-latest.min']\n",
       "            }\n",
       "        });\n",
       "        require(['plotly'], function(Plotly) {\n",
       "            window._Plotly = Plotly;\n",
       "        });\n",
       "        }\n",
       "        </script>\n",
       "        "
      ]
     },
     "metadata": {}
    }
   ],
   "metadata": {
    "_cell_guid": "11a20dd6-7533-419e-acd4-29d121ef9827",
    "_uuid": "847cbf60-f43e-4d43-8493-6a8bcea950ae",
    "execution": {
     "iopub.execute_input": "2021-03-23T22:23:31.379343Z",
     "iopub.status.busy": "2021-03-23T22:23:31.377937Z",
     "iopub.status.idle": "2021-03-23T22:23:41.299525Z",
     "shell.execute_reply": "2021-03-23T22:23:41.300113Z"
    },
    "papermill": {
     "duration": 9.966408,
     "end_time": "2021-03-23T22:23:41.300486",
     "exception": false,
     "start_time": "2021-03-23T22:23:31.334078",
     "status": "completed"
    },
    "tags": []
   }
  },
  {
   "cell_type": "markdown",
   "source": [
    "## 2. MNIST-digits model training<a class=\"anchor\" id=\"2\"></a>\n",
    "\n",
    "[Back to Table of Contents](#0.1)"
   ],
   "metadata": {
    "papermill": {
     "duration": 0.036373,
     "end_time": "2021-03-23T22:23:41.374211",
     "exception": false,
     "start_time": "2021-03-23T22:23:41.337838",
     "status": "completed"
    },
    "tags": []
   }
  },
  {
   "cell_type": "markdown",
   "source": [
    "### 2.1. Download data<a class=\"anchor\" id=\"2.1\"></a>\n",
    "\n",
    "[Back to Table of Contents](#0.1)"
   ],
   "metadata": {
    "papermill": {
     "duration": 0.036165,
     "end_time": "2021-03-23T22:23:41.446528",
     "exception": false,
     "start_time": "2021-03-23T22:23:41.410363",
     "status": "completed"
    },
    "tags": []
   }
  },
  {
   "cell_type": "code",
   "execution_count": 2,
   "source": [
    "# Thanks to https://www.kaggle.com/mosius/cnn-over-mnist\r\n",
    "def load_mnist_dataset():\r\n",
    "    \"\"\"\r\n",
    "    Load MNIST-original dataset\r\n",
    "\r\n",
    "    Returns:\r\n",
    "    - mnist_data -- an array of arrays in the shape of (784,)\r\n",
    "    - mnist_label -- an array of labels\r\n",
    "    - classes -- array of labels classes(a set of labels)\r\n",
    "    - shape -- shape of data item\r\n",
    "    - channels_count -- channel count of data images\r\n",
    "    \"\"\"\r\n",
    "\r\n",
    "    mnist = loadmat(\"../input/mnist-original/mnist-original.mat\")\r\n",
    "    mnist_data = mnist[\"data\"].T\r\n",
    "    mnist_data = mnist_data.reshape(len(mnist_data), 28, 28, 1)\r\n",
    "    mnist_label = mnist[\"label\"][0]\r\n",
    "    count = len(set(mnist_label))\r\n",
    "    return mnist_data, mnist_label, count, (28, 28, 1)"
   ],
   "outputs": [],
   "metadata": {
    "execution": {
     "iopub.execute_input": "2021-03-23T22:23:41.525052Z",
     "iopub.status.busy": "2021-03-23T22:23:41.524017Z",
     "iopub.status.idle": "2021-03-23T22:23:41.539736Z",
     "shell.execute_reply": "2021-03-23T22:23:41.539108Z"
    },
    "papermill": {
     "duration": 0.056793,
     "end_time": "2021-03-23T22:23:41.539908",
     "exception": false,
     "start_time": "2021-03-23T22:23:41.483115",
     "status": "completed"
    },
    "tags": []
   }
  },
  {
   "cell_type": "code",
   "execution_count": 3,
   "source": [
    "# Download data from MNIST-original dataset\r\n",
    "data, labels, classes_count, data_shape = load_mnist_dataset()\r\n",
    "\r\n",
    "print(\"data shape: \" + str(data.shape))\r\n",
    "print(\"labels shape: \" + str(labels.shape))\r\n",
    "print(\"classes count: \" + str(classes_count))"
   ],
   "outputs": [
    {
     "output_type": "stream",
     "name": "stdout",
     "text": [
      "data shape: (70000, 28, 28, 1)\n",
      "labels shape: (70000,)\n",
      "classes count: 10\n"
     ]
    }
   ],
   "metadata": {
    "execution": {
     "iopub.execute_input": "2021-03-23T22:23:41.619811Z",
     "iopub.status.busy": "2021-03-23T22:23:41.619156Z",
     "iopub.status.idle": "2021-03-23T22:23:42.460750Z",
     "shell.execute_reply": "2021-03-23T22:23:42.459500Z"
    },
    "papermill": {
     "duration": 0.884447,
     "end_time": "2021-03-23T22:23:42.460953",
     "exception": false,
     "start_time": "2021-03-23T22:23:41.576506",
     "status": "completed"
    },
    "tags": []
   }
  },
  {
   "cell_type": "markdown",
   "source": [
    "### 2.2. EDA & FE<a class=\"anchor\" id=\"2.2\"></a>\n",
    "\n",
    "[Back to Table of Contents](#0.1)"
   ],
   "metadata": {
    "papermill": {
     "duration": 0.037151,
     "end_time": "2021-03-23T22:23:42.536005",
     "exception": false,
     "start_time": "2021-03-23T22:23:42.498854",
     "status": "completed"
    },
    "tags": []
   }
  },
  {
   "cell_type": "code",
   "execution_count": 4,
   "source": [
    "def plot_images_sample(X, Y):\r\n",
    "    # Draw plot for images sample\r\n",
    "    \r\n",
    "    plt.figure(figsize=(10,10))\r\n",
    "    rand_indicies = np.random.randint(len(X), size=25)\r\n",
    "    for i in range(25):\r\n",
    "        plt.subplot(5,5,i+1)\r\n",
    "        plt.xticks([])\r\n",
    "        plt.yticks([])\r\n",
    "        plt.grid(False)\r\n",
    "        index = rand_indicies[i]\r\n",
    "        plt.imshow(np.squeeze(X[index]), cmap=plt.cm.binary)\r\n",
    "        plt.xlabel(Y[index])\r\n",
    "    plt.show()"
   ],
   "outputs": [],
   "metadata": {
    "execution": {
     "iopub.execute_input": "2021-03-23T22:23:42.620402Z",
     "iopub.status.busy": "2021-03-23T22:23:42.619395Z",
     "iopub.status.idle": "2021-03-23T22:23:42.622983Z",
     "shell.execute_reply": "2021-03-23T22:23:42.622300Z"
    },
    "papermill": {
     "duration": 0.049687,
     "end_time": "2021-03-23T22:23:42.623149",
     "exception": false,
     "start_time": "2021-03-23T22:23:42.573462",
     "status": "completed"
    },
    "tags": []
   }
  },
  {
   "cell_type": "code",
   "execution_count": 5,
   "source": [
    "# Draw plot for images sample\n",
    "plot_images_sample(data, labels)"
   ],
   "outputs": [
    {
     "output_type": "display_data",
     "data": {
      "image/png": "[encoded data removed]",
      "text/plain": [
       "<Figure size 720x720 with 25 Axes>"
      ]
     },
     "metadata": {}
    }
   ],
   "metadata": {
    "execution": {
     "iopub.execute_input": "2021-03-23T22:23:42.723129Z",
     "iopub.status.busy": "2021-03-23T22:23:42.720660Z",
     "iopub.status.idle": "2021-03-23T22:23:43.795827Z",
     "shell.execute_reply": "2021-03-23T22:23:43.795186Z"
    },
    "papermill": {
     "duration": 1.134878,
     "end_time": "2021-03-23T22:23:43.795980",
     "exception": false,
     "start_time": "2021-03-23T22:23:42.661102",
     "status": "completed"
    },
    "tags": []
   }
  },
  {
   "cell_type": "code",
   "execution_count": 6,
   "source": [
    "def fe_data(df, target):\n",
    "    # FE: scaling data ant transform target to categorical\n",
    "    df = df / 255.\n",
    "    target = to_categorical(target)\n",
    "    return df, target"
   ],
   "outputs": [],
   "metadata": {
    "execution": {
     "iopub.execute_input": "2021-03-23T22:23:43.880452Z",
     "iopub.status.busy": "2021-03-23T22:23:43.879850Z",
     "iopub.status.idle": "2021-03-23T22:23:43.884501Z",
     "shell.execute_reply": "2021-03-23T22:23:43.884032Z"
    },
    "papermill": {
     "duration": 0.049562,
     "end_time": "2021-03-23T22:23:43.884659",
     "exception": false,
     "start_time": "2021-03-23T22:23:43.835097",
     "status": "completed"
    },
    "tags": []
   }
  },
  {
   "cell_type": "markdown",
   "source": [
    "**TASK**: Experiment with test_size_part"
   ],
   "metadata": {
    "papermill": {
     "duration": 0.037704,
     "end_time": "2021-03-23T22:23:43.961261",
     "exception": false,
     "start_time": "2021-03-23T22:23:43.923557",
     "status": "completed"
    },
    "tags": []
   }
  },
  {
   "cell_type": "code",
   "execution_count": 7,
   "source": [
    "# FE and data splitting\n",
    "test_size_part = 0.1\n",
    "x_train_orig, x_test_orig, y_train_orig, y_test_orig = train_test_split(data, labels, test_size=test_size_part, shuffle=True)\n",
    "X_train, Y_train = fe_data(x_train_orig, y_train_orig)\n",
    "X_test, Y_test = fe_data(x_test_orig, y_test_orig)"
   ],
   "outputs": [],
   "metadata": {
    "execution": {
     "iopub.execute_input": "2021-03-23T22:23:44.045720Z",
     "iopub.status.busy": "2021-03-23T22:23:44.044628Z",
     "iopub.status.idle": "2021-03-23T22:23:44.272143Z",
     "shell.execute_reply": "2021-03-23T22:23:44.271560Z"
    },
    "papermill": {
     "duration": 0.273044,
     "end_time": "2021-03-23T22:23:44.272288",
     "exception": false,
     "start_time": "2021-03-23T22:23:43.999244",
     "status": "completed"
    },
    "tags": []
   }
  },
  {
   "cell_type": "markdown",
   "source": [
    "### 2.3. Model training<a class=\"anchor\" id=\"2.3\"></a>\n",
    "\n",
    "[Back to Table of Contents](#0.1)"
   ],
   "metadata": {
    "papermill": {
     "duration": 0.037348,
     "end_time": "2021-03-23T22:23:44.347570",
     "exception": false,
     "start_time": "2021-03-23T22:23:44.310222",
     "status": "completed"
    },
    "tags": []
   }
  },
  {
   "cell_type": "markdown",
   "source": [
    "**TASKS**: Experiment with CNN architecture and parameters:\n",
    "* number of layers\n",
    "* Conv2D parameters in each layers: number of neurons, kernel_size, strides, padding, activation functions\n",
    "* MaxPooling2D parameters\n",
    "* Dropout (add or no)\n",
    "* Softmax (add or no)\n",
    "* etc."
   ],
   "metadata": {
    "papermill": {
     "duration": 0.037378,
     "end_time": "2021-03-23T22:23:44.422828",
     "exception": false,
     "start_time": "2021-03-23T22:23:44.385450",
     "status": "completed"
    },
    "tags": []
   }
  },
  {
   "cell_type": "code",
   "execution_count": 8,
   "source": [
    "# Thanks to https://www.kaggle.com/mosius/cnn-over-mnist\n",
    "# Model building\n",
    "model = models.Sequential([\n",
    "        layers.Conv2D(8, kernel_size=(4, 4), strides=(1, 1), padding='same', activation='relu', input_shape=data_shape),\n",
    "        layers.MaxPooling2D((8, 8), padding='same'),\n",
    "        layers.Conv2D(16, kernel_size=(2, 2), strides=(1, 1), padding='same', activation='relu'),\n",
    "        layers.MaxPooling2D((4, 4), padding='same'),\n",
    "        layers.Flatten(),\n",
    "        layers.Dense(classes_count)\n",
    "    ])\n",
    "\n",
    "model.summary()"
   ],
   "outputs": [
    {
     "output_type": "stream",
     "name": "stdout",
     "text": [
      "Model: \"sequential\"\n",
      "_________________________________________________________________\n",
      "Layer (type)                 Output Shape              Param #   \n",
      "=================================================================\n",
      "conv2d (Conv2D)              (None, 28, 28, 8)         136       \n",
      "_________________________________________________________________\n",
      "max_pooling2d (MaxPooling2D) (None, 4, 4, 8)           0         \n",
      "_________________________________________________________________\n",
      "conv2d_1 (Conv2D)            (None, 4, 4, 16)          528       \n",
      "_________________________________________________________________\n",
      "max_pooling2d_1 (MaxPooling2 (None, 1, 1, 16)          0         \n",
      "_________________________________________________________________\n",
      "flatten (Flatten)            (None, 16)                0         \n",
      "_________________________________________________________________\n",
      "dense (Dense)                (None, 10)                170       \n",
      "=================================================================\n",
      "Total params: 834\n",
      "Trainable params: 834\n",
      "Non-trainable params: 0\n",
      "_________________________________________________________________\n"
     ]
    }
   ],
   "metadata": {
    "execution": {
     "iopub.execute_input": "2021-03-23T22:23:44.505830Z",
     "iopub.status.busy": "2021-03-23T22:23:44.505171Z",
     "iopub.status.idle": "2021-03-23T22:23:44.622674Z",
     "shell.execute_reply": "2021-03-23T22:23:44.622107Z"
    },
    "papermill": {
     "duration": 0.162239,
     "end_time": "2021-03-23T22:23:44.622826",
     "exception": false,
     "start_time": "2021-03-23T22:23:44.460587",
     "status": "completed"
    },
    "tags": []
   }
  },
  {
   "cell_type": "markdown",
   "source": [
    "**TASK**: Experiment with:\n",
    "* epochs_num\n",
    "* validation_split_part (optional)"
   ],
   "metadata": {
    "papermill": {
     "duration": 0.039104,
     "end_time": "2021-03-23T22:23:44.700584",
     "exception": false,
     "start_time": "2021-03-23T22:23:44.661480",
     "status": "completed"
    },
    "tags": []
   }
  },
  {
   "cell_type": "code",
   "execution_count": 9,
   "source": [
    "# Model training\n",
    "epochs_num = 10\n",
    "validation_split_part = 0.2\n",
    "model.compile(optimizer='adam',\n",
    "              loss=tf.keras.losses.CategoricalCrossentropy(from_logits=True),\n",
    "              metrics=['accuracy'])\n",
    "\n",
    "history = model.fit(X_train, Y_train, epochs=epochs_num, validation_split=validation_split_part)"
   ],
   "outputs": [
    {
     "output_type": "stream",
     "name": "stdout",
     "text": [
      "Epoch 1/10\n",
      "1575/1575 [==============================] - 16s 10ms/step - loss: 1.6159 - accuracy: 0.4604 - val_loss: 0.5062 - val_accuracy: 0.8486\n",
      "Epoch 2/10\n",
      "1575/1575 [==============================] - 14s 9ms/step - loss: 0.4443 - accuracy: 0.8681 - val_loss: 0.3436 - val_accuracy: 0.8967\n",
      "Epoch 3/10\n",
      "1575/1575 [==============================] - 14s 9ms/step - loss: 0.3132 - accuracy: 0.9069 - val_loss: 0.2802 - val_accuracy: 0.9133\n",
      "Epoch 4/10\n",
      "1575/1575 [==============================] - 14s 9ms/step - loss: 0.2493 - accuracy: 0.9243 - val_loss: 0.2339 - val_accuracy: 0.9278\n",
      "Epoch 5/10\n",
      "1575/1575 [==============================] - 14s 9ms/step - loss: 0.2231 - accuracy: 0.9316 - val_loss: 0.2146 - val_accuracy: 0.9325\n",
      "Epoch 6/10\n",
      "1575/1575 [==============================] - 14s 9ms/step - loss: 0.2055 - accuracy: 0.9371 - val_loss: 0.2264 - val_accuracy: 0.9268\n",
      "Epoch 7/10\n",
      "1575/1575 [==============================] - 14s 9ms/step - loss: 0.1940 - accuracy: 0.9405 - val_loss: 0.2113 - val_accuracy: 0.9324\n",
      "Epoch 8/10\n",
      "1575/1575 [==============================] - 14s 9ms/step - loss: 0.1856 - accuracy: 0.9420 - val_loss: 0.1980 - val_accuracy: 0.9370\n",
      "Epoch 9/10\n",
      "1575/1575 [==============================] - 14s 9ms/step - loss: 0.1755 - accuracy: 0.9453 - val_loss: 0.1821 - val_accuracy: 0.9403\n",
      "Epoch 10/10\n",
      "1575/1575 [==============================] - 14s 9ms/step - loss: 0.1679 - accuracy: 0.9465 - val_loss: 0.1821 - val_accuracy: 0.9425\n"
     ]
    }
   ],
   "metadata": {
    "execution": {
     "iopub.execute_input": "2021-03-23T22:23:44.794783Z",
     "iopub.status.busy": "2021-03-23T22:23:44.792836Z",
     "iopub.status.idle": "2021-03-23T22:26:06.903511Z",
     "shell.execute_reply": "2021-03-23T22:26:06.902809Z"
    },
    "papermill": {
     "duration": 142.16432,
     "end_time": "2021-03-23T22:26:06.903713",
     "exception": false,
     "start_time": "2021-03-23T22:23:44.739393",
     "status": "completed"
    },
    "tags": []
   }
  },
  {
   "cell_type": "code",
   "execution_count": 10,
   "source": [
    "# Draw plot for CNN training\n",
    "plt.plot(history.history['accuracy'], label='accuracy')\n",
    "plt.plot(history.history['val_accuracy'], label='val_accuracy')\n",
    "plt.xlabel('Epoch')\n",
    "plt.ylabel('Accuracy')\n",
    "plt.ylim([0.5, 1])\n",
    "plt.legend(loc='lower right')\n",
    "plt.show()"
   ],
   "outputs": [
    {
     "output_type": "display_data",
     "data": {
      "image/png": "[encoded data removed]",
      "text/plain": [
       "<Figure size 432x288 with 1 Axes>"
      ]
     },
     "metadata": {
      "needs_background": "light"
     }
    }
   ],
   "metadata": {
    "execution": {
     "iopub.execute_input": "2021-03-23T22:26:08.388375Z",
     "iopub.status.busy": "2021-03-23T22:26:08.387752Z",
     "iopub.status.idle": "2021-03-23T22:26:08.547975Z",
     "shell.execute_reply": "2021-03-23T22:26:08.548542Z"
    },
    "papermill": {
     "duration": 0.917682,
     "end_time": "2021-03-23T22:26:08.548754",
     "exception": false,
     "start_time": "2021-03-23T22:26:07.631072",
     "status": "completed"
    },
    "tags": []
   }
  },
  {
   "cell_type": "code",
   "execution_count": 11,
   "source": [
    "# Print test prediction accuracy\n",
    "test_loss, test_acc = model.evaluate(X_test, Y_test, verbose=2)\n",
    "print(\"test accuracy: \" + str(test_acc))"
   ],
   "outputs": [
    {
     "output_type": "stream",
     "name": "stdout",
     "text": [
      "219/219 - 1s - loss: 0.1743 - accuracy: 0.9456\n",
      "test accuracy: 0.9455714225769043\n"
     ]
    }
   ],
   "metadata": {
    "execution": {
     "iopub.execute_input": "2021-03-23T22:26:10.076338Z",
     "iopub.status.busy": "2021-03-23T22:26:10.075669Z",
     "iopub.status.idle": "2021-03-23T22:26:10.897508Z",
     "shell.execute_reply": "2021-03-23T22:26:10.896729Z"
    },
    "papermill": {
     "duration": 1.614908,
     "end_time": "2021-03-23T22:26:10.897728",
     "exception": false,
     "start_time": "2021-03-23T22:26:09.282820",
     "status": "completed"
    },
    "tags": []
   }
  },
  {
   "cell_type": "markdown",
   "source": [
    "### 2.4. Prediction<a class=\"anchor\" id=\"2.4\"></a>\n",
    "\n",
    "[Back to Table of Contents](#0.1)"
   ],
   "metadata": {
    "papermill": {
     "duration": 0.736285,
     "end_time": "2021-03-23T22:26:12.362079",
     "exception": false,
     "start_time": "2021-03-23T22:26:11.625794",
     "status": "completed"
    },
    "tags": []
   }
  },
  {
   "cell_type": "code",
   "execution_count": 12,
   "source": [
    "def get_predictions(X_test):\n",
    "    # Digits prediction\n",
    "\n",
    "    predictions = model.predict(X_test)    \n",
    "    predictions = np.argmax(predictions, axis=1)\n",
    "    \n",
    "    return predictions"
   ],
   "outputs": [],
   "metadata": {
    "execution": {
     "iopub.execute_input": "2021-03-23T22:26:13.835582Z",
     "iopub.status.busy": "2021-03-23T22:26:13.834538Z",
     "iopub.status.idle": "2021-03-23T22:26:13.837814Z",
     "shell.execute_reply": "2021-03-23T22:26:13.838321Z"
    },
    "papermill": {
     "duration": 0.7403,
     "end_time": "2021-03-23T22:26:13.838524",
     "exception": false,
     "start_time": "2021-03-23T22:26:13.098224",
     "status": "completed"
    },
    "tags": []
   }
  },
  {
   "cell_type": "code",
   "execution_count": 13,
   "source": [
    "# Prediction and display it\n",
    "predictions = get_predictions(X_test)\n",
    "plot_images_sample(X_test, predictions)"
   ],
   "outputs": [
    {
     "output_type": "display_data",
     "data": {
      "image/png": "[encoded data removed]",
      "text/plain": [
       "<Figure size 720x720 with 25 Axes>"
      ]
     },
     "metadata": {}
    }
   ],
   "metadata": {
    "execution": {
     "iopub.execute_input": "2021-03-23T22:26:15.311276Z",
     "iopub.status.busy": "2021-03-23T22:26:15.310144Z",
     "iopub.status.idle": "2021-03-23T22:26:17.257755Z",
     "shell.execute_reply": "2021-03-23T22:26:17.258352Z"
    },
    "papermill": {
     "duration": 2.688022,
     "end_time": "2021-03-23T22:26:17.258549",
     "exception": false,
     "start_time": "2021-03-23T22:26:14.570527",
     "status": "completed"
    },
    "tags": []
   }
  },
  {
   "cell_type": "markdown",
   "source": [
    "### 2.5. Results visualization: plotting the loss error, confusing matrix, outliers<a class=\"anchor\" id=\"2.5\"></a>\n",
    "\n",
    "[Back to Table of Contents](#0.1)"
   ],
   "metadata": {
    "papermill": {
     "duration": 0.724452,
     "end_time": "2021-03-23T22:26:18.714275",
     "exception": false,
     "start_time": "2021-03-23T22:26:17.989823",
     "status": "completed"
    },
    "tags": []
   }
  },
  {
   "cell_type": "markdown",
   "source": [
    "### Plotting the loss error (Plotly)"
   ],
   "metadata": {
    "papermill": {
     "duration": 0.731473,
     "end_time": "2021-03-23T22:26:20.259277",
     "exception": false,
     "start_time": "2021-03-23T22:26:19.527804",
     "status": "completed"
    },
    "tags": []
   }
  },
  {
   "cell_type": "code",
   "execution_count": 14,
   "source": [
    "# Thanks to https://www.kaggle.com/vbmokin/tensorflow-keras-gpu-for-chinese-mnist-prediction\n",
    "def create_trace(x,y,ylabel,color):\n",
    "        trace = go.Scatter(\n",
    "            x = x,y = y,\n",
    "            name=ylabel,\n",
    "            marker=dict(color=color),\n",
    "            mode = \"markers+lines\",\n",
    "            text=x\n",
    "        )\n",
    "        return trace\n",
    "    \n",
    "def plot_accuracy_and_loss(train_model):\n",
    "    hist = train_model.history\n",
    "    acc = hist['accuracy']\n",
    "    val_acc = hist['val_accuracy']\n",
    "    loss = hist['loss']\n",
    "    val_loss = hist['val_loss']\n",
    "    epochs = list(range(1,len(acc)+1))\n",
    "    #define the traces\n",
    "    trace_ta = create_trace(epochs,acc,\"Training accuracy\", \"Green\")\n",
    "    trace_va = create_trace(epochs,val_acc,\"Validation accuracy\", \"Red\")\n",
    "    trace_tl = create_trace(epochs,loss,\"Training loss\", \"Blue\")\n",
    "    trace_vl = create_trace(epochs,val_loss,\"Validation loss\", \"Magenta\")\n",
    "    fig = tools.make_subplots(rows=1,cols=2, subplot_titles=('Training and validation accuracy',\n",
    "                                                             'Training and validation loss'))\n",
    "    #add traces to the figure\n",
    "    fig.append_trace(trace_ta,1,1)\n",
    "    fig.append_trace(trace_va,1,1)\n",
    "    fig.append_trace(trace_tl,1,2)\n",
    "    fig.append_trace(trace_vl,1,2)\n",
    "    #set the layout for the figure\n",
    "    fig['layout']['xaxis'].update(title = 'Epoch')\n",
    "    fig['layout']['xaxis2'].update(title = 'Epoch')\n",
    "    fig['layout']['yaxis'].update(title = 'Accuracy', range=[0,1])\n",
    "    fig['layout']['yaxis2'].update(title = 'Loss', range=[0,1])\n",
    "    #plot\n",
    "    iplot(fig, filename='accuracy-loss')"
   ],
   "outputs": [],
   "metadata": {
    "execution": {
     "iopub.execute_input": "2021-03-23T22:26:21.738013Z",
     "iopub.status.busy": "2021-03-23T22:26:21.737343Z",
     "iopub.status.idle": "2021-03-23T22:26:21.741933Z",
     "shell.execute_reply": "2021-03-23T22:26:21.742407Z"
    },
    "papermill": {
     "duration": 0.748503,
     "end_time": "2021-03-23T22:26:21.742597",
     "exception": false,
     "start_time": "2021-03-23T22:26:20.994094",
     "status": "completed"
    },
    "tags": []
   }
  },
  {
   "cell_type": "code",
   "execution_count": 15,
   "source": [
    "# Plotting the loss error (Plotly)\n",
    "plot_accuracy_and_loss(history)"
   ],
   "outputs": [
    {
     "output_type": "display_data",
     "data": {
      "application/vnd.plotly.v1+json": {
       "config": {
        "linkText": "Export to plot.ly",
        "plotlyServerURL": "https://plot.ly",
        "showLink": false
       },
       "data": [
        {
         "marker": {
          "color": "Green"
         },
         "mode": "markers+lines",
         "name": "Training accuracy",
         "text": [
          "1",
          "2",
          "3",
          "4",
          "5",
          "6",
          "7",
          "8",
          "9",
          "10"
         ],
         "type": "scatter",
         "x": [
          1,
          2,
          3,
          4,
          5,
          6,
          7,
          8,
          9,
          10
         ],
         "xaxis": "x",
         "y": [
          0.6683333516120911,
          0.8809722065925598,
          0.9124007821083069,
          0.9256746172904968,
          0.9330753684043884,
          0.938015878200531,
          0.9408730268478394,
          0.9434523582458496,
          0.9459127187728882,
          0.9476587176322937
         ],
         "yaxis": "y"
        },
        {
         "marker": {
          "color": "Red"
         },
         "mode": "markers+lines",
         "name": "Validation accuracy",
         "text": [
          "1",
          "2",
          "3",
          "4",
          "5",
          "6",
          "7",
          "8",
          "9",
          "10"
         ],
         "type": "scatter",
         "x": [
          1,
          2,
          3,
          4,
          5,
          6,
          7,
          8,
          9,
          10
         ],
         "xaxis": "x",
         "y": [
          0.8485714197158813,
          0.8966666460037231,
          0.9132539629936218,
          0.9277777671813965,
          0.9324603080749512,
          0.9268254041671753,
          0.9323809742927551,
          0.936984121799469,
          0.9403174519538879,
          0.9425396919250488
         ],
         "yaxis": "y"
        },
        {
         "marker": {
          "color": "Blue"
         },
         "mode": "markers+lines",
         "name": "Training loss",
         "text": [
          "1",
          "2",
          "3",
          "4",
          "5",
          "6",
          "7",
          "8",
          "9",
          "10"
         ],
         "type": "scatter",
         "x": [
          1,
          2,
          3,
          4,
          5,
          6,
          7,
          8,
          9,
          10
         ],
         "xaxis": "x2",
         "y": [
          1.0713108777999878,
          0.3997167944908142,
          0.2914288341999054,
          0.24493451416492462,
          0.22065013647079468,
          0.20213167369365692,
          0.190932497382164,
          0.1826176792383194,
          0.17327521741390228,
          0.16694410145282745
         ],
         "yaxis": "y2"
        },
        {
         "marker": {
          "color": "Magenta"
         },
         "mode": "markers+lines",
         "name": "Validation loss",
         "text": [
          "1",
          "2",
          "3",
          "4",
          "5",
          "6",
          "7",
          "8",
          "9",
          "10"
         ],
         "type": "scatter",
         "x": [
          1,
          2,
          3,
          4,
          5,
          6,
          7,
          8,
          9,
          10
         ],
         "xaxis": "x2",
         "y": [
          0.5062210559844971,
          0.34355854988098145,
          0.28018054366111755,
          0.23386459052562714,
          0.21459084749221802,
          0.22637996077537537,
          0.21132294833660126,
          0.19796766340732574,
          0.18211843073368073,
          0.1820785403251648
         ],
         "yaxis": "y2"
        }
       ],
       "layout": {
        "annotations": [
         {
          "font": {
           "size": 16
          },
          "showarrow": false,
          "text": "Training and validation accuracy",
          "x": 0.225,
          "xanchor": "center",
          "xref": "paper",
          "y": 1,
          "yanchor": "bottom",
          "yref": "paper"
         },
         {
          "font": {
           "size": 16
          },
          "showarrow": false,
          "text": "Training and validation loss",
          "x": 0.775,
          "xanchor": "center",
          "xref": "paper",
          "y": 1,
          "yanchor": "bottom",
          "yref": "paper"
         }
        ],
        "template": {
         "data": {
          "bar": [
           {
            "error_x": {
             "color": "#2a3f5f"
            },
            "error_y": {
             "color": "#2a3f5f"
            },
            "marker": {
             "line": {
              "color": "#E5ECF6",
              "width": 0.5
             }
            },
            "type": "bar"
           }
          ],
          "barpolar": [
           {
            "marker": {
             "line": {
              "color": "#E5ECF6",
              "width": 0.5
             }
            },
            "type": "barpolar"
           }
          ],
          "carpet": [
           {
            "aaxis": {
             "endlinecolor": "#2a3f5f",
             "gridcolor": "white",
             "linecolor": "white",
             "minorgridcolor": "white",
             "startlinecolor": "#2a3f5f"
            },
            "baxis": {
             "endlinecolor": "#2a3f5f",
             "gridcolor": "white",
             "linecolor": "white",
             "minorgridcolor": "white",
             "startlinecolor": "#2a3f5f"
            },
            "type": "carpet"
           }
          ],
          "choropleth": [
           {
            "colorbar": {
             "outlinewidth": 0,
             "ticks": ""
            },
            "type": "choropleth"
           }
          ],
          "contour": [
           {
            "colorbar": {
             "outlinewidth": 0,
             "ticks": ""
            },
            "colorscale": [
             [
              0,
              "#0d0887"
             ],
             [
              0.1111111111111111,
              "#46039f"
             ],
             [
              0.2222222222222222,
              "#7201a8"
             ],
             [
              0.3333333333333333,
              "#9c179e"
             ],
             [
              0.4444444444444444,
              "#bd3786"
             ],
             [
              0.5555555555555556,
              "#d8576b"
             ],
             [
              0.6666666666666666,
              "#ed7953"
             ],
             [
              0.7777777777777778,
              "#fb9f3a"
             ],
             [
              0.8888888888888888,
              "#fdca26"
             ],
             [
              1,
              "#f0f921"
             ]
            ],
            "type": "contour"
           }
          ],
          "contourcarpet": [
           {
            "colorbar": {
             "outlinewidth": 0,
             "ticks": ""
            },
            "type": "contourcarpet"
           }
          ],
          "heatmap": [
           {
            "colorbar": {
             "outlinewidth": 0,
             "ticks": ""
            },
            "colorscale": [
             [
              0,
              "#0d0887"
             ],
             [
              0.1111111111111111,
              "#46039f"
             ],
             [
              0.2222222222222222,
              "#7201a8"
             ],
             [
              0.3333333333333333,
              "#9c179e"
             ],
             [
              0.4444444444444444,
              "#bd3786"
             ],
             [
              0.5555555555555556,
              "#d8576b"
             ],
             [
              0.6666666666666666,
              "#ed7953"
             ],
             [
              0.7777777777777778,
              "#fb9f3a"
             ],
             [
              0.8888888888888888,
              "#fdca26"
             ],
             [
              1,
              "#f0f921"
             ]
            ],
            "type": "heatmap"
           }
          ],
          "heatmapgl": [
           {
            "colorbar": {
             "outlinewidth": 0,
             "ticks": ""
            },
            "colorscale": [
             [
              0,
              "#0d0887"
             ],
             [
              0.1111111111111111,
              "#46039f"
             ],
             [
              0.2222222222222222,
              "#7201a8"
             ],
             [
              0.3333333333333333,
              "#9c179e"
             ],
             [
              0.4444444444444444,
              "#bd3786"
             ],
             [
              0.5555555555555556,
              "#d8576b"
             ],
             [
              0.6666666666666666,
              "#ed7953"
             ],
             [
              0.7777777777777778,
              "#fb9f3a"
             ],
             [
              0.8888888888888888,
              "#fdca26"
             ],
             [
              1,
              "#f0f921"
             ]
            ],
            "type": "heatmapgl"
           }
          ],
          "histogram": [
           {
            "marker": {
             "colorbar": {
              "outlinewidth": 0,
              "ticks": ""
             }
            },
            "type": "histogram"
           }
          ],
          "histogram2d": [
           {
            "colorbar": {
             "outlinewidth": 0,
             "ticks": ""
            },
            "colorscale": [
             [
              0,
              "#0d0887"
             ],
             [
              0.1111111111111111,
              "#46039f"
             ],
             [
              0.2222222222222222,
              "#7201a8"
             ],
             [
              0.3333333333333333,
              "#9c179e"
             ],
             [
              0.4444444444444444,
              "#bd3786"
             ],
             [
              0.5555555555555556,
              "#d8576b"
             ],
             [
              0.6666666666666666,
              "#ed7953"
             ],
             [
              0.7777777777777778,
              "#fb9f3a"
             ],
             [
              0.8888888888888888,
              "#fdca26"
             ],
             [
              1,
              "#f0f921"
             ]
            ],
            "type": "histogram2d"
           }
          ],
          "histogram2dcontour": [
           {
            "colorbar": {
             "outlinewidth": 0,
             "ticks": ""
            },
            "colorscale": [
             [
              0,
              "#0d0887"
             ],
             [
              0.1111111111111111,
              "#46039f"
             ],
             [
              0.2222222222222222,
              "#7201a8"
             ],
             [
              0.3333333333333333,
              "#9c179e"
             ],
             [
              0.4444444444444444,
              "#bd3786"
             ],
             [
              0.5555555555555556,
              "#d8576b"
             ],
             [
              0.6666666666666666,
              "#ed7953"
             ],
             [
              0.7777777777777778,
              "#fb9f3a"
             ],
             [
              0.8888888888888888,
              "#fdca26"
             ],
             [
              1,
              "#f0f921"
             ]
            ],
            "type": "histogram2dcontour"
           }
          ],
          "mesh3d": [
           {
            "colorbar": {
             "outlinewidth": 0,
             "ticks": ""
            },
            "type": "mesh3d"
           }
          ],
          "parcoords": [
           {
            "line": {
             "colorbar": {
              "outlinewidth": 0,
              "ticks": ""
             }
            },
            "type": "parcoords"
           }
          ],
          "pie": [
           {
            "automargin": true,
            "type": "pie"
           }
          ],
          "scatter": [
           {
            "marker": {
             "colorbar": {
              "outlinewidth": 0,
              "ticks": ""
             }
            },
            "type": "scatter"
           }
          ],
          "scatter3d": [
           {
            "line": {
             "colorbar": {
              "outlinewidth": 0,
              "ticks": ""
             }
            },
            "marker": {
             "colorbar": {
              "outlinewidth": 0,
              "ticks": ""
             }
            },
            "type": "scatter3d"
           }
          ],
          "scattercarpet": [
           {
            "marker": {
             "colorbar": {
              "outlinewidth": 0,
              "ticks": ""
             }
            },
            "type": "scattercarpet"
           }
          ],
          "scattergeo": [
           {
            "marker": {
             "colorbar": {
              "outlinewidth": 0,
              "ticks": ""
             }
            },
            "type": "scattergeo"
           }
          ],
          "scattergl": [
           {
            "marker": {
             "colorbar": {
              "outlinewidth": 0,
              "ticks": ""
             }
            },
            "type": "scattergl"
           }
          ],
          "scattermapbox": [
           {
            "marker": {
             "colorbar": {
              "outlinewidth": 0,
              "ticks": ""
             }
            },
            "type": "scattermapbox"
           }
          ],
          "scatterpolar": [
           {
            "marker": {
             "colorbar": {
              "outlinewidth": 0,
              "ticks": ""
             }
            },
            "type": "scatterpolar"
           }
          ],
          "scatterpolargl": [
           {
            "marker": {
             "colorbar": {
              "outlinewidth": 0,
              "ticks": ""
             }
            },
            "type": "scatterpolargl"
           }
          ],
          "scatterternary": [
           {
            "marker": {
             "colorbar": {
              "outlinewidth": 0,
              "ticks": ""
             }
            },
            "type": "scatterternary"
           }
          ],
          "surface": [
           {
            "colorbar": {
             "outlinewidth": 0,
             "ticks": ""
            },
            "colorscale": [
             [
              0,
              "#0d0887"
             ],
             [
              0.1111111111111111,
              "#46039f"
             ],
             [
              0.2222222222222222,
              "#7201a8"
             ],
             [
              0.3333333333333333,
              "#9c179e"
             ],
             [
              0.4444444444444444,
              "#bd3786"
             ],
             [
              0.5555555555555556,
              "#d8576b"
             ],
             [
              0.6666666666666666,
              "#ed7953"
             ],
             [
              0.7777777777777778,
              "#fb9f3a"
             ],
             [
              0.8888888888888888,
              "#fdca26"
             ],
             [
              1,
              "#f0f921"
             ]
            ],
            "type": "surface"
           }
          ],
          "table": [
           {
            "cells": {
             "fill": {
              "color": "#EBF0F8"
             },
             "line": {
              "color": "white"
             }
            },
            "header": {
             "fill": {
              "color": "#C8D4E3"
             },
             "line": {
              "color": "white"
             }
            },
            "type": "table"
           }
          ]
         },
         "layout": {
          "annotationdefaults": {
           "arrowcolor": "#2a3f5f",
           "arrowhead": 0,
           "arrowwidth": 1
          },
          "autotypenumbers": "strict",
          "coloraxis": {
           "colorbar": {
            "outlinewidth": 0,
            "ticks": ""
           }
          },
          "colorscale": {
           "diverging": [
            [
             0,
             "#8e0152"
            ],
            [
             0.1,
             "#c51b7d"
            ],
            [
             0.2,
             "#de77ae"
            ],
            [
             0.3,
             "#f1b6da"
            ],
            [
             0.4,
             "#fde0ef"
            ],
            [
             0.5,
             "#f7f7f7"
            ],
            [
             0.6,
             "#e6f5d0"
            ],
            [
             0.7,
             "#b8e186"
            ],
            [
             0.8,
             "#7fbc41"
            ],
            [
             0.9,
             "#4d9221"
            ],
            [
             1,
             "#276419"
            ]
           ],
           "sequential": [
            [
             0,
             "#0d0887"
            ],
            [
             0.1111111111111111,
             "#46039f"
            ],
            [
             0.2222222222222222,
             "#7201a8"
            ],
            [
             0.3333333333333333,
             "#9c179e"
            ],
            [
             0.4444444444444444,
             "#bd3786"
            ],
            [
             0.5555555555555556,
             "#d8576b"
            ],
            [
             0.6666666666666666,
             "#ed7953"
            ],
            [
             0.7777777777777778,
             "#fb9f3a"
            ],
            [
             0.8888888888888888,
             "#fdca26"
            ],
            [
             1,
             "#f0f921"
            ]
           ],
           "sequentialminus": [
            [
             0,
             "#0d0887"
            ],
            [
             0.1111111111111111,
             "#46039f"
            ],
            [
             0.2222222222222222,
             "#7201a8"
            ],
            [
             0.3333333333333333,
             "#9c179e"
            ],
            [
             0.4444444444444444,
             "#bd3786"
            ],
            [
             0.5555555555555556,
             "#d8576b"
            ],
            [
             0.6666666666666666,
             "#ed7953"
            ],
            [
             0.7777777777777778,
             "#fb9f3a"
            ],
            [
             0.8888888888888888,
             "#fdca26"
            ],
            [
             1,
             "#f0f921"
            ]
           ]
          },
          "colorway": [
           "#636efa",
           "#EF553B",
           "#00cc96",
           "#ab63fa",
           "#FFA15A",
           "#19d3f3",
           "#FF6692",
           "#B6E880",
           "#FF97FF",
           "#FECB52"
          ],
          "font": {
           "color": "#2a3f5f"
          },
          "geo": {
           "bgcolor": "white",
           "lakecolor": "white",
           "landcolor": "#E5ECF6",
           "showlakes": true,
           "showland": true,
           "subunitcolor": "white"
          },
          "hoverlabel": {
           "align": "left"
          },
          "hovermode": "closest",
          "mapbox": {
           "style": "light"
          },
          "paper_bgcolor": "white",
          "plot_bgcolor": "#E5ECF6",
          "polar": {
           "angularaxis": {
            "gridcolor": "white",
            "linecolor": "white",
            "ticks": ""
           },
           "bgcolor": "#E5ECF6",
           "radialaxis": {
            "gridcolor": "white",
            "linecolor": "white",
            "ticks": ""
           }
          },
          "scene": {
           "xaxis": {
            "backgroundcolor": "#E5ECF6",
            "gridcolor": "white",
            "gridwidth": 2,
            "linecolor": "white",
            "showbackground": true,
            "ticks": "",
            "zerolinecolor": "white"
           },
           "yaxis": {
            "backgroundcolor": "#E5ECF6",
            "gridcolor": "white",
            "gridwidth": 2,
            "linecolor": "white",
            "showbackground": true,
            "ticks": "",
            "zerolinecolor": "white"
           },
           "zaxis": {
            "backgroundcolor": "#E5ECF6",
            "gridcolor": "white",
            "gridwidth": 2,
            "linecolor": "white",
            "showbackground": true,
            "ticks": "",
            "zerolinecolor": "white"
           }
          },
          "shapedefaults": {
           "line": {
            "color": "#2a3f5f"
           }
          },
          "ternary": {
           "aaxis": {
            "gridcolor": "white",
            "linecolor": "white",
            "ticks": ""
           },
           "baxis": {
            "gridcolor": "white",
            "linecolor": "white",
            "ticks": ""
           },
           "bgcolor": "#E5ECF6",
           "caxis": {
            "gridcolor": "white",
            "linecolor": "white",
            "ticks": ""
           }
          },
          "title": {
           "x": 0.05
          },
          "xaxis": {
           "automargin": true,
           "gridcolor": "white",
           "linecolor": "white",
           "ticks": "",
           "title": {
            "standoff": 15
           },
           "zerolinecolor": "white",
           "zerolinewidth": 2
          },
          "yaxis": {
           "automargin": true,
           "gridcolor": "white",
           "linecolor": "white",
           "ticks": "",
           "title": {
            "standoff": 15
           },
           "zerolinecolor": "white",
           "zerolinewidth": 2
          }
         }
        },
        "xaxis": {
         "anchor": "y",
         "domain": [
          0,
          0.45
         ],
         "title": {
          "text": "Epoch"
         }
        },
        "xaxis2": {
         "anchor": "y2",
         "domain": [
          0.55,
          1
         ],
         "title": {
          "text": "Epoch"
         }
        },
        "yaxis": {
         "anchor": "x",
         "domain": [
          0,
          1
         ],
         "range": [
          0,
          1
         ],
         "title": {
          "text": "Accuracy"
         }
        },
        "yaxis2": {
         "anchor": "x2",
         "domain": [
          0,
          1
         ],
         "range": [
          0,
          1
         ],
         "title": {
          "text": "Loss"
         }
        }
       }
      },
      "text/html": [
       "<div>                            <div id=\"b83578dd-936b-4217-a7d1-2d261dde4ed2\" class=\"plotly-graph-div\" style=\"height:525px; width:100%;\"></div>            <script type=\"text/javascript\">                require([\"plotly\"], function(Plotly) {                    window.PLOTLYENV=window.PLOTLYENV || {};                                    if (document.getElementById(\"b83578dd-936b-4217-a7d1-2d261dde4ed2\")) {                    Plotly.newPlot(                        \"b83578dd-936b-4217-a7d1-2d261dde4ed2\",                        [{\"marker\": {\"color\": \"Green\"}, \"mode\": \"markers+lines\", \"name\": \"Training accuracy\", \"text\": [\"1\", \"2\", \"3\", \"4\", \"5\", \"6\", \"7\", \"8\", \"9\", \"10\"], \"type\": \"scatter\", \"x\": [1, 2, 3, 4, 5, 6, 7, 8, 9, 10], \"xaxis\": \"x\", \"y\": [0.6683333516120911, 0.8809722065925598, 0.9124007821083069, 0.9256746172904968, 0.9330753684043884, 0.938015878200531, 0.9408730268478394, 0.9434523582458496, 0.9459127187728882, 0.9476587176322937], \"yaxis\": \"y\"}, {\"marker\": {\"color\": \"Red\"}, \"mode\": \"markers+lines\", \"name\": \"Validation accuracy\", \"text\": [\"1\", \"2\", \"3\", \"4\", \"5\", \"6\", \"7\", \"8\", \"9\", \"10\"], \"type\": \"scatter\", \"x\": [1, 2, 3, 4, 5, 6, 7, 8, 9, 10], \"xaxis\": \"x\", \"y\": [0.8485714197158813, 0.8966666460037231, 0.9132539629936218, 0.9277777671813965, 0.9324603080749512, 0.9268254041671753, 0.9323809742927551, 0.936984121799469, 0.9403174519538879, 0.9425396919250488], \"yaxis\": \"y\"}, {\"marker\": {\"color\": \"Blue\"}, \"mode\": \"markers+lines\", \"name\": \"Training loss\", \"text\": [\"1\", \"2\", \"3\", \"4\", \"5\", \"6\", \"7\", \"8\", \"9\", \"10\"], \"type\": \"scatter\", \"x\": [1, 2, 3, 4, 5, 6, 7, 8, 9, 10], \"xaxis\": \"x2\", \"y\": [1.0713108777999878, 0.3997167944908142, 0.2914288341999054, 0.24493451416492462, 0.22065013647079468, 0.20213167369365692, 0.190932497382164, 0.1826176792383194, 0.17327521741390228, 0.16694410145282745], \"yaxis\": \"y2\"}, {\"marker\": {\"color\": \"Magenta\"}, \"mode\": \"markers+lines\", \"name\": \"Validation loss\", \"text\": [\"1\", \"2\", \"3\", \"4\", \"5\", \"6\", \"7\", \"8\", \"9\", \"10\"], \"type\": \"scatter\", \"x\": [1, 2, 3, 4, 5, 6, 7, 8, 9, 10], \"xaxis\": \"x2\", \"y\": [0.5062210559844971, 0.34355854988098145, 0.28018054366111755, 0.23386459052562714, 0.21459084749221802, 0.22637996077537537, 0.21132294833660126, 0.19796766340732574, 0.18211843073368073, 0.1820785403251648], \"yaxis\": \"y2\"}],                        {\"annotations\": [{\"font\": {\"size\": 16}, \"showarrow\": false, \"text\": \"Training and validation accuracy\", \"x\": 0.225, \"xanchor\": \"center\", \"xref\": \"paper\", \"y\": 1.0, \"yanchor\": \"bottom\", \"yref\": \"paper\"}, {\"font\": {\"size\": 16}, \"showarrow\": false, \"text\": \"Training and validation loss\", \"x\": 0.775, \"xanchor\": \"center\", \"xref\": \"paper\", \"y\": 1.0, \"yanchor\": \"bottom\", \"yref\": \"paper\"}], \"template\": {\"data\": {\"bar\": [{\"error_x\": {\"color\": \"#2a3f5f\"}, \"error_y\": {\"color\": \"#2a3f5f\"}, \"marker\": {\"line\": {\"color\": \"#E5ECF6\", \"width\": 0.5}}, \"type\": \"bar\"}], \"barpolar\": [{\"marker\": {\"line\": {\"color\": \"#E5ECF6\", \"width\": 0.5}}, \"type\": \"barpolar\"}], \"carpet\": [{\"aaxis\": {\"endlinecolor\": \"#2a3f5f\", \"gridcolor\": \"white\", \"linecolor\": \"white\", \"minorgridcolor\": \"white\", \"startlinecolor\": \"#2a3f5f\"}, \"baxis\": {\"endlinecolor\": \"#2a3f5f\", \"gridcolor\": \"white\", \"linecolor\": \"white\", \"minorgridcolor\": \"white\", \"startlinecolor\": \"#2a3f5f\"}, \"type\": \"carpet\"}], \"choropleth\": [{\"colorbar\": {\"outlinewidth\": 0, \"ticks\": \"\"}, \"type\": \"choropleth\"}], \"contour\": [{\"colorbar\": {\"outlinewidth\": 0, \"ticks\": \"\"}, \"colorscale\": [[0.0, \"#0d0887\"], [0.1111111111111111, \"#46039f\"], [0.2222222222222222, \"#7201a8\"], [0.3333333333333333, \"#9c179e\"], [0.4444444444444444, \"#bd3786\"], [0.5555555555555556, \"#d8576b\"], [0.6666666666666666, \"#ed7953\"], [0.7777777777777778, \"#fb9f3a\"], [0.8888888888888888, \"#fdca26\"], [1.0, \"#f0f921\"]], \"type\": \"contour\"}], \"contourcarpet\": [{\"colorbar\": {\"outlinewidth\": 0, \"ticks\": \"\"}, \"type\": \"contourcarpet\"}], \"heatmap\": [{\"colorbar\": {\"outlinewidth\": 0, \"ticks\": \"\"}, \"colorscale\": [[0.0, \"#0d0887\"], [0.1111111111111111, \"#46039f\"], [0.2222222222222222, \"#7201a8\"], [0.3333333333333333, \"#9c179e\"], [0.4444444444444444, \"#bd3786\"], [0.5555555555555556, \"#d8576b\"], [0.6666666666666666, \"#ed7953\"], [0.7777777777777778, \"#fb9f3a\"], [0.8888888888888888, \"#fdca26\"], [1.0, \"#f0f921\"]], \"type\": \"heatmap\"}], \"heatmapgl\": [{\"colorbar\": {\"outlinewidth\": 0, \"ticks\": \"\"}, \"colorscale\": [[0.0, \"#0d0887\"], [0.1111111111111111, \"#46039f\"], [0.2222222222222222, \"#7201a8\"], [0.3333333333333333, \"#9c179e\"], [0.4444444444444444, \"#bd3786\"], [0.5555555555555556, \"#d8576b\"], [0.6666666666666666, \"#ed7953\"], [0.7777777777777778, \"#fb9f3a\"], [0.8888888888888888, \"#fdca26\"], [1.0, \"#f0f921\"]], \"type\": \"heatmapgl\"}], \"histogram\": [{\"marker\": {\"colorbar\": {\"outlinewidth\": 0, \"ticks\": \"\"}}, \"type\": \"histogram\"}], \"histogram2d\": [{\"colorbar\": {\"outlinewidth\": 0, \"ticks\": \"\"}, \"colorscale\": [[0.0, \"#0d0887\"], [0.1111111111111111, \"#46039f\"], [0.2222222222222222, \"#7201a8\"], [0.3333333333333333, \"#9c179e\"], [0.4444444444444444, \"#bd3786\"], [0.5555555555555556, \"#d8576b\"], [0.6666666666666666, \"#ed7953\"], [0.7777777777777778, \"#fb9f3a\"], [0.8888888888888888, \"#fdca26\"], [1.0, \"#f0f921\"]], \"type\": \"histogram2d\"}], \"histogram2dcontour\": [{\"colorbar\": {\"outlinewidth\": 0, \"ticks\": \"\"}, \"colorscale\": [[0.0, \"#0d0887\"], [0.1111111111111111, \"#46039f\"], [0.2222222222222222, \"#7201a8\"], [0.3333333333333333, \"#9c179e\"], [0.4444444444444444, \"#bd3786\"], [0.5555555555555556, \"#d8576b\"], [0.6666666666666666, \"#ed7953\"], [0.7777777777777778, \"#fb9f3a\"], [0.8888888888888888, \"#fdca26\"], [1.0, \"#f0f921\"]], \"type\": \"histogram2dcontour\"}], \"mesh3d\": [{\"colorbar\": {\"outlinewidth\": 0, \"ticks\": \"\"}, \"type\": \"mesh3d\"}], \"parcoords\": [{\"line\": {\"colorbar\": {\"outlinewidth\": 0, \"ticks\": \"\"}}, \"type\": \"parcoords\"}], \"pie\": [{\"automargin\": true, \"type\": \"pie\"}], \"scatter\": [{\"marker\": {\"colorbar\": {\"outlinewidth\": 0, \"ticks\": \"\"}}, \"type\": \"scatter\"}], \"scatter3d\": [{\"line\": {\"colorbar\": {\"outlinewidth\": 0, \"ticks\": \"\"}}, \"marker\": {\"colorbar\": {\"outlinewidth\": 0, \"ticks\": \"\"}}, \"type\": \"scatter3d\"}], \"scattercarpet\": [{\"marker\": {\"colorbar\": {\"outlinewidth\": 0, \"ticks\": \"\"}}, \"type\": \"scattercarpet\"}], \"scattergeo\": [{\"marker\": {\"colorbar\": {\"outlinewidth\": 0, \"ticks\": \"\"}}, \"type\": \"scattergeo\"}], \"scattergl\": [{\"marker\": {\"colorbar\": {\"outlinewidth\": 0, \"ticks\": \"\"}}, \"type\": \"scattergl\"}], \"scattermapbox\": [{\"marker\": {\"colorbar\": {\"outlinewidth\": 0, \"ticks\": \"\"}}, \"type\": \"scattermapbox\"}], \"scatterpolar\": [{\"marker\": {\"colorbar\": {\"outlinewidth\": 0, \"ticks\": \"\"}}, \"type\": \"scatterpolar\"}], \"scatterpolargl\": [{\"marker\": {\"colorbar\": {\"outlinewidth\": 0, \"ticks\": \"\"}}, \"type\": \"scatterpolargl\"}], \"scatterternary\": [{\"marker\": {\"colorbar\": {\"outlinewidth\": 0, \"ticks\": \"\"}}, \"type\": \"scatterternary\"}], \"surface\": [{\"colorbar\": {\"outlinewidth\": 0, \"ticks\": \"\"}, \"colorscale\": [[0.0, \"#0d0887\"], [0.1111111111111111, \"#46039f\"], [0.2222222222222222, \"#7201a8\"], [0.3333333333333333, \"#9c179e\"], [0.4444444444444444, \"#bd3786\"], [0.5555555555555556, \"#d8576b\"], [0.6666666666666666, \"#ed7953\"], [0.7777777777777778, \"#fb9f3a\"], [0.8888888888888888, \"#fdca26\"], [1.0, \"#f0f921\"]], \"type\": \"surface\"}], \"table\": [{\"cells\": {\"fill\": {\"color\": \"#EBF0F8\"}, \"line\": {\"color\": \"white\"}}, \"header\": {\"fill\": {\"color\": \"#C8D4E3\"}, \"line\": {\"color\": \"white\"}}, \"type\": \"table\"}]}, \"layout\": {\"annotationdefaults\": {\"arrowcolor\": \"#2a3f5f\", \"arrowhead\": 0, \"arrowwidth\": 1}, \"autotypenumbers\": \"strict\", \"coloraxis\": {\"colorbar\": {\"outlinewidth\": 0, \"ticks\": \"\"}}, \"colorscale\": {\"diverging\": [[0, \"#8e0152\"], [0.1, \"#c51b7d\"], [0.2, \"#de77ae\"], [0.3, \"#f1b6da\"], [0.4, \"#fde0ef\"], [0.5, \"#f7f7f7\"], [0.6, \"#e6f5d0\"], [0.7, \"#b8e186\"], [0.8, \"#7fbc41\"], [0.9, \"#4d9221\"], [1, \"#276419\"]], \"sequential\": [[0.0, \"#0d0887\"], [0.1111111111111111, \"#46039f\"], [0.2222222222222222, \"#7201a8\"], [0.3333333333333333, \"#9c179e\"], [0.4444444444444444, \"#bd3786\"], [0.5555555555555556, \"#d8576b\"], [0.6666666666666666, \"#ed7953\"], [0.7777777777777778, \"#fb9f3a\"], [0.8888888888888888, \"#fdca26\"], [1.0, \"#f0f921\"]], \"sequentialminus\": [[0.0, \"#0d0887\"], [0.1111111111111111, \"#46039f\"], [0.2222222222222222, \"#7201a8\"], [0.3333333333333333, \"#9c179e\"], [0.4444444444444444, \"#bd3786\"], [0.5555555555555556, \"#d8576b\"], [0.6666666666666666, \"#ed7953\"], [0.7777777777777778, \"#fb9f3a\"], [0.8888888888888888, \"#fdca26\"], [1.0, \"#f0f921\"]]}, \"colorway\": [\"#636efa\", \"#EF553B\", \"#00cc96\", \"#ab63fa\", \"#FFA15A\", \"#19d3f3\", \"#FF6692\", \"#B6E880\", \"#FF97FF\", \"#FECB52\"], \"font\": {\"color\": \"#2a3f5f\"}, \"geo\": {\"bgcolor\": \"white\", \"lakecolor\": \"white\", \"landcolor\": \"#E5ECF6\", \"showlakes\": true, \"showland\": true, \"subunitcolor\": \"white\"}, \"hoverlabel\": {\"align\": \"left\"}, \"hovermode\": \"closest\", \"mapbox\": {\"style\": \"light\"}, \"paper_bgcolor\": \"white\", \"plot_bgcolor\": \"#E5ECF6\", \"polar\": {\"angularaxis\": {\"gridcolor\": \"white\", \"linecolor\": \"white\", \"ticks\": \"\"}, \"bgcolor\": \"#E5ECF6\", \"radialaxis\": {\"gridcolor\": \"white\", \"linecolor\": \"white\", \"ticks\": \"\"}}, \"scene\": {\"xaxis\": {\"backgroundcolor\": \"#E5ECF6\", \"gridcolor\": \"white\", \"gridwidth\": 2, \"linecolor\": \"white\", \"showbackground\": true, \"ticks\": \"\", \"zerolinecolor\": \"white\"}, \"yaxis\": {\"backgroundcolor\": \"#E5ECF6\", \"gridcolor\": \"white\", \"gridwidth\": 2, \"linecolor\": \"white\", \"showbackground\": true, \"ticks\": \"\", \"zerolinecolor\": \"white\"}, \"zaxis\": {\"backgroundcolor\": \"#E5ECF6\", \"gridcolor\": \"white\", \"gridwidth\": 2, \"linecolor\": \"white\", \"showbackground\": true, \"ticks\": \"\", \"zerolinecolor\": \"white\"}}, \"shapedefaults\": {\"line\": {\"color\": \"#2a3f5f\"}}, \"ternary\": {\"aaxis\": {\"gridcolor\": \"white\", \"linecolor\": \"white\", \"ticks\": \"\"}, \"baxis\": {\"gridcolor\": \"white\", \"linecolor\": \"white\", \"ticks\": \"\"}, \"bgcolor\": \"#E5ECF6\", \"caxis\": {\"gridcolor\": \"white\", \"linecolor\": \"white\", \"ticks\": \"\"}}, \"title\": {\"x\": 0.05}, \"xaxis\": {\"automargin\": true, \"gridcolor\": \"white\", \"linecolor\": \"white\", \"ticks\": \"\", \"title\": {\"standoff\": 15}, \"zerolinecolor\": \"white\", \"zerolinewidth\": 2}, \"yaxis\": {\"automargin\": true, \"gridcolor\": \"white\", \"linecolor\": \"white\", \"ticks\": \"\", \"title\": {\"standoff\": 15}, \"zerolinecolor\": \"white\", \"zerolinewidth\": 2}}}, \"xaxis\": {\"anchor\": \"y\", \"domain\": [0.0, 0.45], \"title\": {\"text\": \"Epoch\"}}, \"xaxis2\": {\"anchor\": \"y2\", \"domain\": [0.55, 1.0], \"title\": {\"text\": \"Epoch\"}}, \"yaxis\": {\"anchor\": \"x\", \"domain\": [0.0, 1.0], \"range\": [0, 1], \"title\": {\"text\": \"Accuracy\"}}, \"yaxis2\": {\"anchor\": \"x2\", \"domain\": [0.0, 1.0], \"range\": [0, 1], \"title\": {\"text\": \"Loss\"}}},                        {\"responsive\": true}                    ).then(function(){\n",
       "                            \n",
       "var gd = document.getElementById('b83578dd-936b-4217-a7d1-2d261dde4ed2');\n",
       "var x = new MutationObserver(function (mutations, observer) {{\n",
       "        var display = window.getComputedStyle(gd).display;\n",
       "        if (!display || display === 'none') {{\n",
       "            console.log([gd, 'removed!']);\n",
       "            Plotly.purge(gd);\n",
       "            observer.disconnect();\n",
       "        }}\n",
       "}});\n",
       "\n",
       "// Listen for the removal of the full notebook cells\n",
       "var notebookContainer = gd.closest('#notebook-container');\n",
       "if (notebookContainer) {{\n",
       "    x.observe(notebookContainer, {childList: true});\n",
       "}}\n",
       "\n",
       "// Listen for the clearing of the current output cell\n",
       "var outputEl = gd.closest('.output');\n",
       "if (outputEl) {{\n",
       "    x.observe(outputEl, {childList: true});\n",
       "}}\n",
       "\n",
       "                        })                };                });            </script>        </div>"
      ]
     },
     "metadata": {}
    }
   ],
   "metadata": {
    "execution": {
     "iopub.execute_input": "2021-03-23T22:26:23.207695Z",
     "iopub.status.busy": "2021-03-23T22:26:23.207012Z",
     "iopub.status.idle": "2021-03-23T22:26:24.222153Z",
     "shell.execute_reply": "2021-03-23T22:26:24.222678Z"
    },
    "papermill": {
     "duration": 1.748348,
     "end_time": "2021-03-23T22:26:24.222884",
     "exception": false,
     "start_time": "2021-03-23T22:26:22.474536",
     "status": "completed"
    },
    "tags": []
   }
  },
  {
   "cell_type": "markdown",
   "source": [
    "### Confuse matrix"
   ],
   "metadata": {
    "papermill": {
     "duration": 0.795274,
     "end_time": "2021-03-23T22:26:25.760538",
     "exception": false,
     "start_time": "2021-03-23T22:26:24.965264",
     "status": "completed"
    },
    "tags": []
   }
  },
  {
   "cell_type": "code",
   "execution_count": 16,
   "source": [
    "def plot_cm(train, target_train):\n",
    "# Look at confusion matrix \n",
    "# Thanks to https://www.kaggle.com/yassineghouzam/introduction-to-cnn-keras-0-997-top-6\n",
    "\n",
    "    def plot_confusion_matrix(cm, classes,\n",
    "                              normalize=False,\n",
    "                              title='Confusion matrix',\n",
    "                              cmap=plt.cm.Blues):\n",
    "        \"\"\"\n",
    "        This function prints and plots the confusion matrix.\n",
    "        Normalization can be applied by setting `normalize=True`.\n",
    "        \"\"\"\n",
    "        plt.imshow(cm, interpolation='nearest', cmap=cmap)\n",
    "        plt.title(title)\n",
    "        plt.colorbar()\n",
    "        tick_marks = np.arange(len(classes))\n",
    "        plt.xticks(tick_marks, classes, rotation=45)\n",
    "        plt.yticks(tick_marks, classes)\n",
    "\n",
    "        if normalize:\n",
    "            cm = cm.astype('float') / cm.sum(axis=1)[:, np.newaxis]\n",
    "\n",
    "        thresh = cm.max() / 2.\n",
    "        for i, j in itertools.product(range(cm.shape[0]), range(cm.shape[1])):\n",
    "            plt.text(j, i, cm[i, j],\n",
    "                     horizontalalignment=\"center\",\n",
    "                     color=\"white\" if cm[i, j] > thresh else \"black\")\n",
    "\n",
    "        plt.tight_layout()\n",
    "        plt.ylabel('True label')\n",
    "        plt.xlabel('Predicted label')\n",
    "\n",
    "    # Predict the values from the validation dataset\n",
    "    Y_pred = model.predict(train)\n",
    "    # Convert predictions classes to one hot vectors \n",
    "    Y_pred_classes = np.argmax(Y_pred,axis = 1) \n",
    "    # Convert validation observations to one hot vectors\n",
    "    Y_true = np.argmax(target_train,axis = 1) \n",
    "    # compute the confusion matrix\n",
    "    confusion_mtx = confusion_matrix(Y_true, Y_pred_classes) \n",
    "    # plot the confusion matrix\n",
    "    plot_confusion_matrix(confusion_mtx, classes = range(10)) "
   ],
   "outputs": [],
   "metadata": {
    "execution": {
     "iopub.execute_input": "2021-03-23T22:26:27.271769Z",
     "iopub.status.busy": "2021-03-23T22:26:27.271005Z",
     "iopub.status.idle": "2021-03-23T22:26:27.274672Z",
     "shell.execute_reply": "2021-03-23T22:26:27.273982Z"
    },
    "papermill": {
     "duration": 0.759592,
     "end_time": "2021-03-23T22:26:27.274833",
     "exception": false,
     "start_time": "2021-03-23T22:26:26.515241",
     "status": "completed"
    },
    "tags": []
   }
  },
  {
   "cell_type": "code",
   "execution_count": 17,
   "source": [
    "# Draw confusing matrix for training data\n",
    "plot_cm(X_train, Y_train)"
   ],
   "outputs": [
    {
     "output_type": "display_data",
     "data": {
      "image/png": "[encoded data removed]",
      "text/plain": [
       "<Figure size 432x288 with 2 Axes>"
      ]
     },
     "metadata": {
      "needs_background": "light"
     }
    }
   ],
   "metadata": {
    "execution": {
     "iopub.execute_input": "2021-03-23T22:26:28.802396Z",
     "iopub.status.busy": "2021-03-23T22:26:28.801780Z",
     "iopub.status.idle": "2021-03-23T22:26:36.984736Z",
     "shell.execute_reply": "2021-03-23T22:26:36.985294Z"
    },
    "papermill": {
     "duration": 8.926301,
     "end_time": "2021-03-23T22:26:36.985491",
     "exception": false,
     "start_time": "2021-03-23T22:26:28.059190",
     "status": "completed"
    },
    "tags": []
   }
  },
  {
   "cell_type": "code",
   "execution_count": 18,
   "source": [
    "# Draw confusing matrix for test data\n",
    "plot_cm(X_test, Y_test)"
   ],
   "outputs": [
    {
     "output_type": "display_data",
     "data": {
      "image/png": "[encoded data removed]",
      "text/plain": [
       "<Figure size 432x288 with 2 Axes>"
      ]
     },
     "metadata": {
      "needs_background": "light"
     }
    }
   ],
   "metadata": {
    "execution": {
     "iopub.execute_input": "2021-03-23T22:26:38.497829Z",
     "iopub.status.busy": "2021-03-23T22:26:38.497158Z",
     "iopub.status.idle": "2021-03-23T22:26:40.178603Z",
     "shell.execute_reply": "2021-03-23T22:26:40.177986Z"
    },
    "papermill": {
     "duration": 2.432958,
     "end_time": "2021-03-23T22:26:40.178766",
     "exception": false,
     "start_time": "2021-03-23T22:26:37.745808",
     "status": "completed"
    },
    "tags": []
   }
  },
  {
   "cell_type": "markdown",
   "source": [
    "### Outliers analysis"
   ],
   "metadata": {
    "papermill": {
     "duration": 0.855791,
     "end_time": "2021-03-23T22:26:41.833177",
     "exception": false,
     "start_time": "2021-03-23T22:26:40.977386",
     "status": "completed"
    },
    "tags": []
   }
  },
  {
   "cell_type": "code",
   "execution_count": 19,
   "source": [
    "def pred_wrong_display_MNIST_dataset(X_test, predictions, Y_test):\n",
    "    # Displays misclassified digits from MNIST dataset\n",
    "    \n",
    "    X_test_wrong = []\n",
    "    predictions_wrong = []\n",
    "    Y_test_pred = []\n",
    "    for i in range(len(X_test)):\n",
    "        Y_test_pred.append(np.argmax(Y_test[i]))\n",
    "        if predictions[i] != Y_test_pred[i]:\n",
    "            #print(i, predictions[i], Y_test_pred[i])\n",
    "            X_test_wrong.append(X_test[i])\n",
    "            predictions_wrong.append(predictions[i])\n",
    "\n",
    "    plot_images_sample(X_test_wrong, predictions_wrong)\n",
    "        \n",
    "    print('Accuracy is', round(accuracy_score(Y_test_pred, predictions),3))\n",
    "    \n",
    "    return Y_test_pred"
   ],
   "outputs": [],
   "metadata": {
    "execution": {
     "iopub.execute_input": "2021-03-23T22:26:43.642009Z",
     "iopub.status.busy": "2021-03-23T22:26:43.641308Z",
     "iopub.status.idle": "2021-03-23T22:26:43.643888Z",
     "shell.execute_reply": "2021-03-23T22:26:43.644354Z"
    },
    "papermill": {
     "duration": 0.917138,
     "end_time": "2021-03-23T22:26:43.644600",
     "exception": false,
     "start_time": "2021-03-23T22:26:42.727462",
     "status": "completed"
    },
    "tags": []
   }
  },
  {
   "cell_type": "code",
   "execution_count": 20,
   "source": [
    "# Displays misclassified digits from MNIST\n",
    "Y_test_pred = pred_wrong_display_MNIST_dataset(X_test, predictions, Y_test)"
   ],
   "outputs": [
    {
     "output_type": "display_data",
     "data": {
      "image/png": "[encoded data removed]",
      "text/plain": [
       "<Figure size 720x720 with 25 Axes>"
      ]
     },
     "metadata": {}
    },
    {
     "output_type": "stream",
     "name": "stdout",
     "text": [
      "Accuracy is 0.946\n"
     ]
    }
   ],
   "metadata": {
    "execution": {
     "iopub.execute_input": "2021-03-23T22:26:45.325058Z",
     "iopub.status.busy": "2021-03-23T22:26:45.324312Z",
     "iopub.status.idle": "2021-03-23T22:26:46.848431Z",
     "shell.execute_reply": "2021-03-23T22:26:46.849265Z"
    },
    "papermill": {
     "duration": 2.434173,
     "end_time": "2021-03-23T22:26:46.849493",
     "exception": false,
     "start_time": "2021-03-23T22:26:44.415320",
     "status": "completed"
    },
    "tags": []
   }
  },
  {
   "cell_type": "markdown",
   "source": [
    "## 3. User-digits prediction and analyze<a class=\"anchor\" id=\"3\"></a>\n",
    "\n",
    "[Back to Table of Contents](#0.1)"
   ],
   "metadata": {
    "papermill": {
     "duration": 0.894771,
     "end_time": "2021-03-23T22:26:48.647819",
     "exception": false,
     "start_time": "2021-03-23T22:26:47.753048",
     "status": "completed"
    },
    "tags": []
   }
  },
  {
   "cell_type": "markdown",
   "source": [
    "### 3.1. Download data<a class=\"anchor\" id=\"3.1\"></a>\n",
    "\n",
    "[Back to Table of Contents](#0.1)"
   ],
   "metadata": {
    "papermill": {
     "duration": 0.746731,
     "end_time": "2021-03-23T22:26:50.387053",
     "exception": false,
     "start_time": "2021-03-23T22:26:49.640322",
     "status": "completed"
    },
    "tags": []
   }
  },
  {
   "cell_type": "code",
   "execution_count": 21,
   "source": [
    "# Find all images in input folder\n",
    "data_files = []\n",
    "for dirname, _, filenames in os.walk('../input'):\n",
    "    for filename in filenames:\n",
    "        data_files.append(os.path.join(dirname, filename))\n",
    "data_files"
   ],
   "outputs": [
    {
     "output_type": "execute_result",
     "data": {
      "text/plain": [
       "['../input/mnist-models-testing-handwritten-digits/scan_smoothing_6.png',\n",
       " '../input/mnist-models-testing-handwritten-digits/scan_smoothing_4.png',\n",
       " '../input/mnist-models-testing-handwritten-digits/scan_smoothing_2.png',\n",
       " '../input/mnist-models-testing-handwritten-digits/scan_smoothing_5.png',\n",
       " '../input/mnist-models-testing-handwritten-digits/scan_smoothing_3.png',\n",
       " '../input/mnist-models-testing-handwritten-digits/scan_smoothing_1.png',\n",
       " '../input/mnist-models-testing-handwritten-digits/scan_smoothing_0.png',\n",
       " '../input/mnist-models-testing-handwritten-digits/black_marker.jpg',\n",
       " '../input/mnist-models-testing-handwritten-digits/scan_smoothing_7.png',\n",
       " '../input/mnist-models-testing-handwritten-digits/scan_smoothing_9.png',\n",
       " '../input/mnist-models-testing-handwritten-digits/scan_smoothing_8.png',\n",
       " '../input/mnist-original/mnist-original.mat']"
      ]
     },
     "metadata": {},
     "execution_count": 21
    }
   ],
   "metadata": {
    "execution": {
     "iopub.execute_input": "2021-03-23T22:26:52.304068Z",
     "iopub.status.busy": "2021-03-23T22:26:52.303410Z",
     "iopub.status.idle": "2021-03-23T22:26:52.328463Z",
     "shell.execute_reply": "2021-03-23T22:26:52.329100Z"
    },
    "papermill": {
     "duration": 1.162567,
     "end_time": "2021-03-23T22:26:52.329284",
     "exception": false,
     "start_time": "2021-03-23T22:26:51.166717",
     "status": "completed"
    },
    "tags": []
   }
  },
  {
   "cell_type": "markdown",
   "source": [
    "**TASK**: Experiment with different images - see in dataset [MNIST models testing: handwritten digits](https://www.kaggle.com/vbmokin/mnist-models-testing-handwritten-digits)"
   ],
   "metadata": {
    "papermill": {
     "duration": 0.744834,
     "end_time": "2021-03-23T22:26:53.826386",
     "exception": false,
     "start_time": "2021-03-23T22:26:53.081552",
     "status": "completed"
    },
    "tags": []
   }
  },
  {
   "cell_type": "code",
   "execution_count": 22,
   "source": [
    "# Download data\n",
    "image_file = data_files[7]\n",
    "image_test = cv2.imread(image_file)\n",
    "plt.imshow(image_test)\n",
    "plt.show()"
   ],
   "outputs": [
    {
     "output_type": "display_data",
     "data": {
      "image/png": "[encoded data removed]",
      "text/plain": [
       "<Figure size 432x288 with 1 Axes>"
      ]
     },
     "metadata": {
      "needs_background": "light"
     }
    }
   ],
   "metadata": {
    "execution": {
     "iopub.execute_input": "2021-03-23T22:26:55.325583Z",
     "iopub.status.busy": "2021-03-23T22:26:55.323456Z",
     "iopub.status.idle": "2021-03-23T22:26:55.750129Z",
     "shell.execute_reply": "2021-03-23T22:26:55.749468Z"
    },
    "papermill": {
     "duration": 1.176112,
     "end_time": "2021-03-23T22:26:55.750274",
     "exception": false,
     "start_time": "2021-03-23T22:26:54.574162",
     "status": "completed"
    },
    "tags": []
   }
  },
  {
   "cell_type": "markdown",
   "source": [
    "### 3.2. Preprocessing<a class=\"anchor\" id=\"3.2\"></a>\n",
    "\n",
    "[Back to Table of Contents](#0.1)"
   ],
   "metadata": {
    "papermill": {
     "duration": 0.817077,
     "end_time": "2021-03-23T22:26:57.312564",
     "exception": false,
     "start_time": "2021-03-23T22:26:56.495487",
     "status": "completed"
    },
    "tags": []
   }
  },
  {
   "cell_type": "markdown",
   "source": [
    "**TASKS**: Experiment with parameters:\n",
    "* erode_kernel\n",
    "* threshold_basic"
   ],
   "metadata": {
    "papermill": {
     "duration": 0.771341,
     "end_time": "2021-03-23T22:26:58.889816",
     "exception": false,
     "start_time": "2021-03-23T22:26:58.118475",
     "status": "completed"
    },
    "tags": []
   }
  },
  {
   "cell_type": "code",
   "execution_count": 23,
   "source": [
    "def digits_finder(image_file: str, erode_kernel=48, threshold_basic=100, out_size=28):\n",
    "    # Find digits on the image_file and transform it to [-1, out_size, out_size, 1]\n",
    "    \n",
    "    image_test = cv2.imread(image_file)\n",
    "    gray_test = cv2.cvtColor(image_test, cv2.COLOR_BGR2GRAY)\n",
    "    ret, thresh = cv2.threshold(gray_test, threshold_basic, 255, cv2.THRESH_BINARY)\n",
    "    image_erode = cv2.erode(thresh, np.ones((erode_kernel, erode_kernel), np.uint8), iterations=1)\n",
    "\n",
    "    # Find contours\n",
    "    contours, hierarchy = cv2.findContours(image_erode, cv2.RETR_TREE, cv2.CHAIN_APPROX_NONE)\n",
    "    output = image_erode.copy()\n",
    "\n",
    "    digits = []\n",
    "    j = 0\n",
    "    labels = []\n",
    "    for idx, contour in enumerate(contours):\n",
    "        (x, y, w, h) = cv2.boundingRect(contour)\n",
    "        #if (hierarchy[0][idx][3] == 0):\n",
    "        if (hierarchy[0][idx][3] == 0) and (w*h>3000):\n",
    "            cv2.rectangle(output, (x, y), (x + w, y + h), (70, 0, 0), 1)\n",
    "            digit_crop = image_erode[y:y + h, x:x + w]\n",
    "\n",
    "            # Resize digit canvas to square\n",
    "            size_max = max(w, h)\n",
    "            print(j, w*h)\n",
    "            digit_square = 255 * np.ones(shape=[size_max, size_max], dtype=np.uint8)\n",
    "            if w > h:\n",
    "                y_pos = size_max//2 - h//2\n",
    "                digit_square[y_pos:y_pos + h, 0:w] = digit_crop\n",
    "            elif w < h:\n",
    "                x_pos = size_max//2 - w//2\n",
    "                digit_square[0:h, x_pos:x_pos + w] = digit_crop\n",
    "            else:\n",
    "                digit_square = digit_crop\n",
    "            \n",
    "            # Resize digit to 28x28 and add digit and its X-coordinate\n",
    "            digits.append((x,(cv2.resize(digit_square, (out_size, out_size), interpolation=cv2.INTER_AREA))))\n",
    "            labels.append(str(j))\n",
    "            j += 1\n",
    "            \n",
    "\n",
    "    # Sort array in place by X-coordinate\n",
    "    digits.sort(key=lambda x: x[0], reverse=False)\n",
    "    \n",
    "    # Tranform digits to tensor\n",
    "    digits_new =[]\n",
    "    for i in range(len(digits)):\n",
    "        digits_new.append(digits[i][1])\n",
    "    digits_res = np.reshape(digits_new, (j, 28, 28, 1))\n",
    "    digits_res = np.where(digits_res > 225, 255, digits_res)\n",
    "    digits_res = np.where(digits_res < 125, 0, digits_res)\n",
    "\n",
    "    return digits_res, labels"
   ],
   "outputs": [],
   "metadata": {
    "execution": {
     "iopub.execute_input": "2021-03-23T22:27:00.400654Z",
     "iopub.status.busy": "2021-03-23T22:27:00.399556Z",
     "iopub.status.idle": "2021-03-23T22:27:00.402261Z",
     "shell.execute_reply": "2021-03-23T22:27:00.402772Z"
    },
    "papermill": {
     "duration": 0.766735,
     "end_time": "2021-03-23T22:27:00.402952",
     "exception": false,
     "start_time": "2021-03-23T22:26:59.636217",
     "status": "completed"
    },
    "tags": []
   }
  },
  {
   "cell_type": "code",
   "execution_count": 24,
   "source": [
    "# Preprocessing data\n",
    "X_user_test, Y_user_test = digits_finder(image_file, erode_kernel=3, threshold_basic=100)"
   ],
   "outputs": [
    {
     "output_type": "stream",
     "name": "stdout",
     "text": [
      "0 37260\n",
      "1 58380\n",
      "2 51600\n",
      "3 53075\n",
      "4 46978\n",
      "5 52268\n",
      "6 71786\n",
      "7 57024\n",
      "8 65700\n",
      "9 59616\n"
     ]
    }
   ],
   "metadata": {
    "execution": {
     "iopub.execute_input": "2021-03-23T22:27:01.899978Z",
     "iopub.status.busy": "2021-03-23T22:27:01.899331Z",
     "iopub.status.idle": "2021-03-23T22:27:01.989126Z",
     "shell.execute_reply": "2021-03-23T22:27:01.989641Z"
    },
    "papermill": {
     "duration": 0.841598,
     "end_time": "2021-03-23T22:27:01.989829",
     "exception": false,
     "start_time": "2021-03-23T22:27:01.148231",
     "status": "completed"
    },
    "tags": []
   }
  },
  {
   "cell_type": "markdown",
   "source": [
    "### 3.3. EDA & FE<a class=\"anchor\" id=\"3.3\"></a>\n",
    "\n",
    "[Back to Table of Contents](#0.1)"
   ],
   "metadata": {
    "papermill": {
     "duration": 0.786057,
     "end_time": "2021-03-23T22:27:03.519248",
     "exception": false,
     "start_time": "2021-03-23T22:27:02.733191",
     "status": "completed"
    },
    "tags": []
   }
  },
  {
   "cell_type": "code",
   "execution_count": 25,
   "source": [
    "def plot_images_test(X, Y):\n",
    "    # Draw plot for images sample\n",
    "    \n",
    "    plt.figure(figsize=(10,10))\n",
    "    plt.gray()\n",
    "    for i in range(len(Y)):        \n",
    "        plt.subplot(1,len(Y),i+1)\n",
    "        plt.xticks([])\n",
    "        plt.yticks([])\n",
    "        plt.grid(False)\n",
    "        plt.imshow(np.squeeze(X[i]))\n",
    "        plt.xlabel(Y[i])\n",
    "    plt.show()"
   ],
   "outputs": [],
   "metadata": {
    "execution": {
     "iopub.execute_input": "2021-03-23T22:27:05.015171Z",
     "iopub.status.busy": "2021-03-23T22:27:05.014490Z",
     "iopub.status.idle": "2021-03-23T22:27:05.018268Z",
     "shell.execute_reply": "2021-03-23T22:27:05.017742Z"
    },
    "papermill": {
     "duration": 0.757006,
     "end_time": "2021-03-23T22:27:05.018410",
     "exception": false,
     "start_time": "2021-03-23T22:27:04.261404",
     "status": "completed"
    },
    "tags": []
   }
  },
  {
   "cell_type": "code",
   "execution_count": 26,
   "source": [
    "# Draw plot for images sample\n",
    "plot_images_test(X_user_test, Y_user_test)"
   ],
   "outputs": [
    {
     "output_type": "display_data",
     "data": {
      "image/png": "[encoded data removed]",
      "text/plain": [
       "<Figure size 720x720 with 10 Axes>"
      ]
     },
     "metadata": {}
    }
   ],
   "metadata": {
    "execution": {
     "iopub.execute_input": "2021-03-23T22:27:06.583775Z",
     "iopub.status.busy": "2021-03-23T22:27:06.583123Z",
     "iopub.status.idle": "2021-03-23T22:27:06.976335Z",
     "shell.execute_reply": "2021-03-23T22:27:06.975779Z"
    },
    "papermill": {
     "duration": 1.208598,
     "end_time": "2021-03-23T22:27:06.976488",
     "exception": false,
     "start_time": "2021-03-23T22:27:05.767890",
     "status": "completed"
    },
    "tags": []
   }
  },
  {
   "cell_type": "code",
   "execution_count": 27,
   "source": [
    "# FE\n",
    "X_user_test, Y_user_test = fe_data(X_user_test, Y_user_test)"
   ],
   "outputs": [],
   "metadata": {
    "execution": {
     "iopub.execute_input": "2021-03-23T22:27:08.475791Z",
     "iopub.status.busy": "2021-03-23T22:27:08.475153Z",
     "iopub.status.idle": "2021-03-23T22:27:08.478581Z",
     "shell.execute_reply": "2021-03-23T22:27:08.477977Z"
    },
    "papermill": {
     "duration": 0.758436,
     "end_time": "2021-03-23T22:27:08.478744",
     "exception": false,
     "start_time": "2021-03-23T22:27:07.720308",
     "status": "completed"
    },
    "tags": []
   }
  },
  {
   "cell_type": "markdown",
   "source": [
    "### 3.4. Prediction<a class=\"anchor\" id=\"3.4\"></a>\n",
    "\n",
    "[Back to Table of Contents](#0.1)"
   ],
   "metadata": {
    "papermill": {
     "duration": 0.74745,
     "end_time": "2021-03-23T22:27:09.970100",
     "exception": false,
     "start_time": "2021-03-23T22:27:09.222650",
     "status": "completed"
    },
    "tags": []
   }
  },
  {
   "cell_type": "code",
   "execution_count": 28,
   "source": [
    "# Color inversion \n",
    "X_user_test = 1-X_user_test"
   ],
   "outputs": [],
   "metadata": {
    "execution": {
     "iopub.execute_input": "2021-03-23T22:27:11.466938Z",
     "iopub.status.busy": "2021-03-23T22:27:11.466208Z",
     "iopub.status.idle": "2021-03-23T22:27:11.469076Z",
     "shell.execute_reply": "2021-03-23T22:27:11.468493Z"
    },
    "papermill": {
     "duration": 0.753509,
     "end_time": "2021-03-23T22:27:11.469211",
     "exception": false,
     "start_time": "2021-03-23T22:27:10.715702",
     "status": "completed"
    },
    "tags": []
   }
  },
  {
   "cell_type": "code",
   "execution_count": 29,
   "source": [
    "# Prediction and display it\n",
    "predictions_user = get_predictions(X_user_test)\n",
    "plot_images_test(X_user_test, predictions_user)"
   ],
   "outputs": [
    {
     "output_type": "display_data",
     "data": {
      "image/png": "[encoded data removed]",
      "text/plain": [
       "<Figure size 720x720 with 10 Axes>"
      ]
     },
     "metadata": {}
    }
   ],
   "metadata": {
    "execution": {
     "iopub.execute_input": "2021-03-23T22:27:12.968838Z",
     "iopub.status.busy": "2021-03-23T22:27:12.968202Z",
     "iopub.status.idle": "2021-03-23T22:27:13.415394Z",
     "shell.execute_reply": "2021-03-23T22:27:13.414759Z"
    },
    "papermill": {
     "duration": 1.20127,
     "end_time": "2021-03-23T22:27:13.415556",
     "exception": false,
     "start_time": "2021-03-23T22:27:12.214286",
     "status": "completed"
    },
    "tags": []
   }
  },
  {
   "cell_type": "markdown",
   "source": [
    "### 3.5. Results visualization: confusing matrix, outliers<a class=\"anchor\" id=\"3.5\"></a>\n",
    "\n",
    "[Back to Table of Contents](#0.1)"
   ],
   "metadata": {
    "papermill": {
     "duration": 0.749797,
     "end_time": "2021-03-23T22:27:14.979957",
     "exception": false,
     "start_time": "2021-03-23T22:27:14.230160",
     "status": "completed"
    },
    "tags": []
   }
  },
  {
   "cell_type": "code",
   "execution_count": 30,
   "source": [
    "plot_cm(X_user_test, Y_user_test)"
   ],
   "outputs": [
    {
     "output_type": "display_data",
     "data": {
      "image/png": "[encoded data removed]",
      "text/plain": [
       "<Figure size 432x288 with 2 Axes>"
      ]
     },
     "metadata": {
      "needs_background": "light"
     }
    }
   ],
   "metadata": {
    "execution": {
     "iopub.execute_input": "2021-03-23T22:27:16.486437Z",
     "iopub.status.busy": "2021-03-23T22:27:16.485836Z",
     "iopub.status.idle": "2021-03-23T22:27:17.356505Z",
     "shell.execute_reply": "2021-03-23T22:27:17.357018Z"
    },
    "papermill": {
     "duration": 1.625267,
     "end_time": "2021-03-23T22:27:17.357193",
     "exception": false,
     "start_time": "2021-03-23T22:27:15.731926",
     "status": "completed"
    },
    "tags": []
   }
  },
  {
   "cell_type": "code",
   "execution_count": 31,
   "source": [
    "def pred_wrong_display_for_user_dataset(X_test, predictions, Y_test):\n",
    "    # Displays misclassified digits from user's dataset\n",
    "    \n",
    "    X_test_wrong = []\n",
    "    predictions_wrong = []\n",
    "    Y_test_pred = []\n",
    "    for i in range(len(X_test)):\n",
    "        Y_test_pred.append(np.argmax(Y_test[i]))\n",
    "        if predictions[i] != Y_test_pred[i]:\n",
    "            #print(i, predictions[i], Y_test_pred[i])\n",
    "            X_test_wrong.append(X_test[i])\n",
    "            predictions_wrong.append(predictions[i])\n",
    "\n",
    "    plot_images_test(X_test_wrong, predictions_wrong)\n",
    "        \n",
    "    print('Accuracy is', round(accuracy_score(Y_test_pred, predictions),3))\n",
    "    \n",
    "    return Y_test_pred"
   ],
   "outputs": [],
   "metadata": {
    "execution": {
     "iopub.execute_input": "2021-03-23T22:27:18.854700Z",
     "iopub.status.busy": "2021-03-23T22:27:18.853769Z",
     "iopub.status.idle": "2021-03-23T22:27:18.862445Z",
     "shell.execute_reply": "2021-03-23T22:27:18.861904Z"
    },
    "papermill": {
     "duration": 0.757459,
     "end_time": "2021-03-23T22:27:18.862627",
     "exception": false,
     "start_time": "2021-03-23T22:27:18.105168",
     "status": "completed"
    },
    "tags": []
   }
  },
  {
   "cell_type": "code",
   "execution_count": 32,
   "source": [
    "Y_user_test_pred = pred_wrong_display_for_user_dataset(X_user_test, predictions_user, Y_user_test)"
   ],
   "outputs": [
    {
     "output_type": "display_data",
     "data": {
      "image/png": "[encoded data removed]",
      "text/plain": [
       "<Figure size 720x720 with 5 Axes>"
      ]
     },
     "metadata": {}
    },
    {
     "output_type": "stream",
     "name": "stdout",
     "text": [
      "Accuracy is 0.5\n"
     ]
    }
   ],
   "metadata": {
    "execution": {
     "iopub.execute_input": "2021-03-23T22:27:20.387647Z",
     "iopub.status.busy": "2021-03-23T22:27:20.386927Z",
     "iopub.status.idle": "2021-03-23T22:27:20.583103Z",
     "shell.execute_reply": "2021-03-23T22:27:20.582615Z"
    },
    "papermill": {
     "duration": 0.963921,
     "end_time": "2021-03-23T22:27:20.583254",
     "exception": false,
     "start_time": "2021-03-23T22:27:19.619333",
     "status": "completed"
    },
    "tags": []
   }
  },
  {
   "cell_type": "markdown",
   "source": [
    "### Tensor values output"
   ],
   "metadata": {
    "papermill": {
     "duration": 0.753041,
     "end_time": "2021-03-23T22:27:22.083023",
     "exception": false,
     "start_time": "2021-03-23T22:27:21.329982",
     "status": "completed"
    },
    "tags": []
   }
  },
  {
   "cell_type": "markdown",
   "source": [
    "MNIST"
   ],
   "metadata": {
    "papermill": {
     "duration": 0.746464,
     "end_time": "2021-03-23T22:27:23.616372",
     "exception": false,
     "start_time": "2021-03-23T22:27:22.869908",
     "status": "completed"
    },
    "tags": []
   }
  },
  {
   "cell_type": "code",
   "execution_count": 33,
   "source": [
    "X_train[100][6]"
   ],
   "outputs": [
    {
     "output_type": "execute_result",
     "data": {
      "text/plain": [
       "array([[0.],\n",
       "       [0.],\n",
       "       [0.],\n",
       "       [0.],\n",
       "       [0.],\n",
       "       [0.],\n",
       "       [0.],\n",
       "       [0.],\n",
       "       [0.],\n",
       "       [0.],\n",
       "       [0.],\n",
       "       [0.],\n",
       "       [0.],\n",
       "       [0.],\n",
       "       [0.],\n",
       "       [0.],\n",
       "       [0.],\n",
       "       [0.],\n",
       "       [0.],\n",
       "       [0.],\n",
       "       [0.],\n",
       "       [0.],\n",
       "       [0.],\n",
       "       [0.],\n",
       "       [0.],\n",
       "       [0.],\n",
       "       [0.],\n",
       "       [0.]])"
      ]
     },
     "metadata": {},
     "execution_count": 33
    }
   ],
   "metadata": {
    "execution": {
     "iopub.execute_input": "2021-03-23T22:27:25.158217Z",
     "iopub.status.busy": "2021-03-23T22:27:25.157231Z",
     "iopub.status.idle": "2021-03-23T22:27:25.160995Z",
     "shell.execute_reply": "2021-03-23T22:27:25.161465Z"
    },
    "papermill": {
     "duration": 0.798671,
     "end_time": "2021-03-23T22:27:25.161663",
     "exception": false,
     "start_time": "2021-03-23T22:27:24.362992",
     "status": "completed"
    },
    "tags": []
   }
  },
  {
   "cell_type": "markdown",
   "source": [
    "User's dataset"
   ],
   "metadata": {
    "papermill": {
     "duration": 0.75017,
     "end_time": "2021-03-23T22:27:26.660035",
     "exception": false,
     "start_time": "2021-03-23T22:27:25.909865",
     "status": "completed"
    },
    "tags": []
   }
  },
  {
   "cell_type": "code",
   "execution_count": 34,
   "source": [
    "X_user_test[0][6]"
   ],
   "outputs": [
    {
     "output_type": "execute_result",
     "data": {
      "text/plain": [
       "array([[0.        ],\n",
       "       [0.        ],\n",
       "       [0.        ],\n",
       "       [0.        ],\n",
       "       [0.        ],\n",
       "       [0.        ],\n",
       "       [0.        ],\n",
       "       [0.12941176],\n",
       "       [1.        ],\n",
       "       [1.        ],\n",
       "       [1.        ],\n",
       "       [1.        ],\n",
       "       [1.        ],\n",
       "       [1.        ],\n",
       "       [1.        ],\n",
       "       [0.28627451],\n",
       "       [0.        ],\n",
       "       [0.        ],\n",
       "       [0.        ],\n",
       "       [0.        ],\n",
       "       [0.17647059],\n",
       "       [1.        ],\n",
       "       [1.        ],\n",
       "       [1.        ],\n",
       "       [1.        ],\n",
       "       [1.        ],\n",
       "       [0.21960784],\n",
       "       [0.        ]])"
      ]
     },
     "metadata": {},
     "execution_count": 34
    }
   ],
   "metadata": {
    "execution": {
     "iopub.execute_input": "2021-03-23T22:27:28.169561Z",
     "iopub.status.busy": "2021-03-23T22:27:28.168502Z",
     "iopub.status.idle": "2021-03-23T22:27:28.172759Z",
     "shell.execute_reply": "2021-03-23T22:27:28.173259Z"
    },
    "papermill": {
     "duration": 0.763894,
     "end_time": "2021-03-23T22:27:28.173459",
     "exception": false,
     "start_time": "2021-03-23T22:27:27.409565",
     "status": "completed"
    },
    "tags": []
   }
  },
  {
   "cell_type": "code",
   "execution_count": 35,
   "source": [
    "X_user_test[1][6]"
   ],
   "outputs": [
    {
     "output_type": "execute_result",
     "data": {
      "text/plain": [
       "array([[0.        ],\n",
       "       [0.        ],\n",
       "       [0.        ],\n",
       "       [0.        ],\n",
       "       [0.        ],\n",
       "       [0.        ],\n",
       "       [0.        ],\n",
       "       [0.        ],\n",
       "       [0.        ],\n",
       "       [0.        ],\n",
       "       [0.        ],\n",
       "       [0.23921569],\n",
       "       [1.        ],\n",
       "       [1.        ],\n",
       "       [1.        ],\n",
       "       [1.        ],\n",
       "       [1.        ],\n",
       "       [1.        ],\n",
       "       [1.        ],\n",
       "       [0.        ],\n",
       "       [0.        ],\n",
       "       [0.        ],\n",
       "       [0.        ],\n",
       "       [0.        ],\n",
       "       [0.        ],\n",
       "       [0.        ],\n",
       "       [0.        ],\n",
       "       [0.        ]])"
      ]
     },
     "metadata": {},
     "execution_count": 35
    }
   ],
   "metadata": {
    "execution": {
     "iopub.execute_input": "2021-03-23T22:27:29.703191Z",
     "iopub.status.busy": "2021-03-23T22:27:29.702254Z",
     "iopub.status.idle": "2021-03-23T22:27:29.710064Z",
     "shell.execute_reply": "2021-03-23T22:27:29.710625Z"
    },
    "papermill": {
     "duration": 0.789503,
     "end_time": "2021-03-23T22:27:29.710810",
     "exception": false,
     "start_time": "2021-03-23T22:27:28.921307",
     "status": "completed"
    },
    "tags": []
   }
  },
  {
   "cell_type": "code",
   "execution_count": 36,
   "source": [
    "X_user_test[9][6]"
   ],
   "outputs": [
    {
     "output_type": "execute_result",
     "data": {
      "text/plain": [
       "array([[0.        ],\n",
       "       [0.        ],\n",
       "       [0.        ],\n",
       "       [0.        ],\n",
       "       [0.        ],\n",
       "       [0.        ],\n",
       "       [0.47058824],\n",
       "       [1.        ],\n",
       "       [1.        ],\n",
       "       [1.        ],\n",
       "       [1.        ],\n",
       "       [0.50980392],\n",
       "       [0.        ],\n",
       "       [0.        ],\n",
       "       [0.        ],\n",
       "       [0.        ],\n",
       "       [0.        ],\n",
       "       [1.        ],\n",
       "       [1.        ],\n",
       "       [1.        ],\n",
       "       [1.        ],\n",
       "       [0.20784314],\n",
       "       [0.        ],\n",
       "       [0.        ],\n",
       "       [0.        ],\n",
       "       [0.        ],\n",
       "       [0.        ],\n",
       "       [0.        ]])"
      ]
     },
     "metadata": {},
     "execution_count": 36
    }
   ],
   "metadata": {
    "execution": {
     "iopub.execute_input": "2021-03-23T22:27:31.246978Z",
     "iopub.status.busy": "2021-03-23T22:27:31.246124Z",
     "iopub.status.idle": "2021-03-23T22:27:31.254974Z",
     "shell.execute_reply": "2021-03-23T22:27:31.254117Z"
    },
    "papermill": {
     "duration": 0.765573,
     "end_time": "2021-03-23T22:27:31.255164",
     "exception": false,
     "start_time": "2021-03-23T22:27:30.489591",
     "status": "completed"
    },
    "tags": []
   }
  },
  {
   "cell_type": "markdown",
   "source": [
    "I hope you find this notebook useful and enjoyable.\n",
    "\n",
    "Your comments and feedback are most welcome.\n",
    "\n",
    "[Go to Top](#0)"
   ],
   "metadata": {
    "papermill": {
     "duration": 0.75145,
     "end_time": "2021-03-23T22:27:32.803855",
     "exception": false,
     "start_time": "2021-03-23T22:27:32.052405",
     "status": "completed"
    },
    "tags": []
   }
  }
 ],
 "metadata": {
  "kernelspec": {
   "display_name": "Python 3",
   "language": "python",
   "name": "python3"
  },
  "language_info": {
   "codemirror_mode": {
    "name": "ipython",
    "version": 3
   },
   "file_extension": ".py",
   "mimetype": "text/x-python",
   "name": "python",
   "nbconvert_exporter": "python",
   "pygments_lexer": "ipython3",
   "version": "3.7.9"
  },
  "papermill": {
   "default_parameters": {},
   "duration": 250.25041,
   "end_time": "2021-03-23T22:27:35.076377",
   "environment_variables": {},
   "exception": null,
   "input_path": "__notebook__.ipynb",
   "output_path": "__notebook__.ipynb",
   "parameters": {},
   "start_time": "2021-03-23T22:23:24.825967",
   "version": "2.2.2"
  }
 },
 "nbformat": 4,
 "nbformat_minor": 4
}